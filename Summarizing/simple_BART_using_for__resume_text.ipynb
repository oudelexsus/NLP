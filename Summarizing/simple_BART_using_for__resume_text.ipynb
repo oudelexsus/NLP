{
 "cells": [
  {
   "cell_type": "markdown",
   "metadata": {},
   "source": [
    "# Контекст\n",
    "\n",
    "Простейшее резюмирование текста на основе модели distilbart-cnn-12-6"
   ]
  },
  {
   "cell_type": "code",
   "execution_count": 9,
   "metadata": {},
   "outputs": [],
   "source": [
    "from transformers import AutoModel,\\\n",
    "                         pipeline,\\\n",
    "                         BartTokenizer,\\\n",
    "                         BartForConditionalGeneration\n",
    "\n",
    "import pprint"
   ]
  },
  {
   "cell_type": "code",
   "execution_count": 10,
   "metadata": {},
   "outputs": [],
   "source": [
    "# AutoModel.from_pretrained('facebook/bart-large')"
   ]
  },
  {
   "cell_type": "code",
   "execution_count": 11,
   "metadata": {},
   "outputs": [
    {
     "name": "stderr",
     "output_type": "stream",
     "text": [
      "No model was supplied, defaulted to sshleifer/distilbart-cnn-12-6 and revision a4f8f3e (https://huggingface.co/sshleifer/distilbart-cnn-12-6).\n",
      "Using a pipeline without specifying a model name and revision in production is not recommended.\n"
     ]
    }
   ],
   "source": [
    "summarizer = pipeline('summarization')"
   ]
  },
  {
   "cell_type": "code",
   "execution_count": 12,
   "metadata": {},
   "outputs": [
    {
     "name": "stdout",
     "output_type": "stream",
     "text": [
      "(' Customers are complaining and bringing them back and we are having to put new jewelry in their '\n",
      " 'holes . You cannot sterilize these in an autoclave because it heats up too much and the glue '\n",
      " 'does not hold up so the second group of these that we used I did not sterilize them that way . '\n",
      " 'Do not waste your money on this particular product .')\n"
     ]
    }
   ],
   "source": [
    "model = BartForConditionalGeneration.from_pretrained('sshleifer/distilbart-cnn-12-6')\n",
    "tokenizer = BartTokenizer.from_pretrained('sshleifer/distilbart-cnn-12-6')\n",
    "\n",
    "nlp = pipeline(\n",
    "    'summarization',\n",
    "    model = model,\n",
    "    tokenizer = tokenizer\n",
    ")\n",
    "\n",
    "\n",
    "text = '''  \n",
    "We order two different types of jewelry from this\n",
    "company the other jewelry we order is perfect.\n",
    "However with this jewelry I have a few things I\n",
    "don't like. The little Stone comes out of these\n",
    "and customers are complaining and bringing them\n",
    "back and we are having to put new jewelry in their\n",
    "holes. You cannot sterilize these in an autoclave\n",
    "as well because it heats up too much and the glue\n",
    "does not hold up so the second group of these that\n",
    "we used I did not sterilize them that way and the\n",
    "stones still came out. When I use a dermal clamp\n",
    "to put the top on the stones come out immediately.\n",
    "DO not waste your money on this particular product\n",
    "buy the three mm. that has the claws that hold the\n",
    "jewelry in those are perfect. So now I'm stuck\n",
    "with jewelry that I can't sell not good for\n",
    "business.\n",
    "'''\n",
    "\n",
    "\n",
    "q = nlp(text)\n",
    "\n",
    "pp = pprint.PrettyPrinter(indent = 0,\n",
    "                          width = 100)\n",
    "\n",
    "pp.pprint(q[0]['summary_text'])\n"
   ]
  }
 ],
 "metadata": {
  "kernelspec": {
   "display_name": "newenv",
   "language": "python",
   "name": "python3"
  },
  "language_info": {
   "codemirror_mode": {
    "name": "ipython",
    "version": 3
   },
   "file_extension": ".py",
   "mimetype": "text/x-python",
   "name": "python",
   "nbconvert_exporter": "python",
   "pygments_lexer": "ipython3",
   "version": "3.10.13"
  }
 },
 "nbformat": 4,
 "nbformat_minor": 2
}
