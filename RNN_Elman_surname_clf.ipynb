{
 "cells": [
  {
   "cell_type": "markdown",
   "metadata": {},
   "source": [
    "# Контекст\n",
    "\n",
    "- Классификация фамилий по национальностям\n",
    "- Национальность - метка (OneHot вектор)\n",
    "- Векторизация фамилий:\n",
    "    - Рассматривам фамилию как последовательность символов (кодируем их индексами из словаря)\n",
    "    - Дополнительные токены UNK, MASK, BEGIN-OF-SEQUENCE и END-OF-SEQUENCE\n",
    "\n",
    "# Особенности RNN Элмана\n",
    "\n",
    "- добавление скрытого слоя (hidden layer) между входным и рекуррентным слоями\n",
    "- обратная связь (feedback) передается не только в виде скрытого состояния в момент времени t, но также копируется и передается с задержкой на следующий момент времени t+1\n",
    "- обладает внутренней памятью благодаря скрытому состоянию, которое сохраняет информацию о предыдущих состояниях сети\n"
   ]
  },
  {
   "cell_type": "code",
   "execution_count": 1,
   "metadata": {},
   "outputs": [
    {
     "name": "stderr",
     "output_type": "stream",
     "text": [
      "c:\\Users\\oudel\\anaconda3\\envs\\newenv\\lib\\site-packages\\scipy\\__init__.py:155: UserWarning: A NumPy version >=1.18.5 and <1.26.0 is required for this version of SciPy (detected version 1.26.2\n",
      "  warnings.warn(f\"A NumPy version >={np_minversion} and <{np_maxversion}\"\n"
     ]
    },
    {
     "name": "stdout",
     "output_type": "stream",
     "text": [
      "CUDA ?:  True\n"
     ]
    }
   ],
   "source": [
    "# база\n",
    "import pandas as pd\n",
    "import warnings\n",
    "import numpy as np\n",
    "import json\n",
    "import time\n",
    "\n",
    "# визуализация\n",
    "import seaborn as sns\n",
    "import matplotlib.pyplot as plt\n",
    "\n",
    "# nltk\n",
    "from nltk.lm import Vocabulary\n",
    "\n",
    "# pytorch\n",
    "import torch\n",
    "import torch.nn as nn\n",
    "import torch.nn.functional as F\n",
    "from torch.utils.data import Dataset, DataLoader\n",
    "\n",
    "# метрика\n",
    "from sklearn.metrics import f1_score\n",
    "from sklearn.metrics import confusion_matrix\n",
    "\n",
    "# константы\n",
    "RANDOM_STATE = 42\n",
    "warnings.filterwarnings(\"ignore\")\n",
    "path = 'surnames_with_splits.csv'\n",
    "device = torch.device('cuda' if torch.cuda.is_available() else 'cpu')\n",
    "print('CUDA ?: ', torch.cuda.is_available())"
   ]
  },
  {
   "cell_type": "code",
   "execution_count": 2,
   "metadata": {},
   "outputs": [
    {
     "data": {
      "text/html": [
       "<div>\n",
       "<style scoped>\n",
       "    .dataframe tbody tr th:only-of-type {\n",
       "        vertical-align: middle;\n",
       "    }\n",
       "\n",
       "    .dataframe tbody tr th {\n",
       "        vertical-align: top;\n",
       "    }\n",
       "\n",
       "    .dataframe thead th {\n",
       "        text-align: right;\n",
       "    }\n",
       "</style>\n",
       "<table border=\"1\" class=\"dataframe\">\n",
       "  <thead>\n",
       "    <tr style=\"text-align: right;\">\n",
       "      <th></th>\n",
       "      <th>nationality</th>\n",
       "      <th>nationality_index</th>\n",
       "      <th>split</th>\n",
       "      <th>surname</th>\n",
       "    </tr>\n",
       "  </thead>\n",
       "  <tbody>\n",
       "    <tr>\n",
       "      <th>0</th>\n",
       "      <td>Arabic</td>\n",
       "      <td>15</td>\n",
       "      <td>train</td>\n",
       "      <td>Totah</td>\n",
       "    </tr>\n",
       "    <tr>\n",
       "      <th>1</th>\n",
       "      <td>Arabic</td>\n",
       "      <td>15</td>\n",
       "      <td>train</td>\n",
       "      <td>Abboud</td>\n",
       "    </tr>\n",
       "    <tr>\n",
       "      <th>2</th>\n",
       "      <td>Arabic</td>\n",
       "      <td>15</td>\n",
       "      <td>train</td>\n",
       "      <td>Fakhoury</td>\n",
       "    </tr>\n",
       "    <tr>\n",
       "      <th>3</th>\n",
       "      <td>Arabic</td>\n",
       "      <td>15</td>\n",
       "      <td>train</td>\n",
       "      <td>Srour</td>\n",
       "    </tr>\n",
       "    <tr>\n",
       "      <th>4</th>\n",
       "      <td>Arabic</td>\n",
       "      <td>15</td>\n",
       "      <td>train</td>\n",
       "      <td>Sayegh</td>\n",
       "    </tr>\n",
       "  </tbody>\n",
       "</table>\n",
       "</div>"
      ],
      "text/plain": [
       "  nationality  nationality_index  split   surname\n",
       "0      Arabic                 15  train     Totah\n",
       "1      Arabic                 15  train    Abboud\n",
       "2      Arabic                 15  train  Fakhoury\n",
       "3      Arabic                 15  train     Srour\n",
       "4      Arabic                 15  train    Sayegh"
      ]
     },
     "execution_count": 2,
     "metadata": {},
     "output_type": "execute_result"
    }
   ],
   "source": [
    "data = pd.read_csv(path)\n",
    "data.head()"
   ]
  },
  {
   "cell_type": "code",
   "execution_count": 3,
   "metadata": {},
   "outputs": [
    {
     "data": {
      "text/plain": [
       "['Arabic',\n",
       " 'Chinese',\n",
       " 'Czech',\n",
       " 'Dutch',\n",
       " 'English',\n",
       " 'French',\n",
       " 'German',\n",
       " 'Greek',\n",
       " 'Irish',\n",
       " 'Italian',\n",
       " 'Japanese',\n",
       " 'Korean',\n",
       " 'Polish',\n",
       " 'Portuguese',\n",
       " 'Russian',\n",
       " 'Scottish',\n",
       " 'Spanish',\n",
       " 'Vietnamese']"
      ]
     },
     "execution_count": 3,
     "metadata": {},
     "output_type": "execute_result"
    }
   ],
   "source": [
    "train = data[data['split'] == 'train']['nationality']\n",
    "sorted(train.unique())"
   ]
  },
  {
   "cell_type": "markdown",
   "metadata": {},
   "source": [
    "# Vocabulary"
   ]
  },
  {
   "cell_type": "code",
   "execution_count": 4,
   "metadata": {},
   "outputs": [],
   "source": [
    "class SurnameVocabulary(object):\n",
    "    def __init__(self, path):\n",
    "        df = pd.read_csv(path)\n",
    "        \n",
    "        self.max_len = 0\n",
    "        for surname in df['surname']:\n",
    "               len_surname = len(surname)\n",
    "               if len_surname > self.max_len:\n",
    "                      self.max_len = len_surname\n",
    "\n",
    "        df = df[df['split'] == 'train']\n",
    "        self.nationality = df['nationality']\n",
    "        self.surname= df['surname']\n",
    "\n",
    "\n",
    "    def create_vocabs(self):\n",
    "        # Surname словари\n",
    "        all_tokens = list(''.join(self.surname))\n",
    "        unique_tokens = set(all_tokens)\n",
    "        count_tokens = pd.Series(all_tokens).value_counts().reset_index()\n",
    "        rare_tokens = count_tokens[count_tokens['count'] == 1]\n",
    "        rare_tokens = rare_tokens['index']\n",
    "        unique_tokens_wot_rare = [token for token in list(unique_tokens) if token not in rare_tokens.to_list()]\n",
    "        unique_tokens_wot_rare = sorted(unique_tokens_wot_rare)\n",
    "        unique_tokens = ['<MASK>'] + unique_tokens_wot_rare + ['<BEGIN>', '<END>', '<UNK>']\n",
    "        self.vocab_token_index = dict(zip(unique_tokens,\n",
    "                                          [int(i) for i in np.arange(0, len(unique_tokens))]))\n",
    "        self.vocab_index_token = {}\n",
    "        for token, index in self.vocab_token_index.items():\n",
    "            self.vocab_index_token[index] = token\n",
    "        \n",
    "        # Nationality словари\n",
    "        self.nationality = sorted(self.nationality.unique())\n",
    "        self.vocab_nationality_index = dict(zip(self.nationality,\n",
    "                                                [int(i) for i in np.arange(0, len(self.nationality))]))\n",
    "        self.vocab_index_nationality = {}\n",
    "        for nationality, index in self.vocab_nationality_index.items():\n",
    "            self.vocab_index_nationality[index] = nationality\n",
    "\n",
    "        return self.vocab_token_index,\\\n",
    "               self.vocab_index_token,\\\n",
    "               self.vocab_nationality_index,\\\n",
    "               self.vocab_index_nationality\n",
    "        \n",
    "    def save_vocabs(self):\n",
    "        with open('vocab_token_to_index.json', 'w') as file:\n",
    "                    json.dump(self.vocab_token_index, file)\n",
    "        with open('vocab_index_to_token.json', 'w') as file:\n",
    "                    json.dump(self.vocab_index_token, file)\n",
    "        with open('vocab_nationality_to_index.json', 'w') as file:\n",
    "                    json.dump(self.vocab_nationality_index, file)\n",
    "        with open('vocab_index_to_nationality.json', 'w') as file:\n",
    "                    json.dump(self.vocab_index_nationality, file)\n",
    "        print('Словари сохранены в открытой директории')\n",
    "\n",
    "    def return_index(self, token):\n",
    "           return self.vocab_token_index.get(token)\n",
    "    \n",
    "    def return_token(self, index):\n",
    "           return self.vocab_token_index.get(index)\n",
    "    \n",
    "    def len_surname_vocab(self):\n",
    "           return len(self.vocab_token_index)\n",
    "    \n",
    "    def len_nationality_vocab(self):\n",
    "           return len(self.vocab_nationality_index)"
   ]
  },
  {
   "cell_type": "markdown",
   "metadata": {},
   "source": [
    "Проверка работоспособности класса Vocabulary"
   ]
  },
  {
   "cell_type": "code",
   "execution_count": 5,
   "metadata": {},
   "outputs": [
    {
     "name": "stdout",
     "output_type": "stream",
     "text": [
      "Словари сохранены в открытой директории\n"
     ]
    },
    {
     "data": {
      "text/plain": [
       "{'<MASK>': 0,\n",
       " \"'\": 1,\n",
       " '-': 2,\n",
       " '1': 3,\n",
       " 'A': 4,\n",
       " 'B': 5,\n",
       " 'C': 6,\n",
       " 'D': 7,\n",
       " 'E': 8,\n",
       " 'F': 9,\n",
       " 'G': 10,\n",
       " 'H': 11,\n",
       " 'I': 12,\n",
       " 'J': 13,\n",
       " 'K': 14,\n",
       " 'L': 15,\n",
       " 'M': 16,\n",
       " 'N': 17,\n",
       " 'O': 18,\n",
       " 'P': 19,\n",
       " 'Q': 20,\n",
       " 'R': 21,\n",
       " 'S': 22,\n",
       " 'T': 23,\n",
       " 'U': 24,\n",
       " 'V': 25,\n",
       " 'W': 26,\n",
       " 'X': 27,\n",
       " 'Y': 28,\n",
       " 'Z': 29,\n",
       " 'a': 30,\n",
       " 'b': 31,\n",
       " 'c': 32,\n",
       " 'd': 33,\n",
       " 'e': 34,\n",
       " 'f': 35,\n",
       " 'g': 36,\n",
       " 'h': 37,\n",
       " 'i': 38,\n",
       " 'j': 39,\n",
       " 'k': 40,\n",
       " 'l': 41,\n",
       " 'm': 42,\n",
       " 'n': 43,\n",
       " 'o': 44,\n",
       " 'p': 45,\n",
       " 'q': 46,\n",
       " 'r': 47,\n",
       " 's': 48,\n",
       " 't': 49,\n",
       " 'u': 50,\n",
       " 'v': 51,\n",
       " 'w': 52,\n",
       " 'x': 53,\n",
       " 'y': 54,\n",
       " 'z': 55,\n",
       " 'ß': 56,\n",
       " 'à': 57,\n",
       " 'á': 58,\n",
       " 'ä': 59,\n",
       " 'è': 60,\n",
       " 'é': 61,\n",
       " 'í': 62,\n",
       " 'ñ': 63,\n",
       " 'ò': 64,\n",
       " 'ó': 65,\n",
       " 'ö': 66,\n",
       " 'ú': 67,\n",
       " 'ü': 68,\n",
       " 'Ś': 69,\n",
       " '<BEGIN>': 70,\n",
       " '<END>': 71,\n",
       " '<UNK>': 72}"
      ]
     },
     "execution_count": 5,
     "metadata": {},
     "output_type": "execute_result"
    }
   ],
   "source": [
    "vocabulary = SurnameVocabulary(path)\n",
    "vocab_token_index,vocab_index_token,vocab_nationality_index, vocab_index_nationality =\\\n",
    "vocabulary.create_vocabs()\n",
    "vocabulary.save_vocabs()\n",
    "\n",
    "vocab_token_index"
   ]
  },
  {
   "cell_type": "code",
   "execution_count": 6,
   "metadata": {},
   "outputs": [
    {
     "data": {
      "text/plain": [
       "17"
      ]
     },
     "execution_count": 6,
     "metadata": {},
     "output_type": "execute_result"
    }
   ],
   "source": [
    "vocabulary.max_len"
   ]
  },
  {
   "cell_type": "markdown",
   "metadata": {},
   "source": [
    "# Dataset"
   ]
  },
  {
   "cell_type": "code",
   "execution_count": 7,
   "metadata": {},
   "outputs": [],
   "source": [
    "class SurnameDataset(Dataset):\n",
    "\n",
    "    def __init__(self, path, mode):\n",
    "        self.vocabulary = SurnameVocabulary(path)\n",
    "        data = pd.read_csv(path)\n",
    "        self.data = data[data['split'] == mode][['nationality', 'surname']]\n",
    "        if mode == 'train':\n",
    "            self.data = self.data.sample(frac = 1, random_state = RANDOM_STATE)\n",
    "            self.vocab_token_index, self.vocab_index_token, self.vocab_nationality_index, self.vocab_index_nationality =\\\n",
    "            self.vocabulary.create_vocabs()\n",
    "            self.vocabulary.save_vocabs()\n",
    "        else:\n",
    "            with open('vocab_token_to_index.json', 'r') as file:\n",
    "                self.vocab_token_index = json.load(file)\n",
    "            with open('vocab_index_to_token.json', 'r') as file:\n",
    "                self.vocab_index_token = json.load(file)\n",
    "            with open('vocab_nationality_to_index.json', 'r') as file:\n",
    "                self.vocab_nationality_index = json.load(file)\n",
    "            with open('vocab_index_to_nationality.json', 'r') as file:\n",
    "                self.vocab_index_nationality = json.load(file)\n",
    "\n",
    "        self.size_df = len(self.data)\n",
    "\n",
    "    def __len__(self):\n",
    "        return self.size_df\n",
    "\n",
    "    def __getitem__(self, index):\n",
    "        row = self.data.iloc[index]\n",
    "        unk_index = self.vocab_token_index.get('<UNK>')\n",
    "        surname = row['surname']\n",
    "        surname = ['<BEGIN>'] + list(surname) + ['<END>']\n",
    "        self.x_length = len(surname)\n",
    "        self.matrix_surname = np.zeros(self.vocabulary.max_len + 2)\n",
    "        for index, token in enumerate(surname):\n",
    "            self.matrix_surname[index] = self.vocab_token_index.get(token, unk_index)\n",
    "\n",
    "        nationality = row['nationality']\n",
    "        self.one_hot_label = np.zeros(len(self.vocab_nationality_index))\n",
    "        self.one_hot_label[self.vocab_nationality_index.get(nationality)] = 1\n",
    "\n",
    "        return self.matrix_surname, self.one_hot_label,  self.x_length"
   ]
  },
  {
   "cell_type": "markdown",
   "metadata": {},
   "source": [
    "Проверка работоспособности класса Dataset\n",
    "\n",
    "- векторное представление фамилии (закодированные словарем фамилии [BEGIN - .... - END - MASK:])\n",
    "- OneHot вектор длиной 17\n",
    "- длина токенов фамилии + 2 доп токена BEGIN,END"
   ]
  },
  {
   "cell_type": "code",
   "execution_count": 8,
   "metadata": {},
   "outputs": [
    {
     "name": "stdout",
     "output_type": "stream",
     "text": [
      "Словари сохранены в открытой директории\n"
     ]
    },
    {
     "data": {
      "text/plain": [
       "(array([70., 28., 30., 37., 38., 43., 71.,  0.,  0.,  0.,  0.,  0.,  0.,\n",
       "         0.,  0.,  0.,  0.,  0.,  0.]),\n",
       " array([0., 0., 0., 0., 0., 0., 0., 0., 0., 0., 0., 0., 0., 0., 1., 0., 0.,\n",
       "        0.]),\n",
       " 7)"
      ]
     },
     "execution_count": 8,
     "metadata": {},
     "output_type": "execute_result"
    }
   ],
   "source": [
    "train_dataloader = DataLoader(dataset = SurnameDataset(path, 'train'),\n",
    "                              batch_size = 128)\n",
    "\n",
    "train_dataloader.dataset[0]"
   ]
  },
  {
   "cell_type": "markdown",
   "metadata": {},
   "source": [
    "# Model"
   ]
  },
  {
   "cell_type": "code",
   "execution_count": 9,
   "metadata": {},
   "outputs": [],
   "source": [
    "def column_gather(y_out, x_lengths):\n",
    "    '''  \n",
    "    Args:\n",
    "        y_out (torch.FloatTensor, torch.cuda.FloatTensor)\n",
    "            shape: (batch, sequence, feature)\n",
    "        x_lengths (torch.LongTensor, torch.cuda.LongTensor)\n",
    "            shape: (batch,)\n",
    "\n",
    "    Returns:\n",
    "        y_out (torch.FloatTensor, torch.cuda.FloatTensor)\n",
    "            shape: (batch, feature)\n",
    "    '''\n",
    "    x_lengths = x_lengths.long().detach().cpu().numpy() - 1\n",
    "    out = []\n",
    "    for batch_index, column_index in enumerate(x_lengths):\n",
    "        out.append(y_out[batch_index, column_index])\n",
    "\n",
    "    return torch.stack(out)"
   ]
  },
  {
   "cell_type": "markdown",
   "metadata": {},
   "source": [
    "# Elman RNN layer"
   ]
  },
  {
   "cell_type": "code",
   "execution_count": 10,
   "metadata": {},
   "outputs": [],
   "source": [
    "class ElmanRNN(nn.Module):\n",
    "\n",
    "    def __init__(self, input_size, hidden_size, batch_first=False):\n",
    "        \"\"\"\n",
    "        Args:\n",
    "            input_size (int): размерность входного векторов\n",
    "            hidden_size (int): размер скрытых векторов состояния\n",
    "            bathc_first (bool): является ли 0-е измерение пакетным\n",
    "        \"\"\"\n",
    "        super(ElmanRNN, self).__init__()\n",
    "        \n",
    "        self.rnn_cell = nn.RNNCell(input_size, hidden_size)\n",
    "        \n",
    "        self.batch_first = batch_first\n",
    "        self.hidden_size = hidden_size\n",
    "\n",
    "    def _initial_hidden(self, batch_size):\n",
    "        return torch.zeros((batch_size, self.hidden_size))\n",
    "\n",
    "    def forward(self, x_in, initial_hidden=None):\n",
    "\n",
    "        if self.batch_first:\n",
    "            batch_size, seq_size, feat_size = x_in.size()\n",
    "            x_in = x_in.permute(1, 0, 2)\n",
    "        else:\n",
    "            seq_size, batch_size, feat_size = x_in.size()\n",
    "    \n",
    "        hiddens = []\n",
    "\n",
    "        if initial_hidden is None:\n",
    "            initial_hidden = self._initial_hidden(batch_size)\n",
    "            initial_hidden = initial_hidden.to(x_in.device)\n",
    "\n",
    "        hidden_t = initial_hidden\n",
    "                    \n",
    "        for t in range(seq_size):\n",
    "            hidden_t = self.rnn_cell(x_in[t], hidden_t)\n",
    "            hiddens.append(hidden_t)\n",
    "            \n",
    "        hiddens = torch.stack(hiddens)\n",
    "\n",
    "        if self.batch_first:\n",
    "            hiddens = hiddens.permute(1, 0, 2)\n",
    "\n",
    "        return hiddens\n"
   ]
  },
  {
   "cell_type": "markdown",
   "metadata": {},
   "source": [
    "# Разбор каждого слоя будущей модели"
   ]
  },
  {
   "cell_type": "markdown",
   "metadata": {},
   "source": [
    "# Входная матрица"
   ]
  },
  {
   "cell_type": "code",
   "execution_count": 11,
   "metadata": {},
   "outputs": [
    {
     "name": "stdout",
     "output_type": "stream",
     "text": [
      "torch.Size([128, 19])\n",
      "Длины последовательностей: \n",
      " [7, 12, 7, 8, 10, 7, 9, 6, 7, 7, 9, 8, 9, 11, 10, 8, 7, 9, 7, 8, 9, 9, 11, 12, 9, 8, 10, 12, 12, 9, 9, 11, 10, 6, 8, 9, 12, 14, 10, 12, 8, 10, 9, 8, 12, 10, 7, 8, 12, 6, 7, 9, 8, 9, 8, 10, 11, 7, 8, 9, 4, 7, 8, 5, 10, 7, 11, 11, 10, 8, 7, 7, 8, 14, 9, 8, 9, 8, 9, 7, 9, 7, 10, 7, 9, 8, 13, 8, 14, 8, 9, 9, 6, 6, 8, 7, 6, 9, 8, 7, 9, 9, 13, 10, 6, 8, 5, 11, 5, 9, 8, 11, 8, 6, 10, 9, 7, 11, 7, 12, 8, 8, 8, 9, 8, 7, 8, 10]\n"
     ]
    },
    {
     "data": {
      "text/plain": [
       "tensor([[70, 28, 30,  ...,  0,  0,  0],\n",
       "        [70, 29, 44,  ...,  0,  0,  0],\n",
       "        [70, 22, 42,  ...,  0,  0,  0],\n",
       "        ...,\n",
       "        [70,  6, 41,  ...,  0,  0,  0],\n",
       "        [70, 23, 44,  ...,  0,  0,  0],\n",
       "        [70,  4, 43,  ...,  0,  0,  0]], dtype=torch.int32)"
      ]
     },
     "execution_count": 11,
     "metadata": {},
     "output_type": "execute_result"
    }
   ],
   "source": [
    "x_in = np.zeros((128, 19))\n",
    "y_in = np.zeros((128, 18))\n",
    "lengths_list = []\n",
    "for i in range(0, 128):\n",
    "    values = train_dataloader.dataset[i][0]\n",
    "    length = train_dataloader.dataset[i][2]\n",
    "    label = train_dataloader.dataset[i][1]\n",
    "    x_in[i] = values\n",
    "    y_in[i] = label\n",
    "    lengths_list.append(length)\n",
    "\n",
    "x_in = torch.tensor(x_in, dtype = torch.int)\n",
    "print(x_in.shape)\n",
    "print('Длины последовательностей: \\n', lengths_list)\n",
    "x_in"
   ]
  },
  {
   "cell_type": "code",
   "execution_count": 12,
   "metadata": {},
   "outputs": [
    {
     "data": {
      "text/plain": [
       "array([[0., 0., 0., ..., 0., 0., 0.],\n",
       "       [0., 0., 0., ..., 0., 0., 0.],\n",
       "       [0., 0., 0., ..., 0., 0., 0.],\n",
       "       ...,\n",
       "       [0., 0., 0., ..., 0., 0., 0.],\n",
       "       [0., 0., 0., ..., 0., 0., 0.],\n",
       "       [0., 0., 0., ..., 0., 0., 0.]])"
      ]
     },
     "execution_count": 12,
     "metadata": {},
     "output_type": "execute_result"
    }
   ],
   "source": [
    "y_in"
   ]
  },
  {
   "cell_type": "markdown",
   "metadata": {},
   "source": [
    "# Слой Embedding"
   ]
  },
  {
   "cell_type": "code",
   "execution_count": 13,
   "metadata": {},
   "outputs": [
    {
     "data": {
      "text/plain": [
       "73"
      ]
     },
     "execution_count": 13,
     "metadata": {},
     "output_type": "execute_result"
    }
   ],
   "source": [
    "len(vocabulary.vocab_token_index)"
   ]
  },
  {
   "cell_type": "code",
   "execution_count": 14,
   "metadata": {},
   "outputs": [
    {
     "name": "stdout",
     "output_type": "stream",
     "text": [
      "torch.Size([128, 19, 100])\n"
     ]
    },
    {
     "data": {
      "text/plain": [
       "tensor([[[-0.6183, -1.5884, -1.0392,  ..., -1.1030, -0.0393,  0.1527],\n",
       "         [-0.7616, -0.5478,  0.3870,  ..., -0.2456,  0.1404, -1.5680],\n",
       "         [ 0.0570,  0.0890, -0.5031,  ..., -0.4187, -0.4123,  2.1059],\n",
       "         ...,\n",
       "         [ 0.0000,  0.0000,  0.0000,  ...,  0.0000,  0.0000,  0.0000],\n",
       "         [ 0.0000,  0.0000,  0.0000,  ...,  0.0000,  0.0000,  0.0000],\n",
       "         [ 0.0000,  0.0000,  0.0000,  ...,  0.0000,  0.0000,  0.0000]],\n",
       "\n",
       "        [[-0.6183, -1.5884, -1.0392,  ..., -1.1030, -0.0393,  0.1527],\n",
       "         [ 0.5189,  1.8247,  0.7192,  ..., -0.6611, -0.2556,  0.2609],\n",
       "         [ 0.4090, -1.2935,  0.7135,  ...,  1.6246, -1.8273, -0.5356],\n",
       "         ...,\n",
       "         [ 0.0000,  0.0000,  0.0000,  ...,  0.0000,  0.0000,  0.0000],\n",
       "         [ 0.0000,  0.0000,  0.0000,  ...,  0.0000,  0.0000,  0.0000],\n",
       "         [ 0.0000,  0.0000,  0.0000,  ...,  0.0000,  0.0000,  0.0000]],\n",
       "\n",
       "        [[-0.6183, -1.5884, -1.0392,  ..., -1.1030, -0.0393,  0.1527],\n",
       "         [ 0.0448, -1.3136,  1.6929,  ..., -0.3132, -0.4804, -1.8180],\n",
       "         [ 1.0490,  0.4495, -0.1214,  ...,  0.5772, -0.5469,  0.3325],\n",
       "         ...,\n",
       "         [ 0.0000,  0.0000,  0.0000,  ...,  0.0000,  0.0000,  0.0000],\n",
       "         [ 0.0000,  0.0000,  0.0000,  ...,  0.0000,  0.0000,  0.0000],\n",
       "         [ 0.0000,  0.0000,  0.0000,  ...,  0.0000,  0.0000,  0.0000]],\n",
       "\n",
       "        ...,\n",
       "\n",
       "        [[-0.6183, -1.5884, -1.0392,  ..., -1.1030, -0.0393,  0.1527],\n",
       "         [ 0.3361,  1.0608, -0.0461,  ..., -0.2423, -0.2400, -0.9444],\n",
       "         [-0.6032,  0.0384, -0.0608,  ...,  0.4164,  1.3869,  0.1496],\n",
       "         ...,\n",
       "         [ 0.0000,  0.0000,  0.0000,  ...,  0.0000,  0.0000,  0.0000],\n",
       "         [ 0.0000,  0.0000,  0.0000,  ...,  0.0000,  0.0000,  0.0000],\n",
       "         [ 0.0000,  0.0000,  0.0000,  ...,  0.0000,  0.0000,  0.0000]],\n",
       "\n",
       "        [[-0.6183, -1.5884, -1.0392,  ..., -1.1030, -0.0393,  0.1527],\n",
       "         [-0.5963, -0.5701,  0.5259,  ...,  0.2154,  0.5526, -1.2553],\n",
       "         [ 0.4090, -1.2935,  0.7135,  ...,  1.6246, -1.8273, -0.5356],\n",
       "         ...,\n",
       "         [ 0.0000,  0.0000,  0.0000,  ...,  0.0000,  0.0000,  0.0000],\n",
       "         [ 0.0000,  0.0000,  0.0000,  ...,  0.0000,  0.0000,  0.0000],\n",
       "         [ 0.0000,  0.0000,  0.0000,  ...,  0.0000,  0.0000,  0.0000]],\n",
       "\n",
       "        [[-0.6183, -1.5884, -1.0392,  ..., -1.1030, -0.0393,  0.1527],\n",
       "         [ 0.0371, -2.3541,  0.0051,  ..., -0.0323, -0.8722, -1.2962],\n",
       "         [-0.3331,  1.0130, -1.3768,  ..., -1.2211,  0.8394,  1.0309],\n",
       "         ...,\n",
       "         [ 0.0000,  0.0000,  0.0000,  ...,  0.0000,  0.0000,  0.0000],\n",
       "         [ 0.0000,  0.0000,  0.0000,  ...,  0.0000,  0.0000,  0.0000],\n",
       "         [ 0.0000,  0.0000,  0.0000,  ...,  0.0000,  0.0000,  0.0000]]],\n",
       "       grad_fn=<EmbeddingBackward0>)"
      ]
     },
     "execution_count": 14,
     "metadata": {},
     "output_type": "execute_result"
    }
   ],
   "source": [
    "emb = nn.Embedding(num_embeddings = len(vocabulary.vocab_token_index), # размер словаря\n",
    "                   embedding_dim = 100, # 100\n",
    "                   padding_idx = 0)\n",
    "\n",
    "out_emb = emb(x_in)\n",
    "print(out_emb.shape)\n",
    "out_emb"
   ]
  },
  {
   "cell_type": "markdown",
   "metadata": {},
   "source": [
    "# ElmanRnn слой"
   ]
  },
  {
   "cell_type": "code",
   "execution_count": 15,
   "metadata": {},
   "outputs": [
    {
     "name": "stdout",
     "output_type": "stream",
     "text": [
      "torch.Size([128, 19, 64])\n"
     ]
    },
    {
     "data": {
      "text/plain": [
       "tensor([[[ 0.1920,  0.5886, -0.5963,  ..., -0.3982,  0.1624, -0.7647],\n",
       "         [-0.1101,  0.6257, -0.1568,  ...,  0.1598,  0.1141, -0.5643],\n",
       "         [ 0.0467, -0.3993,  0.3339,  ...,  0.8292,  0.6405,  0.6463],\n",
       "         ...,\n",
       "         [-0.1126, -0.0706, -0.1341,  ...,  0.1003, -0.0747, -0.0933],\n",
       "         [-0.1121, -0.0670, -0.1352,  ...,  0.1018, -0.0736, -0.0977],\n",
       "         [-0.1114, -0.0688, -0.1348,  ...,  0.1007, -0.0754, -0.0959]],\n",
       "\n",
       "        [[ 0.1920,  0.5886, -0.5963,  ..., -0.3982,  0.1624, -0.7647],\n",
       "         [-0.3223, -0.2159, -0.8142,  ...,  0.7852, -0.4426,  0.4326],\n",
       "         [ 0.5191, -0.2968,  0.3101,  ...,  0.8463,  0.2125, -0.7063],\n",
       "         ...,\n",
       "         [-0.1290, -0.0776, -0.1636,  ...,  0.1740, -0.0638, -0.1051],\n",
       "         [-0.1356, -0.0825, -0.1496,  ...,  0.1345, -0.0863, -0.0956],\n",
       "         [-0.1079, -0.0623, -0.1410,  ...,  0.1163, -0.0722, -0.1120]],\n",
       "\n",
       "        [[ 0.1920,  0.5886, -0.5963,  ..., -0.3982,  0.1624, -0.7647],\n",
       "         [-0.5428,  0.0311,  0.1074,  ...,  0.1683, -0.6620, -0.5717],\n",
       "         [ 0.0653, -0.0733, -0.5948,  ...,  0.8473, -0.0172, -0.3753],\n",
       "         ...,\n",
       "         [-0.1108, -0.0701, -0.1341,  ...,  0.0999, -0.0754, -0.0952],\n",
       "         [-0.1119, -0.0678, -0.1340,  ...,  0.1017, -0.0731, -0.0972],\n",
       "         [-0.1118, -0.0681, -0.1352,  ...,  0.1006, -0.0758, -0.0957]],\n",
       "\n",
       "        ...,\n",
       "\n",
       "        [[ 0.1920,  0.5886, -0.5963,  ..., -0.3982,  0.1624, -0.7647],\n",
       "         [-0.7964, -0.4197, -0.8793,  ...,  0.7515, -0.1499,  0.7817],\n",
       "         [-0.5723,  0.3706, -0.9732,  ..., -0.8195,  0.2136, -0.6879],\n",
       "         ...,\n",
       "         [-0.1117, -0.0695, -0.1351,  ...,  0.0994, -0.0761, -0.0903],\n",
       "         [-0.1113, -0.0654, -0.1354,  ...,  0.1022, -0.0735, -0.1009],\n",
       "         [-0.1113, -0.0703, -0.1337,  ...,  0.1001, -0.0754, -0.0941]],\n",
       "\n",
       "        [[ 0.1920,  0.5886, -0.5963,  ..., -0.3982,  0.1624, -0.7647],\n",
       "         [ 0.3850,  0.0101, -0.8833,  ...,  0.0512,  0.2093, -0.3827],\n",
       "         [ 0.7495, -0.4883, -0.0271,  ...,  0.8735, -0.4533, -0.7304],\n",
       "         ...,\n",
       "         [-0.1153, -0.0681, -0.1346,  ...,  0.1047, -0.0759, -0.1022],\n",
       "         [-0.1117, -0.0697, -0.1350,  ...,  0.1016, -0.0756, -0.0941],\n",
       "         [-0.1123, -0.0681, -0.1349,  ...,  0.1025, -0.0737, -0.0973]],\n",
       "\n",
       "        [[ 0.1920,  0.5886, -0.5963,  ..., -0.3982,  0.1624, -0.7647],\n",
       "         [ 0.4087, -0.6922, -0.6165,  ...,  0.7022, -0.5005,  0.8429],\n",
       "         [-0.8152, -0.1908, -0.9810,  ...,  0.4422,  0.6809,  0.7014],\n",
       "         ...,\n",
       "         [-0.1167, -0.0620, -0.1394,  ...,  0.1154, -0.0676, -0.1120],\n",
       "         [-0.1059, -0.0713, -0.1344,  ...,  0.1016, -0.0752, -0.0857],\n",
       "         [-0.1160, -0.0634, -0.1371,  ...,  0.1058, -0.0752, -0.1072]]],\n",
       "       grad_fn=<PermuteBackward0>)"
      ]
     },
     "execution_count": 15,
     "metadata": {},
     "output_type": "execute_result"
    }
   ],
   "source": [
    "rnn = ElmanRNN(input_size = 100,\n",
    "               hidden_size = 64,\n",
    "               batch_first = True)\n",
    "\n",
    "out_rnn = rnn(out_emb)\n",
    "print(out_rnn.shape)\n",
    "out_rnn"
   ]
  },
  {
   "cell_type": "markdown",
   "metadata": {},
   "source": [
    "# Последнее состояние (применяем индекс длины)"
   ]
  },
  {
   "cell_type": "code",
   "execution_count": 16,
   "metadata": {},
   "outputs": [
    {
     "name": "stdout",
     "output_type": "stream",
     "text": [
      "torch.Size([128, 64])\n"
     ]
    },
    {
     "data": {
      "text/plain": [
       "tensor([[ 0.3721,  0.2843, -0.7481,  ...,  0.7198, -0.2845, -0.8740],\n",
       "        [ 0.1455,  0.1285, -0.7990,  ...,  0.6206,  0.2654, -0.7812],\n",
       "        [-0.0424,  0.1406, -0.8463,  ...,  0.6771,  0.1202, -0.7416],\n",
       "        ...,\n",
       "        [-0.0496, -0.0879, -0.7103,  ...,  0.9004, -0.3088, -0.4492],\n",
       "        [-0.1807,  0.3992, -0.6980,  ...,  0.7308, -0.3931, -0.8681],\n",
       "        [ 0.2134,  0.5819, -0.7618,  ...,  0.7622, -0.0230, -0.7894]],\n",
       "       grad_fn=<StackBackward0>)"
      ]
     },
     "execution_count": 16,
     "metadata": {},
     "output_type": "execute_result"
    }
   ],
   "source": [
    "out_rnn_last =\\\n",
    "column_gather(y_out = out_rnn,\n",
    "              x_lengths = torch.LongTensor(lengths_list))\n",
    "\n",
    "print(out_rnn_last.shape)\n",
    "out_rnn_last"
   ]
  },
  {
   "cell_type": "markdown",
   "metadata": {},
   "source": [
    "# 1-й Линейный слой "
   ]
  },
  {
   "cell_type": "code",
   "execution_count": 17,
   "metadata": {},
   "outputs": [
    {
     "name": "stdout",
     "output_type": "stream",
     "text": [
      "torch.Size([128, 64])\n"
     ]
    },
    {
     "data": {
      "text/plain": [
       "tensor([[-0.5126, -0.1574,  0.0380,  ..., -0.1977,  0.2719, -0.0928],\n",
       "        [-0.6000, -0.1352, -0.1005,  ..., -0.5226,  0.1457, -0.2857],\n",
       "        [-0.6342, -0.1151, -0.0474,  ..., -0.4987,  0.1594, -0.2467],\n",
       "        ...,\n",
       "        [-0.6266,  0.0922,  0.0547,  ..., -0.5619,  0.5253, -0.0602],\n",
       "        [-0.6588, -0.1603, -0.1085,  ..., -0.3617,  0.3856, -0.2046],\n",
       "        [-0.5241,  0.0287,  0.0729,  ..., -0.4713,  0.3885, -0.1994]],\n",
       "       grad_fn=<AddmmBackward0>)"
      ]
     },
     "execution_count": 17,
     "metadata": {},
     "output_type": "execute_result"
    }
   ],
   "source": [
    "fc1 = nn.Linear(in_features= 64,\n",
    "                out_features = 64)\n",
    "linear1_out = fc1(out_rnn_last)\n",
    "print(linear1_out.shape)\n",
    "linear1_out"
   ]
  },
  {
   "cell_type": "markdown",
   "metadata": {},
   "source": [
    "# 2-й Линейный слой"
   ]
  },
  {
   "cell_type": "code",
   "execution_count": 18,
   "metadata": {},
   "outputs": [
    {
     "name": "stdout",
     "output_type": "stream",
     "text": [
      "torch.Size([128, 18])\n"
     ]
    },
    {
     "data": {
      "text/plain": [
       "tensor([[-0.1848, -0.0061,  0.0118,  ...,  0.0990, -0.1034, -0.0978],\n",
       "        [-0.1412,  0.1538, -0.0762,  ...,  0.1154,  0.0553, -0.1529],\n",
       "        [-0.0206,  0.1698, -0.1178,  ...,  0.1310, -0.0766, -0.1146],\n",
       "        ...,\n",
       "        [-0.2716,  0.1901,  0.0108,  ...,  0.0843, -0.1081, -0.0970],\n",
       "        [-0.1794,  0.1953,  0.1395,  ...,  0.1238, -0.0713, -0.0686],\n",
       "        [-0.2164,  0.0986, -0.0678,  ...,  0.1497, -0.1501, -0.1889]],\n",
       "       grad_fn=<AddmmBackward0>)"
      ]
     },
     "execution_count": 18,
     "metadata": {},
     "output_type": "execute_result"
    }
   ],
   "source": [
    "fc2 = nn.Linear(in_features = 64,\n",
    "                out_features = len(vocab_nationality_index))\n",
    "\n",
    "linear2_out = fc2(linear1_out)\n",
    "print(linear2_out.shape)\n",
    "linear2_out"
   ]
  },
  {
   "cell_type": "markdown",
   "metadata": {},
   "source": [
    "# Softmax"
   ]
  },
  {
   "cell_type": "code",
   "execution_count": 19,
   "metadata": {},
   "outputs": [
    {
     "data": {
      "text/plain": [
       "tensor([[0.0508, 0.0607, 0.0618,  ..., 0.0674, 0.0551, 0.0554],\n",
       "        [0.0521, 0.0699, 0.0556,  ..., 0.0673, 0.0634, 0.0515],\n",
       "        [0.0589, 0.0712, 0.0534,  ..., 0.0685, 0.0557, 0.0536],\n",
       "        ...,\n",
       "        [0.0446, 0.0707, 0.0591,  ..., 0.0636, 0.0525, 0.0531],\n",
       "        [0.0494, 0.0718, 0.0679,  ..., 0.0668, 0.0550, 0.0551],\n",
       "        [0.0486, 0.0667, 0.0564,  ..., 0.0702, 0.0520, 0.0500]],\n",
       "       grad_fn=<SoftmaxBackward0>)"
      ]
     },
     "execution_count": 19,
     "metadata": {},
     "output_type": "execute_result"
    }
   ],
   "source": [
    "outputs = torch.softmax(linear2_out, dim = 1)\n",
    "outputs"
   ]
  },
  {
   "cell_type": "code",
   "execution_count": 20,
   "metadata": {},
   "outputs": [
    {
     "data": {
      "text/plain": [
       "tensor([ 8,  8,  8, 13, 13,  8,  8,  8,  8,  8,  8,  8,  8, 13,  8,  8,  8,  8,\n",
       "         8, 13,  8, 13,  8,  8, 13,  8,  8,  8,  8,  8, 13,  8,  8,  8,  8,  8,\n",
       "         8,  8,  8,  8,  8,  8,  8,  8,  8, 13, 13,  8, 13,  8,  8,  8,  8, 13,\n",
       "         8,  8,  8,  8, 13,  8, 13,  8,  8, 13,  8, 13,  8,  8,  8,  8,  8,  8,\n",
       "        13,  8,  8, 13,  8, 13,  8,  8, 13,  8,  8,  8,  8, 13,  8, 13,  8,  8,\n",
       "        13,  8,  8,  8,  8,  8,  8,  8, 15, 13,  8,  8, 13, 13, 13,  8, 13, 13,\n",
       "        13, 13, 13,  8,  8,  8,  8,  8,  8,  8,  8,  8,  8,  8,  8,  8,  8,  8,\n",
       "        13,  8])"
      ]
     },
     "execution_count": 20,
     "metadata": {},
     "output_type": "execute_result"
    }
   ],
   "source": [
    "_ , predict_labels = torch.max(outputs,1)\n",
    "predict_labels"
   ]
  },
  {
   "cell_type": "code",
   "execution_count": 21,
   "metadata": {},
   "outputs": [
    {
     "data": {
      "text/plain": [
       "1"
      ]
     },
     "execution_count": 21,
     "metadata": {},
     "output_type": "execute_result"
    }
   ],
   "source": [
    "true_labels = torch.argmax(torch.tensor(y_in), dim = 1)\n",
    "correct_train_acc = (predict_labels == true_labels).sum().item()\n",
    "correct_train_acc"
   ]
  },
  {
   "cell_type": "code",
   "execution_count": 22,
   "metadata": {},
   "outputs": [
    {
     "data": {
      "text/plain": [
       "128"
      ]
     },
     "execution_count": 22,
     "metadata": {},
     "output_type": "execute_result"
    }
   ],
   "source": [
    "torch.tensor(y_in).size(0)"
   ]
  },
  {
   "cell_type": "markdown",
   "metadata": {},
   "source": [
    "# Classifier"
   ]
  },
  {
   "cell_type": "code",
   "execution_count": 23,
   "metadata": {},
   "outputs": [],
   "source": [
    "class SurnameClassifier(nn.Module):\n",
    "    \"\"\" A Classifier with an RNN to extract features and an MLP to classify \"\"\"\n",
    "    def __init__(self, embedding_dim, num_embeddings, num_classes,\n",
    "                 rnn_hidden_size, batch_first=True, padding_idx=0):\n",
    "        \"\"\"\n",
    "        Args:\n",
    "            embedding_dim (int): размер вложений символов\n",
    "            num_embeddings (int): размер словаря\n",
    "            num_classes (int): кол-во национальностей\n",
    "            rnn_hidden_size (int): размер скрытого состояния\n",
    "            batch_first (bool): есть ли нулевое измерение (измерение пакета)\n",
    "            padding_idx (int): индекс заполнения тензора\n",
    "        \"\"\"\n",
    "        super(SurnameClassifier, self).__init__()\n",
    "\n",
    "        self.emb = nn.Embedding(num_embeddings=num_embeddings, # размер словаря\n",
    "                                embedding_dim=embedding_dim, # 100\n",
    "                                padding_idx=padding_idx)\n",
    "        self.rnn = ElmanRNN(input_size=embedding_dim,\n",
    "                             hidden_size=rnn_hidden_size,\n",
    "                             batch_first=batch_first)\n",
    "        self.fc1 = nn.Linear(in_features=rnn_hidden_size,\n",
    "                             out_features=rnn_hidden_size)\n",
    "        self.fc2 = nn.Linear(in_features=rnn_hidden_size,\n",
    "                             out_features=num_classes)\n",
    "\n",
    "    def forward(self, x_in, x_lengths=None):\n",
    "\n",
    "        x_embedded = self.emb(x_in)\n",
    "        y_out = self.rnn(x_embedded)\n",
    "\n",
    "        if x_lengths is not None:\n",
    "            y_out = column_gather(y_out, x_lengths) # вывод последнего состояния сети\n",
    "        else:\n",
    "            y_out = y_out[:, -1, :]\n",
    "\n",
    "        y_out = F.relu(self.fc1(F.dropout(y_out, 0.5)))\n",
    "        y_out = self.fc2(F.dropout(y_out, 0.5))\n",
    "\n",
    "        return y_out"
   ]
  },
  {
   "cell_type": "markdown",
   "metadata": {},
   "source": [
    "# Функция L1_L2 регуляризации"
   ]
  },
  {
   "cell_type": "code",
   "execution_count": 24,
   "metadata": {},
   "outputs": [],
   "source": [
    "def loss_with_l1_or_l2_regulizer(\n",
    "        \n",
    "        model,\n",
    "        type, # Здесь могут быть 3 вида : 'l1', 'l2', 'l1_l2' \n",
    "        l_lambda, # 0.001\n",
    "        loss_by_fn):\n",
    "    \n",
    "    if type == 'l2':\n",
    "        l_norm = sum(p.pow(2.0).sum() for p in model.parameters())\n",
    "\n",
    "    if type == 'l1':\n",
    "        l_norm = sum(p.abs().sum() for p in model.parameters())\n",
    "\n",
    "    if type == 'l1_l2':\n",
    "        l_norm = sum((p.abs() + p.pow(2.0)).sum() for p in model.parameters())\n",
    "    \n",
    "    loss_plus_reg = loss_by_fn + l_lambda * l_norm\n",
    "    return loss_plus_reg"
   ]
  },
  {
   "cell_type": "markdown",
   "metadata": {},
   "source": [
    "# Training loop"
   ]
  },
  {
   "cell_type": "code",
   "execution_count": 25,
   "metadata": {},
   "outputs": [],
   "source": [
    "def training_loop(\n",
    "        epoches,\n",
    "        model,\n",
    "        optimizer,\n",
    "        scheduler_append,\n",
    "        scheduler,\n",
    "        loss_fn,\n",
    "        train_dataloader,\n",
    "        val_dataloader,\n",
    "\n",
    "        # regulizer\n",
    "        regulizer,\n",
    "        reg_type,\n",
    "        \n",
    "        # stop settings\n",
    "        stop_mode,\n",
    "        each__X__epoch,\n",
    "        stop_diff_value,\n",
    "\n",
    "        # verbose\n",
    "        verbose_epoch\n",
    "        ):\n",
    "    \n",
    "    loss_train_list = []\n",
    "    loss_val_list = []\n",
    "    acc_train_list = []\n",
    "    acc_val_list = []\n",
    "\n",
    "    model = model.to(device)\n",
    "    for epoch in range(1, epoches+1):\n",
    "            \n",
    "            start_time = time.time()\n",
    "            loss_train = 0\n",
    "            loss_val = 0\n",
    "\n",
    "            correct_train_acc = 0\n",
    "            correct_val_acc = 0\n",
    "            total_train_acc = 0\n",
    "            total_val_acc = 0\n",
    "            \n",
    "            for features, labels, _ in train_dataloader:\n",
    "                \n",
    "                model.train()\n",
    "                features = features.type(torch.LongTensor).to(device)\n",
    "                labels = labels.to(device)\n",
    "                outputs = model(features)\n",
    "\n",
    "                # Тренировочный потери\n",
    "                loss = loss_fn(outputs, labels)\n",
    "                \n",
    "                if regulizer:\n",
    "                        loss = loss_with_l1_or_l2_regulizer(model = model,\n",
    "                                                            type = reg_type,\n",
    "                                                            l_lambda = 0.001,\n",
    "                                                            loss_by_fn = loss)\n",
    "                \n",
    "                optimizer.zero_grad()\n",
    "                loss.backward()\n",
    "                optimizer.step()\n",
    "                \n",
    "                loss_train += loss.item()\n",
    "                \n",
    "                ########  Расчет тренировочной accuracy  #########\n",
    "                outputs = torch.softmax(outputs, dim = 1)\n",
    "                _ , predict_labels = torch.max(outputs,1)\n",
    "                total_train_acc += labels.size(0)\n",
    "                # correct_train_acc += (predict_labels == labels).sum().item()\n",
    "                true_labels = torch.argmax(labels, dim = 1)\n",
    "                correct_train_acc += (predict_labels == true_labels).sum().item()\n",
    "                ##################################################\n",
    "\n",
    "            mean_epoch_loss = loss_train/len(train_dataloader)\n",
    "            loss_train_list.append(mean_epoch_loss)\n",
    "            train_acc = correct_train_acc / total_train_acc\n",
    "            acc_train_list.append(train_acc)\n",
    "            # Проверочный этап\n",
    "            model.eval()\n",
    "            with torch.no_grad():\n",
    "                                for features, labels, _ in val_dataloader:\n",
    "                                        features = features.type(torch.LongTensor).to(device)\n",
    "                                        labels = labels.to(device)\n",
    "                                        outputs = model(features)\n",
    "                                        loss_on_val = loss_fn(outputs, labels)\n",
    "                                        loss_val += loss_on_val.item()\n",
    "                                        \n",
    "                                        ########  Расчет валидационной accuracy  #########\n",
    "                                        outputs = torch.softmax(outputs, dim = 1)\n",
    "                                        _ , predict_labels = torch.max(outputs,1)\n",
    "                                        total_val_acc += labels.size(0)\n",
    "                                        # correct_train_acc += (predict_labels == labels).sum().item()\n",
    "                                        true_labels = torch.argmax(labels, dim = 1)\n",
    "                                        correct_val_acc += (predict_labels == true_labels).sum().item()\n",
    "                                        ##################################################\n",
    "\n",
    "                                mean_epoch_loss_val = loss_val / len(val_dataloader)\n",
    "                                loss_val_list.append(mean_epoch_loss_val)\n",
    "                                val_acc = correct_val_acc / total_val_acc\n",
    "                                acc_val_list.append(val_acc)\n",
    "                                \n",
    "            # EARLY STOPPING #######################################\n",
    "            if stop_mode:\n",
    "                if len(loss_train_list) >= each__X__epoch:\n",
    "                        past = loss_train_list[-each__X__epoch]\n",
    "                        now = loss_train_list[-1]\n",
    "                        if (past <= now):\n",
    "\n",
    "                                print('________________________Ранняя остановка (тренировочные проблемы)_________________________________________________')\n",
    "                                print('На {} эпохе пришлось остановить обучение'.format(epoch))\n",
    "                                print('loss_{}_эпохи >= loss_{}_эпохи'.format(epoch,\n",
    "                                                                              epoch - each__X__epoch))\n",
    "                                break\n",
    "                        if (past - now) < stop_diff_value:\n",
    "                                print('________________________Ранняя остановка (тренировочные проблемы)_________________________________________________')\n",
    "                                print('На {} эпохе пришлось остановить обучение'.format(epoch))\n",
    "                                print('loss_{}_эпохи - loss_{}_эпохи < {}'.format(epoch - each__X__epoch,\n",
    "                                                                                  epoch,\n",
    "                                                                                  stop_diff_value))\n",
    "                                break\n",
    "                if len(loss_val_list) >= each__X__epoch:\n",
    "                        past = loss_val_list[-each__X__epoch]\n",
    "                        now = loss_val_list[-1]\n",
    "                        if (past <= now):\n",
    "                                print('________________________Ранняя остановка (валидационные проблемы)_________________________________________________')\n",
    "                                print('На {} эпохе пришлось остановить обучение'.format(epoch))\n",
    "                                print('loss_{}_эпохи >= loss_{}_эпохи'.format(epoch,\n",
    "                                                                              epoch - each__X__epoch))\n",
    "                                break\n",
    "                        if (past - now) < stop_diff_value:\n",
    "                                print('________________________Ранняя остановка (валидационные проблемы)_________________________________________________')\n",
    "                                print('На {} эпохе пришлось остановить обучение'.format(epoch))\n",
    "                                print('loss_{}_эпохи - loss_{}_эпохи < {}'.format(epoch - each__X__epoch,\n",
    "                                                                                  epoch,\n",
    "                                                                                  stop_diff_value))\n",
    "                                break\n",
    "            ##############################################################\n",
    "            if scheduler_append:\n",
    "                scheduler.step(mean_epoch_loss_val)\n",
    "            ##############################################################\n",
    "            end_time = time.time()\n",
    "            epoch_time = end_time - start_time\n",
    "            расчетное_время_выполнения_цикла = (epoch_time*epoches) / 60\n",
    "            ############ VERBOSE #########################################\n",
    "            if epoch ==1:\n",
    "                   print('Расчетное время выполнения всего цикла {:.3f} минут'.format(расчетное_время_выполнения_цикла))            \n",
    "            if epoch == 1 or epoch % verbose_epoch == 0:\n",
    "                print(\n",
    "                        'Epoch {:5}/{:5} || time: {:.3f} || train loss: {:.3f} || val_loss: {:.3f} || train accuracy: {:.3f} || val accuracy: {:.3f}'\n",
    "                        .format(epoch,\n",
    "                                epoches,\n",
    "                                epoch_time,\n",
    "                                mean_epoch_loss,\n",
    "                                mean_epoch_loss_val,\n",
    "                                train_acc,\n",
    "                                val_acc\n",
    "                                )     \n",
    "                      )\n",
    "            ################################################################\n",
    "    ###### PLOTTING #############################################################################\n",
    "    sns.lineplot(x = np.arange(1, epoch+1),\n",
    "                 y = loss_train_list,\n",
    "                 label = 'train')\n",
    "    sns.lineplot(x = np.arange(1, epoch+1),\n",
    "                 y = loss_val_list,\n",
    "                 label = 'val')\n",
    "    plt.title('Потери от эпох: epoches: {}'.format(epoches))\n",
    "    plt.xlabel('эпохи')\n",
    "    plt.ylabel('loss')\n",
    "    plt.legend()\n",
    "    plt.grid()\n",
    "    plt.show()\n",
    "\n",
    "    sns.lineplot(x = np.arange(1, epoch+1),\n",
    "                 y = acc_train_list,\n",
    "                 label = 'train')\n",
    "    sns.lineplot(x = np.arange(1, epoch+1),\n",
    "                 y = acc_val_list,\n",
    "                 label = 'val')\n",
    "    \n",
    "    plt.xlabel('эпохи')\n",
    "    plt.ylabel('accuracy')\n",
    "    plt.title('accuracy per epoch'.format(epoches))\n",
    "    plt.legend()\n",
    "    plt.grid()\n",
    "    plt.show()\n",
    "    \n",
    "    return model"
   ]
  },
  {
   "cell_type": "markdown",
   "metadata": {},
   "source": [
    "# Vocabs, Dataloaders"
   ]
  },
  {
   "cell_type": "code",
   "execution_count": 26,
   "metadata": {},
   "outputs": [
    {
     "name": "stdout",
     "output_type": "stream",
     "text": [
      "Словари сохранены в открытой директории\n",
      "Словари сохранены в открытой директории\n"
     ]
    }
   ],
   "source": [
    "# Словари\n",
    "vocabulary = SurnameVocabulary(path)\n",
    "vocab_token_index,vocab_index_token,vocab_nationality_index, vocab_index_nationality =\\\n",
    "vocabulary.create_vocabs()\n",
    "vocabulary.save_vocabs()\n",
    "\n",
    "\n",
    "\n",
    "train_dataloader = DataLoader(dataset = SurnameDataset(path, 'train'),\n",
    "                              batch_size = 128)\n",
    "\n",
    "val_dataloader = DataLoader(dataset = SurnameDataset(path, 'val'),\n",
    "                            batch_size = 128)"
   ]
  },
  {
   "cell_type": "markdown",
   "metadata": {},
   "source": [
    "# Обучение"
   ]
  },
  {
   "cell_type": "code",
   "execution_count": 28,
   "metadata": {},
   "outputs": [
    {
     "name": "stdout",
     "output_type": "stream",
     "text": [
      "Расчетное время выполнения всего цикла 82.261 минут\n",
      "Epoch     1/ 5000 || time: 0.987 || train loss: 2.856 || val_loss: 2.802 || train accuracy: 0.086 || val accuracy: 0.159\n",
      "Epoch   100/ 5000 || time: 0.936 || train loss: 1.691 || val_loss: 1.749 || train accuracy: 0.516 || val accuracy: 0.494\n",
      "Epoch   200/ 5000 || time: 1.104 || train loss: 1.169 || val_loss: 1.421 || train accuracy: 0.669 || val accuracy: 0.642\n",
      "________________________Ранняя остановка (валидационные проблемы)_________________________________________________\n",
      "На 245 эпохе пришлось остановить обучение\n",
      "loss_245_эпохи >= loss_145_эпохи\n"
     ]
    },
    {
     "data": {
      "image/png": "[encoded data removed]",
      "text/plain": [
       "<Figure size 640x480 with 1 Axes>"
      ]
     },
     "metadata": {},
     "output_type": "display_data"
    },
    {
     "data": {
      "image/png": "[encoded data removed]",
      "text/plain": [
       "<Figure size 640x480 with 1 Axes>"
      ]
     },
     "metadata": {},
     "output_type": "display_data"
    }
   ],
   "source": [
    "model = SurnameClassifier(\n",
    "    embedding_dim = len(vocab_token_index),\n",
    "    num_embeddings = 100,\n",
    "    num_classes = len(vocab_index_nationality),\n",
    "    rnn_hidden_size = 64,\n",
    "    batch_first = True,\n",
    "    padding_idx = 0\n",
    ")\n",
    "\n",
    "optimizer = torch.optim.SGD(model.parameters(), lr = 0.01)\n",
    "scheduler = torch.optim.lr_scheduler.ReduceLROnPlateau(optimizer, mode='min', patience = 10, factor=0.5, threshold=0.001, verbose=True)\n",
    "\n",
    "model =\\\n",
    "training_loop(\n",
    "    epoches = 5000,\n",
    "    model = model,\n",
    "    optimizer = optimizer,\n",
    "    scheduler_append = False,\n",
    "    scheduler = scheduler,\n",
    "    loss_fn = nn.CrossEntropyLoss(),\n",
    "    train_dataloader = train_dataloader,\n",
    "    val_dataloader = val_dataloader,\n",
    "    regulizer = False,\n",
    "    reg_type = 'l1',\n",
    "    stop_mode = True,\n",
    "    each__X__epoch = 100,\n",
    "    stop_diff_value = 0.001,\n",
    "    verbose_epoch = 100\n",
    ")"
   ]
  }
 ],
 "metadata": {
  "kernelspec": {
   "display_name": "newenv",
   "language": "python",
   "name": "python3"
  },
  "language_info": {
   "codemirror_mode": {
    "name": "ipython",
    "version": 3
   },
   "file_extension": ".py",
   "mimetype": "text/x-python",
   "name": "python",
   "nbconvert_exporter": "python",
   "pygments_lexer": "ipython3",
   "version": "3.10.13"
  }
 },
 "nbformat": 4,
 "nbformat_minor": 2
}
