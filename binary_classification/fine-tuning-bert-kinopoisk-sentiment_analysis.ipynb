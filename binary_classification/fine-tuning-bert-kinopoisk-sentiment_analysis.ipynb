{
 "cells": [
  {
   "cell_type": "markdown",
   "metadata": {},
   "source": [
    "# Контекст\n",
    "\n",
    "- датасет kinopoisk.ru (отзывы о фильмах)\n",
    "- бинарная классификация отзывов\n",
    "- 0 - негативные (train 14275)\n",
    "- 1 - позитивные (train 62739)\n",
    "- model = 'distilbert-base-uncased'\n",
    "- токенизатор сменен на русский язык"
   ]
  },
  {
   "cell_type": "code",
   "execution_count": 1,
   "metadata": {},
   "outputs": [
    {
     "name": "stdout",
     "output_type": "stream",
     "text": [
      "CUDA ?:  True\n"
     ]
    }
   ],
   "source": [
    "# база\n",
    "import pandas as pd\n",
    "import warnings\n",
    "import numpy as np\n",
    "import json\n",
    "import time\n",
    "\n",
    "# визуализация\n",
    "import seaborn as sns\n",
    "import matplotlib.pyplot as plt\n",
    "\n",
    "\n",
    "\n",
    "# pytorch\n",
    "import torch\n",
    "import torch.nn as nn\n",
    "from torch.utils.data import Dataset, DataLoader\n",
    "\n",
    "\n",
    "warnings.filterwarnings(\"ignore\")\n",
    "device = torch.device('cuda' if torch.cuda.is_available() else 'cpu')\n",
    "print('CUDA ?: ', torch.cuda.is_available())"
   ]
  },
  {
   "cell_type": "markdown",
   "metadata": {},
   "source": [
    "# Чтение данных"
   ]
  },
  {
   "cell_type": "code",
   "execution_count": 2,
   "metadata": {},
   "outputs": [
    {
     "name": "stdout",
     "output_type": "stream",
     "text": [
      "Couldn't find program: 'False'\n"
     ]
    }
   ],
   "source": [
    "%%script False\n",
    "\n",
    "data = pd.read_csv('kinopoisk_binary_sentiment_analysis.csv')\n",
    "data.head()"
   ]
  },
  {
   "cell_type": "code",
   "execution_count": 3,
   "metadata": {},
   "outputs": [
    {
     "name": "stdout",
     "output_type": "stream",
     "text": [
      "Couldn't find program: 'False'\n"
     ]
    }
   ],
   "source": [
    "%%script False\n",
    "\n",
    "data['label'].value_counts()"
   ]
  },
  {
   "cell_type": "markdown",
   "metadata": {},
   "source": [
    "# train-val-test split"
   ]
  },
  {
   "cell_type": "code",
   "execution_count": 4,
   "metadata": {},
   "outputs": [
    {
     "name": "stdout",
     "output_type": "stream",
     "text": [
      "Couldn't find program: 'False'\n"
     ]
    }
   ],
   "source": [
    "%%script False\n",
    "\n",
    "from sklearn.model_selection import train_test_split\n",
    "\n",
    "train, test = train_test_split(\n",
    "    data,\n",
    "    test_size = 0.1,\n",
    "    stratify = data['label'],\n",
    "    shuffle = True,\n",
    "    random_state = 42\n",
    ")\n",
    "\n",
    "train, val = train_test_split(\n",
    "    train,\n",
    "    test_size = 0.2,\n",
    "    shuffle = True,\n",
    "    stratify = train['label'],\n",
    "    random_state = 42\n",
    ")"
   ]
  },
  {
   "cell_type": "code",
   "execution_count": 5,
   "metadata": {},
   "outputs": [
    {
     "name": "stdout",
     "output_type": "stream",
     "text": [
      "Couldn't find program: 'False'\n"
     ]
    }
   ],
   "source": [
    "%%script False\n",
    "\n",
    "print(len(train), len(val), len(test))"
   ]
  },
  {
   "cell_type": "markdown",
   "metadata": {},
   "source": [
    "# Скачивание DistillBert и установка RU токенизатора"
   ]
  },
  {
   "cell_type": "code",
   "execution_count": 6,
   "metadata": {},
   "outputs": [
    {
     "name": "stderr",
     "output_type": "stream",
     "text": [
      "Some weights of the model checkpoint at distilbert-base-uncased were not used when initializing DistilBertForSequenceClassification: ['vocab_transform.bias', 'vocab_transform.weight', 'vocab_projector.weight', 'vocab_layer_norm.bias', 'vocab_projector.bias', 'vocab_layer_norm.weight']\n",
      "- This IS expected if you are initializing DistilBertForSequenceClassification from the checkpoint of a model trained on another task or with another architecture (e.g. initializing a BertForSequenceClassification model from a BertForPreTraining model).\n",
      "- This IS NOT expected if you are initializing DistilBertForSequenceClassification from the checkpoint of a model that you expect to be exactly identical (initializing a BertForSequenceClassification model from a BertForSequenceClassification model).\n",
      "Some weights of DistilBertForSequenceClassification were not initialized from the model checkpoint at distilbert-base-uncased and are newly initialized: ['classifier.weight', 'pre_classifier.bias', 'pre_classifier.weight', 'classifier.bias']\n",
      "You should probably TRAIN this model on a down-stream task to be able to use it for predictions and inference.\n",
      "Special tokens have been added in the vocabulary, make sure the associated word embeddings are fine-tuned or trained.\n"
     ]
    }
   ],
   "source": [
    "from transformers import (DistilBertTokenizerFast, DistilBertForSequenceClassification, AutoTokenizer)\n",
    "\n",
    "model_path= 'distilbert-base-uncased'\n",
    "tokenizer = DistilBertTokenizerFast.from_pretrained(model_path)\n",
    "model = DistilBertForSequenceClassification.from_pretrained(\n",
    "                                                            model_path,\n",
    "                                                            id2label={0: \"NEG\", 1: \"POS\"},\n",
    "                                                            label2id={\"NEG\": 0, \"POS\": 1}\n",
    "                                                            )\n",
    "\n",
    "russian_tokenizer = AutoTokenizer.from_pretrained(\"DmitryPogrebnoy/distilbert-base-russian-cased\")\n",
    "model.tokenizer = russian_tokenizer"
   ]
  },
  {
   "cell_type": "code",
   "execution_count": 7,
   "metadata": {},
   "outputs": [
    {
     "data": {
      "text/plain": [
       "13982"
      ]
     },
     "execution_count": 7,
     "metadata": {},
     "output_type": "execute_result"
    }
   ],
   "source": [
    "russian_tokenizer.vocab_size"
   ]
  },
  {
   "cell_type": "markdown",
   "metadata": {},
   "source": [
    "# Токенизация dataset"
   ]
  },
  {
   "cell_type": "code",
   "execution_count": 8,
   "metadata": {},
   "outputs": [
    {
     "name": "stdout",
     "output_type": "stream",
     "text": [
      "Couldn't find program: 'False'\n"
     ]
    }
   ],
   "source": [
    "%%script False\n",
    "\n",
    "tokenize_data_train = russian_tokenizer(\n",
    "    train['text'].to_list(),\n",
    "    padding = True,\n",
    "    truncation = True,\n",
    "    return_attention_mask=True\n",
    ")\n",
    "\n",
    "tokenize_data_val = russian_tokenizer(\n",
    "    val['text'].to_list(),\n",
    "    padding = True,\n",
    "    truncation = True,\n",
    "    return_attention_mask=True\n",
    ")\n",
    "\n",
    "tokenize_data_test = russian_tokenizer(\n",
    "    test['text'].to_list(),\n",
    "    padding = True,\n",
    "    truncation = True,\n",
    "    return_attention_mask=True\n",
    ")\n",
    "\n",
    "train['input_ids'], train['attention_mask'] = tokenize_data_train['input_ids'], tokenize_data_train['attention_mask']\n",
    "val['input_ids'], val['attention_mask'] = tokenize_data_val['input_ids'], tokenize_data_val['attention_mask']\n",
    "test['input_ids'], test['attention_mask'] = tokenize_data_test['input_ids'], tokenize_data_test['attention_mask']"
   ]
  },
  {
   "cell_type": "code",
   "execution_count": 9,
   "metadata": {},
   "outputs": [
    {
     "name": "stdout",
     "output_type": "stream",
     "text": [
      "Couldn't find program: 'False'\n"
     ]
    }
   ],
   "source": [
    "%%script False\n",
    "\n",
    "train.to_csv('train.csv', index = False)\n",
    "val.to_csv('val.csv', index = False)\n",
    "test.to_csv('test.csv', index = False)"
   ]
  },
  {
   "cell_type": "code",
   "execution_count": 10,
   "metadata": {},
   "outputs": [
    {
     "name": "stdout",
     "output_type": "stream",
     "text": [
      "Couldn't find program: 'False'\n"
     ]
    }
   ],
   "source": [
    "%%script False\n",
    "\n",
    "\n",
    "train = pd.read_csv('train.csv')\n",
    "val = pd.read_csv('val.csv')\n",
    "# test = pd.read_csv('test.csv')\n",
    "\n",
    "def object_to_list(stroka):\n",
    "    query = stroka.strip('[]')\n",
    "    return list(map(int, query.split(', ')))\n",
    "\n",
    "\n",
    "train['attention_mask'] = train['attention_mask'].map(object_to_list)\n",
    "val['attention_mask'] = val['attention_mask'].map(object_to_list)\n",
    "train['input_ids'] = train['input_ids'].map(object_to_list)\n",
    "val['input_ids'] = val['input_ids'].map(object_to_list)"
   ]
  },
  {
   "cell_type": "code",
   "execution_count": 11,
   "metadata": {},
   "outputs": [
    {
     "name": "stdout",
     "output_type": "stream",
     "text": [
      "Couldn't find program: 'False'\n"
     ]
    }
   ],
   "source": [
    "%%script False\n",
    "\n",
    "train.head()"
   ]
  },
  {
   "cell_type": "code",
   "execution_count": 12,
   "metadata": {},
   "outputs": [
    {
     "data": {
      "text/plain": [
       "\"training_args = TrainingArguments(\\n\\n    output_dir = 'training/model_points', # сохранение контрольных точек модели\\n    do_train = True, # мониторинг производительности\\n    do_eval = True,\\n    num_train_epochs = 3,\\n    per_device_train_batch_size = 32,\\n    per_gpu_eval_batch_size = 64,\\n    warmup_steps = 100, # оптмизация скорости обучения\\n    weight_decay = 0.01, # регуляризация весов модели\\n    logging_strategy = 'steps', # аналог verbose с сохранением логов (также есть 'epoch')\\n    logging_dir = 'training/logs',\\n    save_steps = 200,\\n    logging_steps = 100,\\n    evaluation_strategy = 'steps',\\n    fp16 = True, # Указывает на использование смешанной точности и использует как 16-, так и 32-битные типы с плавающей запятой, чтобы \\n                 # обучение проходило быстрее и занимало меньше памяти (Можно fp16 = cuda.is_available())\\n    load_best_model_at_end = True\\n)\""
      ]
     },
     "execution_count": 12,
     "metadata": {},
     "output_type": "execute_result"
    }
   ],
   "source": [
    "'''training_args = TrainingArguments(\n",
    "\n",
    "    output_dir = 'training/model_points', # сохранение контрольных точек модели\n",
    "    do_train = True, # мониторинг производительности\n",
    "    do_eval = True,\n",
    "    num_train_epochs = 3,\n",
    "    per_device_train_batch_size = 32,\n",
    "    per_gpu_eval_batch_size = 64,\n",
    "    warmup_steps = 100, # оптмизация скорости обучения\n",
    "    weight_decay = 0.01, # регуляризация весов модели\n",
    "    logging_strategy = 'steps', # аналог verbose с сохранением логов (также есть 'epoch')\n",
    "    logging_dir = 'training/logs',\n",
    "    save_steps = 200,\n",
    "    logging_steps = 100,\n",
    "    evaluation_strategy = 'steps',\n",
    "    fp16 = True, # Указывает на использование смешанной точности и использует как 16-, так и 32-битные типы с плавающей запятой, чтобы \n",
    "                 # обучение проходило быстрее и занимало меньше памяти (Можно fp16 = cuda.is_available())\n",
    "    load_best_model_at_end = True\n",
    ")'''"
   ]
  },
  {
   "cell_type": "markdown",
   "metadata": {},
   "source": [
    "# Dataset"
   ]
  },
  {
   "cell_type": "code",
   "execution_count": 2,
   "metadata": {},
   "outputs": [],
   "source": [
    "def object_to_list(stroka):\n",
    "    query = stroka.strip('[]')\n",
    "    return list(map(int, query.split(', ')))"
   ]
  },
  {
   "cell_type": "code",
   "execution_count": 3,
   "metadata": {},
   "outputs": [],
   "source": [
    "class Kinopoisk_Dataset(Dataset):\n",
    "\n",
    "    def __init__(self, mode):\n",
    "        self.data = pd.read_csv(f'{mode}.csv')\n",
    "        self.data = self.data.sample(frac = 1, random_state = 42)\n",
    "\n",
    "    def __len__(self):\n",
    "        return len(self.data)\n",
    "    \n",
    "    def __getitem__(self, index):\n",
    "        row = self.data.iloc[index]\n",
    "        row['input_ids'] = object_to_list(row['input_ids'])\n",
    "        row['attention_mask'] = object_to_list(row['attention_mask'])\n",
    "                \n",
    "        return {\n",
    "            'input_ids': torch.tensor(row['input_ids']),\n",
    "            'attention_mask': torch.tensor(row['attention_mask']),\n",
    "            'labels': torch.tensor(row['label'])\n",
    "        }"
   ]
  },
  {
   "cell_type": "markdown",
   "metadata": {},
   "source": [
    "# Trainer"
   ]
  },
  {
   "cell_type": "code",
   "execution_count": 15,
   "metadata": {},
   "outputs": [
    {
     "data": {
      "text/plain": [
       "'trainer = Trainer(\\n\\n    model = model,\\n    args = training_args,\\n    train_dataset = Kinopoisk_Dataset(train.iloc[:10000, :]),\\n    eval_dataset = Kinopoisk_Dataset(val.iloc[:10000, :]),\\n    compute_metrics = compute_metrics   \\n)\\n\\n\\nresults = trainer.train()'"
      ]
     },
     "execution_count": 15,
     "metadata": {},
     "output_type": "execute_result"
    }
   ],
   "source": [
    "'''trainer = Trainer(\n",
    "\n",
    "    model = model,\n",
    "    args = training_args,\n",
    "    train_dataset = Kinopoisk_Dataset(train.iloc[:10000, :]),\n",
    "    eval_dataset = Kinopoisk_Dataset(val.iloc[:10000, :]),\n",
    "    compute_metrics = compute_metrics   \n",
    ")\n",
    "\n",
    "\n",
    "results = trainer.train()'''"
   ]
  },
  {
   "cell_type": "markdown",
   "metadata": {},
   "source": [
    "# Проверка модели + настройка metric"
   ]
  },
  {
   "cell_type": "code",
   "execution_count": 16,
   "metadata": {},
   "outputs": [
    {
     "data": {
      "text/plain": [
       "\"def object_to_list(stroka):\\n    query = stroka.strip('[]')\\n    return list(map(int, query.split(', ')))\\n\\n\\ntrain['attention_mask'] = train['attention_mask'].map(object_to_list)\\n# val['attention_mask'] = val['attention_mask'].map(object_to_list)\\ntrain['input_ids'] = train['input_ids'].map(object_to_list)\\n# val['input_ids'] = val['input_ids'].map(object_to_list)\""
      ]
     },
     "execution_count": 16,
     "metadata": {},
     "output_type": "execute_result"
    }
   ],
   "source": [
    "# train = pd.read_csv('train.csv')\n",
    "'''val = pd.read_csv('val.csv')\n",
    "# test = pd.read_csv('test.csv')'''\n",
    "\n",
    "'''def object_to_list(stroka):\n",
    "    query = stroka.strip('[]')\n",
    "    return list(map(int, query.split(', ')))\n",
    "\n",
    "\n",
    "train['attention_mask'] = train['attention_mask'].map(object_to_list)\n",
    "# val['attention_mask'] = val['attention_mask'].map(object_to_list)\n",
    "train['input_ids'] = train['input_ids'].map(object_to_list)\n",
    "# val['input_ids'] = val['input_ids'].map(object_to_list)'''"
   ]
  },
  {
   "cell_type": "markdown",
   "metadata": {},
   "source": [
    "# Pytorch обучение"
   ]
  },
  {
   "cell_type": "markdown",
   "metadata": {},
   "source": [
    "## Доп. функции (L1_L2 reg, batch metric)"
   ]
  },
  {
   "cell_type": "code",
   "execution_count": 4,
   "metadata": {},
   "outputs": [],
   "source": [
    "def loss_with_l1_or_l2_regulizer(\n",
    "        \n",
    "        model,\n",
    "        type, # Здесь могут быть 3 вида : 'l1', 'l2', 'l1_l2' \n",
    "        l_lambda, # 0.001\n",
    "        loss_by_fn):\n",
    "    \n",
    "    if type == 'l2':\n",
    "        l_norm = sum(p.pow(2.0).sum() for p in model.parameters())\n",
    "\n",
    "    if type == 'l1':\n",
    "        l_norm = sum(p.abs().sum() for p in model.parameters())\n",
    "\n",
    "    if type == 'l1_l2':\n",
    "        l_norm = sum((p.abs() + p.pow(2.0)).sum() for p in model.parameters())\n",
    "    \n",
    "    loss_plus_reg = loss_by_fn + l_lambda * l_norm\n",
    "    return loss_plus_reg\n",
    "\n",
    "\n",
    "\n",
    "def create_folder(name):\n",
    "    import os\n",
    "    os.mkdir(name)\n",
    "\n",
    "\n",
    "'''\n",
    "def batch_metric(output, y_true):\n",
    "    output = torch.argmax(output, dim = 1)\n",
    "    output = output.detach().cpu().numpy()\n",
    "    y_true = y_true.detach().cpu().numpy()\n",
    "    f1_score_macro = f1_score(\n",
    "        y_true = y_true,\n",
    "        y_pred = output,\n",
    "        average = 'macro'\n",
    "    )\n",
    "    return f1_score_macro\n",
    "'''\n",
    "\n",
    "\n",
    "\n",
    "from sklearn.metrics import (accuracy_score, precision_recall_fscore_support)\n",
    "\n",
    "def compute_metrics(output, y_true):\n",
    "\n",
    "    y_true = y_true.detach().cpu().numpy()\n",
    "    y_pred = torch.argmax(output, dim = 1).detach().cpu().numpy()\n",
    "    Precision, Recall, f1, _ = precision_recall_fscore_support(\n",
    "        y_true,\n",
    "        y_pred,\n",
    "        average = 'macro'\n",
    "    )\n",
    "    acc = accuracy_score(y_true, y_pred)\n",
    "    \n",
    "    return {\n",
    "        'Accuracy': acc,\n",
    "        'F1': f1,\n",
    "        'Precision': Precision,\n",
    "        'Recall': Recall\n",
    "    }"
   ]
  },
  {
   "cell_type": "markdown",
   "metadata": {},
   "source": [
    "## Training loop"
   ]
  },
  {
   "cell_type": "code",
   "execution_count": 5,
   "metadata": {},
   "outputs": [],
   "source": [
    "def training_loop(\n",
    "        # папка сохранения\n",
    "        name_model_folder,\n",
    "\n",
    "\n",
    "        # основные настройки\n",
    "        epoches,\n",
    "        model,\n",
    "        optimizer,\n",
    "\n",
    "        loss_fn,\n",
    "        train_dataloader,\n",
    "        val_dataloader,\n",
    "\n",
    "        # regulizer\n",
    "        regulizer_append,\n",
    "        reg_type,\n",
    "\n",
    "        # verbose\n",
    "        verbose_epoch\n",
    "        ):\n",
    "    \n",
    "    device = torch.device('cuda' if torch.cuda.is_available() else 'cpu')\n",
    "    create_folder(name_model_folder)\n",
    "    \n",
    "    '''loss_train_list = []\n",
    "    loss_val_list = []'''\n",
    "    batch_data = {\n",
    "           'loss_train': [],\n",
    "           'loss_val': [],\n",
    "           'train_accuracy' : [],\n",
    "           'train_f1': [],\n",
    "           'train_precision': [],\n",
    "           'train_recall': [],\n",
    "           'val_accuracy' : [],\n",
    "           'val_f1': [],\n",
    "           'val_precision': [],\n",
    "           'val_recall': []\n",
    "    }\n",
    "\n",
    "    '''epoch_data = {\n",
    "           'loss_train': [],\n",
    "           'loss_val': [],\n",
    "           'train_accuracy' : [],\n",
    "           'train_f1': [],\n",
    "           'train_precision': [],\n",
    "           'train_recall': [],\n",
    "           'val_accuracy' : [],\n",
    "           'val_f1': [],\n",
    "           'val_precision': [],\n",
    "           'val_recall': []\n",
    "    }'''\n",
    "    best_loss = float('inf')\n",
    "    model = model.to(device)\n",
    "    step = 1\n",
    "\n",
    "    for epoch in range(1, epoches+1):\n",
    "            \n",
    "            \n",
    "            loss_train_summarize = 0.0\n",
    "            loss_val_summarize = 0.0\n",
    "            \n",
    "            start_time = time.time()\n",
    "\n",
    "            for batch in train_dataloader:\n",
    "                \n",
    "                model.train()\n",
    "                input_ids = batch['input_ids'].to(device)\n",
    "                attention_mask = batch['attention_mask'].to(device)\n",
    "                labels = batch['labels'].to(device)\n",
    "                outputs = model(input_ids, attention_mask)[0]\n",
    "\n",
    "                # Тренировочный потери\n",
    "                loss = loss_fn(outputs, labels)\n",
    "                \n",
    "                if regulizer_append:\n",
    "                        loss = loss_with_l1_or_l2_regulizer(\n",
    "                                model = model,\n",
    "                                type = reg_type,\n",
    "                                l_lambda = 0.001,\n",
    "                                loss_by_fn = loss\n",
    "                                )\n",
    "                \n",
    "                optimizer.zero_grad()\n",
    "                loss.backward()\n",
    "                optimizer.step()\n",
    "                \n",
    "                loss_train_summarize += loss.item()\n",
    "\n",
    "                batch_metrics_slovar_train = compute_metrics(outputs, labels)\n",
    "\n",
    "                batch_data['loss_train'].append(loss.item())\n",
    "                batch_data['train_accuracy'].append(batch_metrics_slovar_train['Accuracy'])\n",
    "                batch_data['train_f1'].append(batch_metrics_slovar_train['F1'])\n",
    "                batch_data['train_precision'].append(batch_metrics_slovar_train['Precision'])\n",
    "                batch_data['train_recall'].append(batch_metrics_slovar_train['Recall'])\n",
    "\n",
    "                if np.min(loss.item()) < best_loss:\n",
    "                        best_loss = loss.item()\n",
    "                        torch.save(model.state_dict(), f'{name_model_folder}/model_weights_{step}_step.pth')\n",
    "\n",
    "                step += 1\n",
    "            #####################################################\n",
    "            mean_epoch_loss_train = loss_train_summarize / len(train_dataloader)\n",
    "            # Проверочный этап\n",
    "            model.eval()\n",
    "            with torch.no_grad():\n",
    "                for batch in val_dataloader:\n",
    "                        input_ids = batch['input_ids'].to(device)\n",
    "                        attention_mask = batch['attention_mask'].to(device)\n",
    "                        labels = batch['labels'].to(device)\n",
    "                        outputs = model(input_ids, attention_mask)[0]\n",
    "                        loss_on_val = loss_fn(outputs, labels)\n",
    "\n",
    "                        loss_val_summarize += loss_on_val.item()\n",
    "\n",
    "                        batch_metrics_slovar_val = compute_metrics(outputs, labels)\n",
    "\n",
    "                        batch_data['loss_val'].append(loss_on_val.item())\n",
    "                        batch_data['val_accuracy'].append(batch_metrics_slovar_val['Accuracy'])\n",
    "                        batch_data['val_f1'].append(batch_metrics_slovar_val['F1'])\n",
    "                        batch_data['val_precision'].append(batch_metrics_slovar_val['Precision'])\n",
    "                        batch_data['val_recall'].append(batch_metrics_slovar_val['Recall'])\n",
    "                \n",
    "                mean_epoch_val_loss = loss_val_summarize / len(val_dataloader)\n",
    "                '''# Сохранение состояний модели\n",
    "                if np.min(batch_data['loss_val']) < best_loss:\n",
    "                        best_loss = np.min(batch_data['loss_val'])\n",
    "                        torch.save(model.state_dict(), f'{name_model_folder}/model_weights_{epoch}_epoch.pth')'''\n",
    "            ##############################################################\n",
    "            end_time = time.time()\n",
    "            epoch_time = end_time - start_time\n",
    "            расчетное_время_выполнения_цикла = (epoch_time*epoches) / 60\n",
    "            ############ VERBOSE #########################################\n",
    "            if epoch == 1:\n",
    "                   print('Расчетное время выполнения всего цикла {:.3f} минут'.format(расчетное_время_выполнения_цикла))            \n",
    "            if epoch == 1 or epoch % verbose_epoch == 0:\n",
    "                print(\n",
    "                        'Epoch {:5}/{:5} || time: {:.3f} || train loss: {:.3f} || val_loss {:.3f}'\n",
    "                        .format(epoch,\n",
    "                                epoches,\n",
    "                                epoch_time,\n",
    "                                mean_epoch_loss_train,\n",
    "                                mean_epoch_val_loss\n",
    "                                )     \n",
    "                      )\n",
    "    return model, batch_data  "
   ]
  },
  {
   "cell_type": "markdown",
   "metadata": {},
   "source": [
    "# model_1"
   ]
  },
  {
   "cell_type": "code",
   "execution_count": 19,
   "metadata": {},
   "outputs": [
    {
     "name": "stdout",
     "output_type": "stream",
     "text": [
      "Расчетное время выполнения всего цикла 73.773 минут\n",
      "Epoch     1/    3 || time: 1475.470 || train loss: 0.950 || val_loss 0.488\n",
      "Epoch     2/    3 || time: 1437.396 || train loss: 0.482 || val_loss 0.488\n",
      "Epoch     3/    3 || time: 1424.193 || train loss: 0.482 || val_loss 0.488\n"
     ]
    }
   ],
   "source": [
    "train_dataloader = DataLoader(\n",
    "    dataset = Kinopoisk_Dataset('train'),\n",
    "    batch_size = 16,\n",
    "    drop_last = True\n",
    ")\n",
    "\n",
    "val_dataloader = DataLoader(\n",
    "    dataset = Kinopoisk_Dataset('val'),\n",
    "    batch_size = 16,\n",
    "    drop_last = True\n",
    ")\n",
    "\n",
    "\n",
    "optimizer = torch.optim.Adam(model.parameters(), lr = 0.05)\n",
    "loss_fn = nn.CrossEntropyLoss()\n",
    "\n",
    "model, results =\\\n",
    "training_loop(\n",
    "        # папка сохранения\n",
    "        name_model_folder = 'model_2',\n",
    "        # основные настройки\n",
    "        epoches = 3,\n",
    "        model = model,\n",
    "        optimizer = optimizer,\n",
    "        loss_fn = loss_fn,\n",
    "        train_dataloader = train_dataloader,\n",
    "        val_dataloader = val_dataloader,\n",
    "        # regulizer\n",
    "        regulizer_append = False,\n",
    "        reg_type = None,\n",
    "        # verbose\n",
    "        verbose_epoch = 1\n",
    "        )"
   ]
  },
  {
   "cell_type": "markdown",
   "metadata": {},
   "source": [
    "# Evaluation"
   ]
  },
  {
   "cell_type": "code",
   "execution_count": 27,
   "metadata": {},
   "outputs": [
    {
     "data": {
      "text/plain": [
       "<matplotlib.legend.Legend at 0x1b8650e5f30>"
      ]
     },
     "execution_count": 27,
     "metadata": {},
     "output_type": "execute_result"
    },
    {
     "data": {
      "image/png": "[encoded data removed]",
      "text/plain": [
       "<Figure size 640x480 with 1 Axes>"
      ]
     },
     "metadata": {},
     "output_type": "display_data"
    }
   ],
   "source": [
    "sns.lineplot(\n",
    "    x = np.arange(1, len(results['loss_train'])+1),\n",
    "    y = results['loss_train'],\n",
    "    color = 'blue',\n",
    "    label = 'train'\n",
    ")\n",
    "sns.lineplot(\n",
    "    x = np.arange(1, len(results['loss_val'])+1),\n",
    "    y = results['loss_val'],\n",
    "    color = 'green',\n",
    "    label = 'val'\n",
    ")\n",
    "\n",
    "plt.xlabel('\\nbatch number')\n",
    "plt.ylabel('loss')\n",
    "plt.legend()"
   ]
  },
  {
   "cell_type": "code",
   "execution_count": 28,
   "metadata": {},
   "outputs": [
    {
     "data": {
      "text/plain": [
       "<matplotlib.legend.Legend at 0x1b865166110>"
      ]
     },
     "execution_count": 28,
     "metadata": {},
     "output_type": "execute_result"
    },
    {
     "data": {
      "image/png": "[encoded data removed]",
      "text/plain": [
       "<Figure size 640x480 with 1 Axes>"
      ]
     },
     "metadata": {},
     "output_type": "display_data"
    }
   ],
   "source": [
    "sns.lineplot(\n",
    "    x = np.arange(1, len(results['train_accuracy'])+1),\n",
    "    y = results['train_accuracy'],\n",
    "    color = 'blue',\n",
    "    label = 'train'\n",
    ")\n",
    "sns.lineplot(\n",
    "    x = np.arange(1, len(results['val_accuracy'])+1),\n",
    "    y = results['val_accuracy'],\n",
    "    color = 'green',\n",
    "    label = 'val'\n",
    ")\n",
    "plt.xlabel('\\nbatch number')\n",
    "plt.ylabel('accuracy')\n",
    "plt.legend()"
   ]
  },
  {
   "cell_type": "code",
   "execution_count": 29,
   "metadata": {},
   "outputs": [
    {
     "data": {
      "text/plain": [
       "<matplotlib.legend.Legend at 0x1b84d209b70>"
      ]
     },
     "execution_count": 29,
     "metadata": {},
     "output_type": "execute_result"
    },
    {
     "data": {
      "image/png": "[encoded data removed]",
      "text/plain": [
       "<Figure size 640x480 with 1 Axes>"
      ]
     },
     "metadata": {},
     "output_type": "display_data"
    }
   ],
   "source": [
    "sns.lineplot(\n",
    "    x = np.arange(1, len(results['train_f1'])+1),\n",
    "    y = results['train_f1'],\n",
    "    color = 'blue',\n",
    "    label = 'train'\n",
    ")\n",
    "sns.lineplot(\n",
    "    x = np.arange(1, len(results['val_f1'])+1),\n",
    "    y = results['val_f1'],\n",
    "    color = 'green',\n",
    "    label = 'val'\n",
    ")\n",
    "plt.xlabel('\\nbatch number')\n",
    "plt.ylabel('f1')\n",
    "plt.legend()"
   ]
  },
  {
   "cell_type": "code",
   "execution_count": 30,
   "metadata": {},
   "outputs": [
    {
     "data": {
      "text/plain": [
       "<matplotlib.legend.Legend at 0x1b84d23f010>"
      ]
     },
     "execution_count": 30,
     "metadata": {},
     "output_type": "execute_result"
    },
    {
     "data": {
      "image/png": "[encoded data removed]",
      "text/plain": [
       "<Figure size 640x480 with 1 Axes>"
      ]
     },
     "metadata": {},
     "output_type": "display_data"
    }
   ],
   "source": [
    "sns.lineplot(\n",
    "    x = np.arange(1, len(results['train_precision'])+1),\n",
    "    y = results['train_precision'],\n",
    "    color = 'blue',\n",
    "    label = 'train'\n",
    ")\n",
    "sns.lineplot(\n",
    "    x = np.arange(1, len(results['val_precision'])+1),\n",
    "    y = results['val_precision'],\n",
    "    color = 'green',\n",
    "    label = 'val'\n",
    ")\n",
    "plt.xlabel('\\nbatch number')\n",
    "plt.ylabel('precision')\n",
    "plt.legend()"
   ]
  },
  {
   "cell_type": "code",
   "execution_count": 31,
   "metadata": {},
   "outputs": [],
   "source": [
    "test_dataloader = DataLoader(\n",
    "    dataset = Kinopoisk_Dataset('test'),\n",
    "    batch_size = 8\n",
    ")\n",
    "\n",
    "\n",
    "test_data_results = {\n",
    "           'accuracy' : [],\n",
    "           'f1': [],\n",
    "           'precision': [],\n",
    "           'recall': []\n",
    "            }\n",
    "\n",
    "\n",
    "model.eval()\n",
    "with torch.no_grad():\n",
    "    for batch in test_dataloader:\n",
    "        input_ids = batch['input_ids'].to(device)\n",
    "        attention_mask = batch['attention_mask'].to(device)\n",
    "        labels = batch['labels'].to(device)\n",
    "\n",
    "        outputs = model(input_ids, attention_mask)[0]\n",
    "        batch_metrics_slovar_test = compute_metrics(outputs, labels)\n",
    "\n",
    "        test_data_results['accuracy'].append(batch_metrics_slovar_test['Accuracy'])\n",
    "        test_data_results['f1'].append(batch_metrics_slovar_test['F1'])\n",
    "        test_data_results['precision'].append(batch_metrics_slovar_test['Precision'])\n",
    "        test_data_results['recall'].append(batch_metrics_slovar_test['Recall'])"
   ]
  },
  {
   "cell_type": "code",
   "execution_count": 32,
   "metadata": {},
   "outputs": [
    {
     "name": "stdout",
     "output_type": "stream",
     "text": [
      "accuracy: 0.814\n",
      "f1: 0.541\n",
      "precision: 0.503\n",
      "recall: 0.595\n"
     ]
    }
   ],
   "source": [
    "for metric in list(test_data_results.keys()):\n",
    "    print('{}: {:.3f}'.format(metric, np.mean(test_data_results[metric])))"
   ]
  },
  {
   "cell_type": "markdown",
   "metadata": {},
   "source": [
    "# RuBERT model"
   ]
  },
  {
   "cell_type": "code",
   "execution_count": 38,
   "metadata": {},
   "outputs": [
    {
     "data": {
      "text/html": [
       "<div>\n",
       "<style scoped>\n",
       "    .dataframe tbody tr th:only-of-type {\n",
       "        vertical-align: middle;\n",
       "    }\n",
       "\n",
       "    .dataframe tbody tr th {\n",
       "        vertical-align: top;\n",
       "    }\n",
       "\n",
       "    .dataframe thead th {\n",
       "        text-align: right;\n",
       "    }\n",
       "</style>\n",
       "<table border=\"1\" class=\"dataframe\">\n",
       "  <thead>\n",
       "    <tr style=\"text-align: right;\">\n",
       "      <th></th>\n",
       "      <th>text</th>\n",
       "      <th>label</th>\n",
       "      <th>link</th>\n",
       "      <th>input_ids</th>\n",
       "      <th>attention_mask</th>\n",
       "    </tr>\n",
       "  </thead>\n",
       "  <tbody>\n",
       "    <tr>\n",
       "      <th>0</th>\n",
       "      <td>13 сентября в российский прокат выходит комеди...</td>\n",
       "      <td>1</td>\n",
       "      <td>dataset/pos/479608-21.txt</td>\n",
       "      <td>[101, 441, 1141, 179, 3662, 875, 5273, 9213, 7...</td>\n",
       "      <td>[1, 1, 1, 1, 1, 1, 1, 1, 1, 1, 1, 1, 1, 1, 1, ...</td>\n",
       "    </tr>\n",
       "    <tr>\n",
       "      <th>1</th>\n",
       "      <td>Признаюсь, я заинтересовался этим фильмом дале...</td>\n",
       "      <td>1</td>\n",
       "      <td>dataset/pos/843789-18.txt</td>\n",
       "      <td>[101, 1068, 5079, 515, 746, 113, 208, 437, 771...</td>\n",
       "      <td>[1, 1, 1, 1, 1, 1, 1, 1, 1, 1, 1, 1, 1, 1, 1, ...</td>\n",
       "    </tr>\n",
       "    <tr>\n",
       "      <th>2</th>\n",
       "      <td>Взглянув на описание сериала, я ждал нечто 'Се...</td>\n",
       "      <td>1</td>\n",
       "      <td>dataset/pos/394375-68.txt</td>\n",
       "      <td>[101, 147, 708, 560, 9810, 7972, 414, 10974, 6...</td>\n",
       "      <td>[1, 1, 1, 1, 1, 1, 1, 1, 1, 1, 1, 1, 1, 1, 1, ...</td>\n",
       "    </tr>\n",
       "    <tr>\n",
       "      <th>3</th>\n",
       "      <td>С самого начала возникает вопрос:' Что происхо...</td>\n",
       "      <td>1</td>\n",
       "      <td>dataset/pos/16751-1.txt</td>\n",
       "      <td>[101, 162, 3238, 1889, 490, 8097, 6606, 6782, ...</td>\n",
       "      <td>[1, 1, 1, 1, 1, 1, 1, 1, 1, 1, 1, 1, 1, 1, 1, ...</td>\n",
       "    </tr>\n",
       "    <tr>\n",
       "      <th>4</th>\n",
       "      <td>Редко когда такой крупнобюджетный блокбастер п...</td>\n",
       "      <td>0</td>\n",
       "      <td>dataset/neg/505966-40.txt</td>\n",
       "      <td>[101, 6756, 717, 1163, 4864, 187, 1073, 12273,...</td>\n",
       "      <td>[1, 1, 1, 1, 1, 1, 1, 1, 1, 1, 1, 1, 1, 1, 1, ...</td>\n",
       "    </tr>\n",
       "  </tbody>\n",
       "</table>\n",
       "</div>"
      ],
      "text/plain": [
       "                                                text  label  \\\n",
       "0  13 сентября в российский прокат выходит комеди...      1   \n",
       "1  Признаюсь, я заинтересовался этим фильмом дале...      1   \n",
       "2  Взглянув на описание сериала, я ждал нечто 'Се...      1   \n",
       "3  С самого начала возникает вопрос:' Что происхо...      1   \n",
       "4  Редко когда такой крупнобюджетный блокбастер п...      0   \n",
       "\n",
       "                        link  \\\n",
       "0  dataset/pos/479608-21.txt   \n",
       "1  dataset/pos/843789-18.txt   \n",
       "2  dataset/pos/394375-68.txt   \n",
       "3    dataset/pos/16751-1.txt   \n",
       "4  dataset/neg/505966-40.txt   \n",
       "\n",
       "                                           input_ids  \\\n",
       "0  [101, 441, 1141, 179, 3662, 875, 5273, 9213, 7...   \n",
       "1  [101, 1068, 5079, 515, 746, 113, 208, 437, 771...   \n",
       "2  [101, 147, 708, 560, 9810, 7972, 414, 10974, 6...   \n",
       "3  [101, 162, 3238, 1889, 490, 8097, 6606, 6782, ...   \n",
       "4  [101, 6756, 717, 1163, 4864, 187, 1073, 12273,...   \n",
       "\n",
       "                                      attention_mask  \n",
       "0  [1, 1, 1, 1, 1, 1, 1, 1, 1, 1, 1, 1, 1, 1, 1, ...  \n",
       "1  [1, 1, 1, 1, 1, 1, 1, 1, 1, 1, 1, 1, 1, 1, 1, ...  \n",
       "2  [1, 1, 1, 1, 1, 1, 1, 1, 1, 1, 1, 1, 1, 1, 1, ...  \n",
       "3  [1, 1, 1, 1, 1, 1, 1, 1, 1, 1, 1, 1, 1, 1, 1, ...  \n",
       "4  [1, 1, 1, 1, 1, 1, 1, 1, 1, 1, 1, 1, 1, 1, 1, ...  "
      ]
     },
     "execution_count": 38,
     "metadata": {},
     "output_type": "execute_result"
    }
   ],
   "source": [
    "test = pd.read_csv('test.csv')\n",
    "test.head()"
   ]
  },
  {
   "cell_type": "code",
   "execution_count": 40,
   "metadata": {},
   "outputs": [
    {
     "name": "stderr",
     "output_type": "stream",
     "text": [
      "Special tokens have been added in the vocabulary, make sure the associated word embeddings are fine-tuned or trained.\n"
     ]
    }
   ],
   "source": [
    "from transformers import pipeline\n",
    "\n",
    "pipe = pipeline(\"text-classification\", model=\"blanchefort/rubert-base-cased-sentiment-mokoron\")"
   ]
  },
  {
   "cell_type": "code",
   "execution_count": 50,
   "metadata": {},
   "outputs": [],
   "source": [
    "max_length = 512\n",
    "test['text'] = test['text'].apply(lambda x: x[:max_length])\n",
    "result_RuBERT = pipe(test['text'].to_list())"
   ]
  },
  {
   "cell_type": "code",
   "execution_count": 57,
   "metadata": {},
   "outputs": [
    {
     "data": {
      "text/html": [
       "<div>\n",
       "<style scoped>\n",
       "    .dataframe tbody tr th:only-of-type {\n",
       "        vertical-align: middle;\n",
       "    }\n",
       "\n",
       "    .dataframe tbody tr th {\n",
       "        vertical-align: top;\n",
       "    }\n",
       "\n",
       "    .dataframe thead th {\n",
       "        text-align: right;\n",
       "    }\n",
       "</style>\n",
       "<table border=\"1\" class=\"dataframe\">\n",
       "  <thead>\n",
       "    <tr style=\"text-align: right;\">\n",
       "      <th></th>\n",
       "      <th>label_predict_RuBERT</th>\n",
       "      <th>score</th>\n",
       "      <th>lable_true</th>\n",
       "    </tr>\n",
       "  </thead>\n",
       "  <tbody>\n",
       "    <tr>\n",
       "      <th>0</th>\n",
       "      <td>0</td>\n",
       "      <td>0.537396</td>\n",
       "      <td>1</td>\n",
       "    </tr>\n",
       "    <tr>\n",
       "      <th>1</th>\n",
       "      <td>1</td>\n",
       "      <td>0.999896</td>\n",
       "      <td>1</td>\n",
       "    </tr>\n",
       "    <tr>\n",
       "      <th>2</th>\n",
       "      <td>0</td>\n",
       "      <td>0.529620</td>\n",
       "      <td>1</td>\n",
       "    </tr>\n",
       "    <tr>\n",
       "      <th>3</th>\n",
       "      <td>1</td>\n",
       "      <td>0.999891</td>\n",
       "      <td>1</td>\n",
       "    </tr>\n",
       "    <tr>\n",
       "      <th>4</th>\n",
       "      <td>0</td>\n",
       "      <td>0.524167</td>\n",
       "      <td>0</td>\n",
       "    </tr>\n",
       "  </tbody>\n",
       "</table>\n",
       "</div>"
      ],
      "text/plain": [
       "   label_predict_RuBERT     score  lable_true\n",
       "0                     0  0.537396           1\n",
       "1                     1  0.999896           1\n",
       "2                     0  0.529620           1\n",
       "3                     1  0.999891           1\n",
       "4                     0  0.524167           0"
      ]
     },
     "execution_count": 57,
     "metadata": {},
     "output_type": "execute_result"
    }
   ],
   "source": [
    "data_RuBERT = {\n",
    "    'label': [],\n",
    "    'score': []\n",
    "}\n",
    "\n",
    "for slovar in result_RuBERT:\n",
    "    label_RuBERT = slovar['label']\n",
    "    if '0' in label_RuBERT:\n",
    "        data_RuBERT['label'].append(0)\n",
    "    else:\n",
    "        data_RuBERT['label'].append(1)\n",
    "    data_RuBERT['score'].append(slovar['score'])\n",
    "\n",
    "data_RuBERT = pd.DataFrame(data_RuBERT)\n",
    "data_RuBERT = data_RuBERT.rename({'label': 'label_predict_RuBERT'}, axis = 1)\n",
    "data_RuBERT['lable_true'] = test['label']\n",
    "data_RuBERT.head()"
   ]
  },
  {
   "cell_type": "code",
   "execution_count": 58,
   "metadata": {},
   "outputs": [
    {
     "data": {
      "text/plain": [
       "0.4085485266657558"
      ]
     },
     "execution_count": 58,
     "metadata": {},
     "output_type": "execute_result"
    }
   ],
   "source": [
    "Precision, Recall, f1, _ = precision_recall_fscore_support(\n",
    "        data_RuBERT['lable_true'].to_list(),\n",
    "        data_RuBERT['label_predict_RuBERT'].to_list(),\n",
    "        average = 'macro'\n",
    "    )\n",
    "\n",
    "f1"
   ]
  },
  {
   "cell_type": "markdown",
   "metadata": {},
   "source": [
    "# Rubert model fine-tuning"
   ]
  },
  {
   "cell_type": "code",
   "execution_count": 6,
   "metadata": {},
   "outputs": [
    {
     "name": "stderr",
     "output_type": "stream",
     "text": [
      "Special tokens have been added in the vocabulary, make sure the associated word embeddings are fine-tuned or trained.\n"
     ]
    }
   ],
   "source": [
    "from transformers import AutoTokenizer, AutoModelForSequenceClassification\n",
    "\n",
    "tokenizer = AutoTokenizer.from_pretrained(\"blanchefort/rubert-base-cased-sentiment-mokoron\")\n",
    "model = AutoModelForSequenceClassification.from_pretrained(\"blanchefort/rubert-base-cased-sentiment-mokoron\")"
   ]
  },
  {
   "cell_type": "markdown",
   "metadata": {},
   "source": [
    "Нужно ли тренировать токенизатор в этом случае !"
   ]
  },
  {
   "cell_type": "code",
   "execution_count": null,
   "metadata": {},
   "outputs": [],
   "source": [
    "train_dataloader = DataLoader(\n",
    "    dataset = Kinopoisk_Dataset('train'),\n",
    "    batch_size = 16,\n",
    "    drop_last = True\n",
    ")\n",
    "\n",
    "val_dataloader = DataLoader(\n",
    "    dataset = Kinopoisk_Dataset('val'),\n",
    "    batch_size = 16,\n",
    "    drop_last = True\n",
    ")\n",
    "\n",
    "\n",
    "optimizer = torch.optim.Adam(model.parameters(), lr = 0.05)\n",
    "loss_fn = nn.CrossEntropyLoss()\n",
    "\n",
    "model, results =\\\n",
    "training_loop(\n",
    "        # папка сохранения\n",
    "        name_model_folder = 'model_3',\n",
    "        # основные настройки\n",
    "        epoches = 3,\n",
    "        model = model,\n",
    "        optimizer = optimizer,\n",
    "        loss_fn = loss_fn,\n",
    "        train_dataloader = train_dataloader,\n",
    "        val_dataloader = val_dataloader,\n",
    "        # regulizer\n",
    "        regulizer_append = False,\n",
    "        reg_type = None,\n",
    "        # verbose\n",
    "        verbose_epoch = 1\n",
    "        )"
   ]
  },
  {
   "cell_type": "code",
   "execution_count": null,
   "metadata": {},
   "outputs": [],
   "source": [
    "test_dataloader = DataLoader(\n",
    "    dataset = Kinopoisk_Dataset('test'),\n",
    "    batch_size = 8\n",
    ")\n",
    "\n",
    "\n",
    "test_data_results_RuBERT = {\n",
    "           'accuracy' : [],\n",
    "           'f1': [],\n",
    "           'precision': [],\n",
    "           'recall': []\n",
    "            }\n",
    "\n",
    "\n",
    "model.eval()\n",
    "with torch.no_grad():\n",
    "    for batch in test_dataloader:\n",
    "        input_ids = batch['input_ids'].to(device)\n",
    "        attention_mask = batch['attention_mask'].to(device)\n",
    "        labels = batch['labels'].to(device)\n",
    "\n",
    "        outputs = model(input_ids, attention_mask)[0]\n",
    "        batch_metrics_slovar_test = compute_metrics(outputs, labels)\n",
    "\n",
    "        test_data_results_RuBERT['accuracy'].append(batch_metrics_slovar_test['Accuracy'])\n",
    "        test_data_results_RuBERT['f1'].append(batch_metrics_slovar_test['F1'])\n",
    "        test_data_results_RuBERT['precision'].append(batch_metrics_slovar_test['Precision'])\n",
    "        test_data_results_RuBERT['recall'].append(batch_metrics_slovar_test['Recall'])"
   ]
  },
  {
   "attachments": {
    "image.png": {
     "image/png": "[encoded data removed]"
    }
   },
   "cell_type": "markdown",
   "metadata": {},
   "source": [
    "# Вывод\n",
    "\n",
    "- distill-bert-ucased fine-tuning \n",
    "\n",
    "![image.png](attachment:image.png)\n",
    "\n",
    "\n",
    "- RuBERT без тренировки ( f1 = 0.4085485266657558)\n",
    "\n",
    "\n"
   ]
  }
 ],
 "metadata": {
  "kernelspec": {
   "display_name": "base",
   "language": "python",
   "name": "python3"
  },
  "language_info": {
   "codemirror_mode": {
    "name": "ipython",
    "version": 3
   },
   "file_extension": ".py",
   "mimetype": "text/x-python",
   "name": "python",
   "nbconvert_exporter": "python",
   "pygments_lexer": "ipython3",
   "version": "3.10.13"
  }
 },
 "nbformat": 4,
 "nbformat_minor": 2
}
