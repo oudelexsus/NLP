{
 "cells": [
  {
   "cell_type": "markdown",
   "metadata": {},
   "source": [
    "# Контекст\n",
    "\n",
    "- Задача суждения о приемлимости (предполагает, что участников просят оценить приемлемость предложений, что помогает исследователям понять, как говорящие воспринимают и обрабатывают лингвистические конструкции)\n",
    "- модель: 'bert-base-uncased'\n",
    "- метрика accuracy"
   ]
  },
  {
   "cell_type": "code",
   "execution_count": 1,
   "metadata": {},
   "outputs": [],
   "source": [
    "import pandas as pd\n",
    "import time\n",
    "import numpy as np\n",
    "import matplotlib.pyplot as plt\n",
    "import seaborn as sns\n",
    "import copy\n",
    "\n",
    "import torch\n",
    "from torch.utils.data import TensorDataset,\\\n",
    "                             DataLoader\n",
    "\n",
    "# from keras.preprocessing.sequence import pad_sequences\n",
    "from sklearn.model_selection import train_test_split\n",
    "from transformers import BertTokenizer,\\\n",
    "                         BertConfig,\\\n",
    "                         BertModel\n",
    "from transformers import AdamW,\\\n",
    "                         BertForSequenceClassification,\\\n",
    "                         get_linear_schedule_with_warmup\n",
    "\n",
    "import torch\n",
    "from torch.utils.data import DataLoader\n",
    "\n",
    "device = torch.device(\"cuda\" if torch.cuda.is_available() else \"cpu\")"
   ]
  },
  {
   "cell_type": "markdown",
   "metadata": {},
   "source": [
    "# Чтение данных"
   ]
  },
  {
   "cell_type": "code",
   "execution_count": 2,
   "metadata": {},
   "outputs": [
    {
     "data": {
      "text/html": [
       "<div>\n",
       "<style scoped>\n",
       "    .dataframe tbody tr th:only-of-type {\n",
       "        vertical-align: middle;\n",
       "    }\n",
       "\n",
       "    .dataframe tbody tr th {\n",
       "        vertical-align: top;\n",
       "    }\n",
       "\n",
       "    .dataframe thead th {\n",
       "        text-align: right;\n",
       "    }\n",
       "</style>\n",
       "<table border=\"1\" class=\"dataframe\">\n",
       "  <thead>\n",
       "    <tr style=\"text-align: right;\">\n",
       "      <th></th>\n",
       "      <th>sentence_source</th>\n",
       "      <th>label</th>\n",
       "      <th>label_notes</th>\n",
       "      <th>sentence</th>\n",
       "    </tr>\n",
       "  </thead>\n",
       "  <tbody>\n",
       "    <tr>\n",
       "      <th>0</th>\n",
       "      <td>gj04</td>\n",
       "      <td>1</td>\n",
       "      <td>NaN</td>\n",
       "      <td>our friends wo n't buy this analysis , let alo...</td>\n",
       "    </tr>\n",
       "    <tr>\n",
       "      <th>1</th>\n",
       "      <td>gj04</td>\n",
       "      <td>1</td>\n",
       "      <td>NaN</td>\n",
       "      <td>one more pseudo generalization and i 'm giving...</td>\n",
       "    </tr>\n",
       "    <tr>\n",
       "      <th>2</th>\n",
       "      <td>gj04</td>\n",
       "      <td>1</td>\n",
       "      <td>NaN</td>\n",
       "      <td>one more pseudo generalization or i 'm giving ...</td>\n",
       "    </tr>\n",
       "    <tr>\n",
       "      <th>3</th>\n",
       "      <td>gj04</td>\n",
       "      <td>1</td>\n",
       "      <td>NaN</td>\n",
       "      <td>the more we study verbs , the crazier they get .</td>\n",
       "    </tr>\n",
       "    <tr>\n",
       "      <th>4</th>\n",
       "      <td>gj04</td>\n",
       "      <td>1</td>\n",
       "      <td>NaN</td>\n",
       "      <td>day by day the facts are getting murkier .</td>\n",
       "    </tr>\n",
       "  </tbody>\n",
       "</table>\n",
       "</div>"
      ],
      "text/plain": [
       "  sentence_source  label label_notes  \\\n",
       "0            gj04      1         NaN   \n",
       "1            gj04      1         NaN   \n",
       "2            gj04      1         NaN   \n",
       "3            gj04      1         NaN   \n",
       "4            gj04      1         NaN   \n",
       "\n",
       "                                            sentence  \n",
       "0  our friends wo n't buy this analysis , let alo...  \n",
       "1  one more pseudo generalization and i 'm giving...  \n",
       "2  one more pseudo generalization or i 'm giving ...  \n",
       "3   the more we study verbs , the crazier they get .  \n",
       "4         day by day the facts are getting murkier .  "
      ]
     },
     "execution_count": 2,
     "metadata": {},
     "output_type": "execute_result"
    }
   ],
   "source": [
    "data = pd.read_csv('in_domain_train.tsv', delimiter = '\\t', header = None, names = ['sentence_source', 'label', 'label_notes', 'sentence'])\n",
    "data.head()"
   ]
  },
  {
   "cell_type": "markdown",
   "metadata": {},
   "source": [
    "# Добавление CLS и SEP токенов"
   ]
  },
  {
   "cell_type": "code",
   "execution_count": 3,
   "metadata": {},
   "outputs": [
    {
     "data": {
      "text/plain": [
       "[\"[CLS] our friends wo n't buy this analysis , let alone the next one we propose . [SEP]\",\n",
       " \"[CLS] one more pseudo generalization and i 'm giving up . [SEP]\"]"
      ]
     },
     "execution_count": 3,
     "metadata": {},
     "output_type": "execute_result"
    }
   ],
   "source": [
    "sentences = data.sentence.values\n",
    "labels = data.label.values\n",
    "sentences = ['[CLS] ' + sentence + ' [SEP]' for sentence in sentences]\n",
    "\n",
    "sentences[:2]"
   ]
  },
  {
   "cell_type": "markdown",
   "metadata": {},
   "source": [
    "# Загрузка токенизатора и его применение"
   ]
  },
  {
   "cell_type": "code",
   "execution_count": 4,
   "metadata": {},
   "outputs": [
    {
     "data": {
      "text/plain": [
       "['[CLS]',\n",
       " 'our',\n",
       " 'friends',\n",
       " 'wo',\n",
       " 'n',\n",
       " \"'\",\n",
       " 't',\n",
       " 'buy',\n",
       " 'this',\n",
       " 'analysis',\n",
       " ',',\n",
       " 'let',\n",
       " 'alone',\n",
       " 'the',\n",
       " 'next',\n",
       " 'one',\n",
       " 'we',\n",
       " 'propose',\n",
       " '.',\n",
       " '[SEP]']"
      ]
     },
     "execution_count": 4,
     "metadata": {},
     "output_type": "execute_result"
    }
   ],
   "source": [
    "tokenizer = BertTokenizer.from_pretrained('bert-base-uncased', do_lower_case = True)\n",
    "tokenized_text = [tokenizer.tokenize(sentence) for sentence in sentences]\n",
    "tokenized_text[0]"
   ]
  },
  {
   "cell_type": "code",
   "execution_count": 5,
   "metadata": {},
   "outputs": [
    {
     "data": {
      "text/plain": [
       "[101,\n",
       " 2256,\n",
       " 2814,\n",
       " 24185,\n",
       " 1050,\n",
       " 1005,\n",
       " 1056,\n",
       " 4965,\n",
       " 2023,\n",
       " 4106,\n",
       " 1010,\n",
       " 2292,\n",
       " 2894,\n",
       " 1996,\n",
       " 2279,\n",
       " 2028,\n",
       " 2057,\n",
       " 16599,\n",
       " 1012,\n",
       " 102]"
      ]
     },
     "execution_count": 5,
     "metadata": {},
     "output_type": "execute_result"
    }
   ],
   "source": [
    "input_ids = [tokenizer.convert_tokens_to_ids(x) for x in tokenized_text]\n",
    "input_ids[0]"
   ]
  },
  {
   "cell_type": "markdown",
   "metadata": {},
   "source": [
    "# Функция паддинга"
   ]
  },
  {
   "cell_type": "code",
   "execution_count": 6,
   "metadata": {},
   "outputs": [
    {
     "data": {
      "text/plain": [
       "tensor([  101,  2256,  2814, 24185,  1050,  1005,  1056,  4965,  2023,  4106,\n",
       "         1010,  2292,  2894,  1996,  2279,  2028,  2057, 16599,  1012,   102,\n",
       "            0,     0,     0,     0,     0,     0,     0,     0,     0,     0,\n",
       "            0,     0,     0,     0,     0,     0,     0,     0,     0,     0,\n",
       "            0,     0,     0,     0,     0,     0,     0,     0,     0,     0,\n",
       "            0,     0,     0,     0,     0,     0,     0,     0,     0,     0,\n",
       "            0,     0,     0,     0,     0,     0,     0,     0,     0,     0,\n",
       "            0,     0,     0,     0,     0,     0,     0,     0,     0,     0,\n",
       "            0,     0,     0,     0,     0,     0,     0,     0,     0,     0,\n",
       "            0,     0,     0,     0,     0,     0,     0,     0,     0,     0,\n",
       "            0,     0,     0,     0,     0,     0,     0,     0,     0,     0,\n",
       "            0,     0,     0,     0,     0,     0,     0,     0,     0,     0,\n",
       "            0,     0,     0,     0,     0,     0,     0,     0])"
      ]
     },
     "execution_count": 6,
     "metadata": {},
     "output_type": "execute_result"
    }
   ],
   "source": [
    "def padding(\n",
    "        sequence,\n",
    "        max_lenght = 512\n",
    "):\n",
    "    padded_sequence = np.zeros(max_lenght, dtype = np.int64)\n",
    "    for index, token_value in enumerate(sequence):\n",
    "        padded_sequence[index] = token_value\n",
    "    \n",
    "    return padded_sequence\n",
    "\n",
    "\n",
    "input_ids = [torch.LongTensor(padding(x, 128)) for x in input_ids]\n",
    "input_ids[0]"
   ]
  },
  {
   "cell_type": "markdown",
   "metadata": {},
   "source": [
    "# Функция attention mask"
   ]
  },
  {
   "cell_type": "code",
   "execution_count": 7,
   "metadata": {},
   "outputs": [
    {
     "data": {
      "text/plain": [
       "array([1., 1., 1., 1., 1., 1., 1., 1., 1., 1., 1., 1., 1., 1., 1., 1., 1.,\n",
       "       1., 1., 1., 0., 0., 0., 0., 0., 0., 0., 0., 0., 0., 0., 0., 0., 0.,\n",
       "       0., 0., 0., 0., 0., 0., 0., 0., 0., 0., 0., 0., 0., 0., 0., 0., 0.,\n",
       "       0., 0., 0., 0., 0., 0., 0., 0., 0., 0., 0., 0., 0., 0., 0., 0., 0.,\n",
       "       0., 0., 0., 0., 0., 0., 0., 0., 0., 0., 0., 0., 0., 0., 0., 0., 0.,\n",
       "       0., 0., 0., 0., 0., 0., 0., 0., 0., 0., 0., 0., 0., 0., 0., 0., 0.,\n",
       "       0., 0., 0., 0., 0., 0., 0., 0., 0., 0., 0., 0., 0., 0., 0., 0., 0.,\n",
       "       0., 0., 0., 0., 0., 0., 0., 0., 0.])"
      ]
     },
     "execution_count": 7,
     "metadata": {},
     "output_type": "execute_result"
    }
   ],
   "source": [
    "def attention_mask(\n",
    "        sequence\n",
    "):\n",
    "    return [float(i>0) for i in sequence]\n",
    "\n",
    "np.array(attention_mask(input_ids[0]))"
   ]
  },
  {
   "cell_type": "code",
   "execution_count": 8,
   "metadata": {},
   "outputs": [
    {
     "data": {
      "text/plain": [
       "dict_keys(['sequence', 'labels', 'attention_mask'])"
      ]
     },
     "execution_count": 8,
     "metadata": {},
     "output_type": "execute_result"
    }
   ],
   "source": [
    "data = {\n",
    "    'sequence': input_ids,\n",
    "    'labels': data['label'],\n",
    "    'attention_mask': [attention_mask(i) for i in input_ids],\n",
    "\n",
    "}\n",
    "\n",
    "data.keys()"
   ]
  },
  {
   "cell_type": "markdown",
   "metadata": {},
   "source": [
    "# train val split "
   ]
  },
  {
   "cell_type": "code",
   "execution_count": 9,
   "metadata": {},
   "outputs": [],
   "source": [
    "train_inputs, val_inputs, train_labels, val_labels = train_test_split(\n",
    "    data['sequence'], data['labels'],\n",
    "    test_size = 0.1,\n",
    "    random_state = 42\n",
    ")\n",
    "\n",
    "\n",
    "train_attention_mask, val_attention_mask, _, _ = train_test_split(\n",
    "    data['attention_mask'], data['sequence'],\n",
    "    test_size = 0.1,\n",
    "    random_state = 42 \n",
    ")"
   ]
  },
  {
   "cell_type": "code",
   "execution_count": 10,
   "metadata": {},
   "outputs": [],
   "source": [
    "train_inputs = torch.vstack(train_inputs)\n",
    "val_inputs = torch.vstack(val_inputs)\n",
    "\n",
    "train_labels = torch.tensor(train_labels.values)\n",
    "val_labels = torch.tensor(val_labels.values)\n",
    "\n",
    "train_attention_mask = torch.tensor(train_attention_mask)\n",
    "val_attention_mask = torch.tensor(val_attention_mask)"
   ]
  },
  {
   "cell_type": "markdown",
   "metadata": {},
   "source": [
    "# Dataset, Dataloader"
   ]
  },
  {
   "cell_type": "code",
   "execution_count": 11,
   "metadata": {},
   "outputs": [],
   "source": [
    "train_dataset = TensorDataset(train_inputs, train_attention_mask, train_labels)\n",
    "# train_sampler = RandomSampler(train_dataset)\n",
    "train_dataloader = DataLoader(\n",
    "    train_dataset,\n",
    "    # sampler = train_sampler,\n",
    "    batch_size = 32)\n",
    "\n",
    "\n",
    "\n",
    "val_dataset = TensorDataset(val_inputs, val_attention_mask, val_labels)\n",
    "# val_sampler = SequentialSampler(val_dataset)\n",
    "val_dataloader = DataLoader(\n",
    "    val_dataset,\n",
    "    # sampler = val_sampler,\n",
    "    batch_size = 32)"
   ]
  },
  {
   "cell_type": "markdown",
   "metadata": {},
   "source": [
    "# BertModel - BertConfig"
   ]
  },
  {
   "cell_type": "code",
   "execution_count": 12,
   "metadata": {},
   "outputs": [
    {
     "name": "stdout",
     "output_type": "stream",
     "text": [
      "BertConfig {\n",
      "  \"attention_probs_dropout_prob\": 0.1,\n",
      "  \"classifier_dropout\": null,\n",
      "  \"hidden_act\": \"gelu\",\n",
      "  \"hidden_dropout_prob\": 0.1,\n",
      "  \"hidden_size\": 768,\n",
      "  \"initializer_range\": 0.02,\n",
      "  \"intermediate_size\": 3072,\n",
      "  \"layer_norm_eps\": 1e-12,\n",
      "  \"max_position_embeddings\": 512,\n",
      "  \"model_type\": \"bert\",\n",
      "  \"num_attention_heads\": 12,\n",
      "  \"num_hidden_layers\": 12,\n",
      "  \"pad_token_id\": 0,\n",
      "  \"position_embedding_type\": \"absolute\",\n",
      "  \"transformers_version\": \"4.39.3\",\n",
      "  \"type_vocab_size\": 2,\n",
      "  \"use_cache\": true,\n",
      "  \"vocab_size\": 30522\n",
      "}\n",
      "\n"
     ]
    }
   ],
   "source": [
    "config = BertConfig()\n",
    "model = BertModel(config)\n",
    "print(model.config)"
   ]
  },
  {
   "cell_type": "code",
   "execution_count": 13,
   "metadata": {},
   "outputs": [
    {
     "name": "stderr",
     "output_type": "stream",
     "text": [
      "Some weights of BertForSequenceClassification were not initialized from the model checkpoint at bert-base-uncased and are newly initialized: ['classifier.bias', 'classifier.weight']\n",
      "You should probably TRAIN this model on a down-stream task to be able to use it for predictions and inference.\n"
     ]
    },
    {
     "data": {
      "text/plain": [
       "BertForSequenceClassification(\n",
       "  (bert): BertModel(\n",
       "    (embeddings): BertEmbeddings(\n",
       "      (word_embeddings): Embedding(30522, 768, padding_idx=0)\n",
       "      (position_embeddings): Embedding(512, 768)\n",
       "      (token_type_embeddings): Embedding(2, 768)\n",
       "      (LayerNorm): LayerNorm((768,), eps=1e-12, elementwise_affine=True)\n",
       "      (dropout): Dropout(p=0.1, inplace=False)\n",
       "    )\n",
       "    (encoder): BertEncoder(\n",
       "      (layer): ModuleList(\n",
       "        (0-11): 12 x BertLayer(\n",
       "          (attention): BertAttention(\n",
       "            (self): BertSelfAttention(\n",
       "              (query): Linear(in_features=768, out_features=768, bias=True)\n",
       "              (key): Linear(in_features=768, out_features=768, bias=True)\n",
       "              (value): Linear(in_features=768, out_features=768, bias=True)\n",
       "              (dropout): Dropout(p=0.1, inplace=False)\n",
       "            )\n",
       "            (output): BertSelfOutput(\n",
       "              (dense): Linear(in_features=768, out_features=768, bias=True)\n",
       "              (LayerNorm): LayerNorm((768,), eps=1e-12, elementwise_affine=True)\n",
       "              (dropout): Dropout(p=0.1, inplace=False)\n",
       "            )\n",
       "          )\n",
       "          (intermediate): BertIntermediate(\n",
       "            (dense): Linear(in_features=768, out_features=3072, bias=True)\n",
       "            (intermediate_act_fn): GELUActivation()\n",
       "          )\n",
       "          (output): BertOutput(\n",
       "            (dense): Linear(in_features=3072, out_features=768, bias=True)\n",
       "            (LayerNorm): LayerNorm((768,), eps=1e-12, elementwise_affine=True)\n",
       "            (dropout): Dropout(p=0.1, inplace=False)\n",
       "          )\n",
       "        )\n",
       "      )\n",
       "    )\n",
       "    (pooler): BertPooler(\n",
       "      (dense): Linear(in_features=768, out_features=768, bias=True)\n",
       "      (activation): Tanh()\n",
       "    )\n",
       "  )\n",
       "  (dropout): Dropout(p=0.1, inplace=False)\n",
       "  (classifier): Linear(in_features=768, out_features=2, bias=True)\n",
       ")"
      ]
     },
     "execution_count": 13,
     "metadata": {},
     "output_type": "execute_result"
    }
   ],
   "source": [
    "model = BertForSequenceClassification.from_pretrained('bert-base-uncased', num_labels = 2)\n",
    "model.cuda()"
   ]
  },
  {
   "cell_type": "markdown",
   "metadata": {},
   "source": [
    "# Подготовка параметров модели"
   ]
  },
  {
   "cell_type": "code",
   "execution_count": 14,
   "metadata": {},
   "outputs": [],
   "source": [
    "param_optimizer = list(model.named_parameters())\n",
    "no_decay = ['bias', 'LayerNorm.weight']\n",
    "\n",
    "\n",
    "optimizer_grouped_parameters = [\n",
    " # Фильтр по всем параметрам, которые *не* включают 'bias', 'gamma', 'beta'.\n",
    "    {'params': [p for n, p in param_optimizer if not any(nd in n for nd in no_decay)],\n",
    "     'weight_decay_rate': 0.1},\n",
    "\n",
    "    {'params': [p for n, p in param_optimizer if any(nd in n for nd in no_decay)],\n",
    "    'weight_decay_rate': 0.0}\n",
    "]"
   ]
  },
  {
   "cell_type": "markdown",
   "metadata": {},
   "source": [
    "# Training loop"
   ]
  },
  {
   "cell_type": "code",
   "execution_count": 23,
   "metadata": {},
   "outputs": [],
   "source": [
    "def loss_with_l1_or_l2_regulizer(\n",
    "        \n",
    "        model,\n",
    "        type, # Здесь могут быть 3 вида : 'l1', 'l2', 'l1_l2' \n",
    "        l_lambda, # 0.001\n",
    "        loss_by_fn):\n",
    "    \n",
    "    if type == 'l2':\n",
    "        l_norm = sum(p.pow(2.0).sum() for p in model.parameters())\n",
    "\n",
    "    if type == 'l1':\n",
    "        l_norm = sum(p.abs().sum() for p in model.parameters())\n",
    "\n",
    "    if type == 'l1_l2':\n",
    "        l_norm = sum((p.abs() + p.pow(2.0)).sum() for p in model.parameters())\n",
    "    \n",
    "    loss_plus_reg = loss_by_fn + l_lambda * l_norm\n",
    "    return loss_plus_reg\n",
    "\n",
    "\n",
    "\n",
    "def create_folder(name):\n",
    "    import os\n",
    "    os.mkdir(name)\n",
    "\n",
    "def get_lr(optimizer):\n",
    "    for param_group in optimizer.param_groups:\n",
    "        return param_group['lr']"
   ]
  },
  {
   "cell_type": "code",
   "execution_count": 24,
   "metadata": {},
   "outputs": [],
   "source": [
    "def training_loop(\n",
    "        # папка сохранения\n",
    "        name_model_folder,\n",
    "\n",
    "        # основные настройки\n",
    "        epoches,\n",
    "        model,\n",
    "        optimizer,\n",
    "        metric_str,\n",
    "\n",
    "        # контроль скорости\n",
    "        scheduler_append,\n",
    "        scheduler,\n",
    "        step_on, # str 'val_loss', 'train_loss'\n",
    "\n",
    "        # loss_fn,\n",
    "        train_dataloader,\n",
    "        val_dataloader,\n",
    "\n",
    "        # regulizer\n",
    "        regulizer_append,\n",
    "        reg_type,\n",
    "        \n",
    "        # stop settings\n",
    "        stop_mode,\n",
    "        each__X__epoch,\n",
    "        min_delta,\n",
    "        patience,\n",
    "\n",
    "        # verbose\n",
    "        verbose_epoch\n",
    "        ):\n",
    "    \n",
    "    \n",
    "    create_folder(name_model_folder)\n",
    "    \n",
    "    loss_history = {\n",
    "           'train_loss': [],\n",
    "           'val_loss': []\n",
    "    }\n",
    "\n",
    "    metric_history = {\n",
    "           'train_metric': [],\n",
    "           'val_metric': []\n",
    "    }\n",
    "\n",
    "    best_loss = float('inf')\n",
    "    patience_beginner = patience\n",
    "    model = model.to(device)\n",
    "\n",
    "    for epoch in range(1, epoches+1):\n",
    "            \n",
    "            start_time = time.time()\n",
    "            model.train()\n",
    "            current_lr = get_lr(optimizer)\n",
    "            loss_train = 0.0\n",
    "            loss_val = 0.0\n",
    "            train_summarize_metric = 0.0\n",
    "            val_summarize_metric = 0.0\n",
    "\n",
    "            for features, attention_mask, labels in train_dataloader:\n",
    "                \n",
    "                optimizer.zero_grad()\n",
    "\n",
    "                features = features.to(device)\n",
    "                labels = labels.to(device)\n",
    "                attention_mask = attention_mask.to(device)\n",
    "\n",
    "                outputs = model(features, token_type_ids = None, attention_mask = attention_mask, labels = labels)\n",
    "                # Тренировочный потери\n",
    "                loss = outputs['loss']\n",
    "                \n",
    "                if regulizer_append:\n",
    "                        loss = loss_with_l1_or_l2_regulizer(\n",
    "                                model = model,\n",
    "                                type = reg_type,\n",
    "                                l_lambda = 0.001,\n",
    "                                loss_by_fn = loss\n",
    "                                )\n",
    "                \n",
    "\n",
    "                loss.backward()\n",
    "                optimizer.step()\n",
    "                \n",
    "                loss_train += loss.item()\n",
    "\n",
    "                predict_labels = torch.argmax(outputs['logits'], axis = 1)\n",
    "                train_summarize_metric += torch.sum(predict_labels == labels).item()\n",
    "                \n",
    "            train_mean_epoch_loss = loss_train/len(train_dataloader)\n",
    "            loss_history['train_loss'].append(train_mean_epoch_loss)\n",
    "            ######## Расчет метрики на тренировочном наборе #####\n",
    "            train_mean_epoch_metric = train_summarize_metric / len(train_dataloader.dataset) # !!!!!\n",
    "            metric_history['train_metric'].append(train_mean_epoch_metric)\n",
    "            #####################################################\n",
    "            # Проверочный этап\n",
    "            model.eval()\n",
    "            with torch.no_grad():\n",
    "                for features, attention_mask, labels in val_dataloader:\n",
    "\n",
    "                        features = features.to(device)\n",
    "                        labels = labels.to(device)\n",
    "                        attention_mask = attention_mask.to(device)\n",
    "\n",
    "                        outputs = model(features, token_type_ids = None, attention_mask = attention_mask, labels = labels)\n",
    "                        loss_on_val = outputs['loss']\n",
    "                        loss_val += loss_on_val.item()\n",
    "\n",
    "                        predict_labels = torch.argmax(outputs['logits'], axis = 1)\n",
    "                        val_summarize_metric += torch.sum(predict_labels == labels).item()\n",
    "\n",
    "                val_mean_epoch_loss = loss_val / len(val_dataloader)\n",
    "                loss_history['val_loss'].append(val_mean_epoch_loss)\n",
    "\n",
    "                ######## Расчет метрики на валидационном наборе #####\n",
    "                val_mean_epoch_metric = val_summarize_metric / len(val_dataloader.dataset)\n",
    "                metric_history['val_metric'].append(val_mean_epoch_metric)\n",
    "                ######################################################\n",
    "                \n",
    "            # EARLY STOPPING #######################################\n",
    "            if stop_mode:\n",
    "                if epoch % each__X__epoch == 0:\n",
    "                        current_loss = train_mean_epoch_loss\n",
    "                        if current_loss < best_loss - min_delta:\n",
    "                                best_loss = current_loss\n",
    "                                patience = patience_beginner\n",
    "                        else:\n",
    "                                patience -= 1\n",
    "                                if patience == 0:\n",
    "                                        print(f\"Ранняя тренировочная остановка на {epoch} эпохе\")\n",
    "                                        break\n",
    "            ##############################################################\n",
    "            # Сохранение состояний модели\n",
    "            if val_mean_epoch_loss < best_loss:\n",
    "                    best_loss = val_mean_epoch_loss\n",
    "                    best_model_wts = copy.deepcopy(model.state_dict())\n",
    "                    torch.save(model.state_dict(), f'{name_model_folder}/model_weights_{epoch}_epoch.pth')\n",
    "            # Контроль скорости обучения\n",
    "            if scheduler_append:\n",
    "                if step_on == 'val_loss':\n",
    "                        scheduler.step(val_mean_epoch_loss)\n",
    "                if step_on == 'train_loss':\n",
    "                        scheduler.step(train_mean_epoch_loss)\n",
    "            # загрузка текущих лучших весов модели \n",
    "            if current_lr != get_lr(optimizer):\n",
    "                   model.load_state_dict(best_model_wts)\n",
    "            ##############################################################\n",
    "            end_time = time.time()\n",
    "            epoch_time = end_time - start_time\n",
    "            ############ VERBOSE #########################################\n",
    "            if epoch ==1:\n",
    "                   расчетное_время_выполнения_цикла = (epoch_time*epoches) / 60\n",
    "                   print('Расчетное время выполнения всего цикла {:.3f} минут'.format(расчетное_время_выполнения_цикла))            \n",
    "            if epoch == 1 or epoch % verbose_epoch == 0:\n",
    "                print(\n",
    "                        'Epoch {:5}/{:5} || time: {:.3f} || train loss: {:.3f} || val_loss: {:.3f} || train metric: {:.3f} || val metric: {:.3f}'\\\n",
    "                        .format(epoch,\n",
    "                                epoches,\n",
    "                                epoch_time,\n",
    "                                train_mean_epoch_loss,\n",
    "                                val_mean_epoch_loss,\n",
    "                                train_mean_epoch_metric,\n",
    "                                val_mean_epoch_metric,\n",
    "                                )     \n",
    "                      )\n",
    "    ###### PLOTTING #############################################################################\n",
    "    sns.lineplot(x = np.arange(1, epoch+1),\n",
    "                 y = loss_history['train_loss'],\n",
    "                 label = 'train')\n",
    "    sns.lineplot(x = np.arange(1, epoch+1),\n",
    "                 y = loss_history['val_loss'],\n",
    "                 label = 'val')\n",
    "    plt.title('Потери от эпох')\n",
    "    plt.xlabel('эпохи')\n",
    "    plt.ylabel('loss')\n",
    "    plt.legend()\n",
    "    plt.grid()\n",
    "    plt.show()\n",
    "\n",
    "    sns.lineplot(x = np.arange(1, epoch+1),\n",
    "                 y = metric_history['train_metric'],\n",
    "                 label = 'train')\n",
    "    sns.lineplot(x = np.arange(1, epoch+1),\n",
    "                 y = metric_history['val_metric'],\n",
    "                 label = 'val')\n",
    "    \n",
    "    plt.xlabel('эпохи')\n",
    "    plt.ylabel(f'{metric_str}')\n",
    "    plt.title('{} on train: {}   lr: {}'.format(metric_str,\n",
    "                                                epoches,\n",
    "                                                optimizer.param_groups[0]['lr']))\n",
    "    plt.legend()\n",
    "    plt.grid()\n",
    "    plt.show()\n",
    "\n",
    "    return model, loss_history, metric_history"
   ]
  },
  {
   "cell_type": "markdown",
   "metadata": {},
   "source": [
    "# model"
   ]
  },
  {
   "cell_type": "code",
   "execution_count": 25,
   "metadata": {},
   "outputs": [
    {
     "name": "stderr",
     "output_type": "stream",
     "text": [
      "Some weights of BertForSequenceClassification were not initialized from the model checkpoint at bert-base-uncased and are newly initialized: ['classifier.bias', 'classifier.weight']\n",
      "You should probably TRAIN this model on a down-stream task to be able to use it for predictions and inference.\n"
     ]
    }
   ],
   "source": [
    "model = BertForSequenceClassification.from_pretrained('bert-base-uncased', num_labels = 2)\n",
    "\n",
    "param_optimizer = list(model.named_parameters())\n",
    "no_decay = ['bias', 'LayerNorm.weight']\n",
    "\n",
    "optimizer_grouped_parameters = [\n",
    "\n",
    "    {'params': [p for n, p in param_optimizer if not any(nd in n for nd in no_decay)],\n",
    "     'weight_decay_rate': 0.1},\n",
    "    \n",
    "\n",
    "    {'params': [p for n, p in param_optimizer if any(nd in n for nd in no_decay)],\n",
    "     'weight_decay_rate': 0.0}\n",
    "]"
   ]
  },
  {
   "cell_type": "code",
   "execution_count": 26,
   "metadata": {},
   "outputs": [
    {
     "name": "stderr",
     "output_type": "stream",
     "text": [
      "c:\\Users\\oudel\\anaconda3\\envs\\newenv\\lib\\site-packages\\transformers\\optimization.py:457: FutureWarning: This implementation of AdamW is deprecated and will be removed in a future version. Use the PyTorch implementation torch.optim.AdamW instead, or set `no_deprecation_warning=True` to disable this warning\n",
      "  warnings.warn(\n"
     ]
    },
    {
     "name": "stdout",
     "output_type": "stream",
     "text": [
      "Расчетное время выполнения всего цикла 4.842 минут\n",
      "Epoch     1/    5 || time: 58.110 || train loss: 0.514 || val_loss: 0.467 || train metric: 0.755 || val metric: 0.798\n",
      "Epoch     2/    5 || time: 56.630 || train loss: 0.305 || val_loss: 0.530 || train metric: 0.873 || val metric: 0.805\n",
      "Epoch     3/    5 || time: 55.931 || train loss: 0.189 || val_loss: 0.647 || train metric: 0.930 || val metric: 0.811\n",
      "Epoch     4/    5 || time: 57.344 || train loss: 0.129 || val_loss: 0.622 || train metric: 0.958 || val metric: 0.819\n",
      "Epoch     5/    5 || time: 56.401 || train loss: 0.095 || val_loss: 0.667 || train metric: 0.968 || val metric: 0.818\n"
     ]
    },
    {
     "data": {
      "image/png": "[encoded data removed]",
      "text/plain": [
       "<Figure size 640x480 with 1 Axes>"
      ]
     },
     "metadata": {},
     "output_type": "display_data"
    },
    {
     "data": {
      "image/png": "[encoded data removed]",
      "text/plain": [
       "<Figure size 640x480 with 1 Axes>"
      ]
     },
     "metadata": {},
     "output_type": "display_data"
    }
   ],
   "source": [
    "optimizer = AdamW(optimizer_grouped_parameters,\n",
    "                  lr = 2e-5,\n",
    "                  eps = 1e-8\n",
    "                  )\n",
    "total_steps = len(train_dataloader) * 5\n",
    "scheduler = get_linear_schedule_with_warmup(optimizer, \n",
    "                                            num_warmup_steps = 0, # Default value in run_glue.py\n",
    "                                            num_training_steps = total_steps)\n",
    "\n",
    "model, loss_history, metric_history =\\\n",
    "training_loop(\n",
    "    name_model_folder = 'model_2',\n",
    "    epoches = 5,\n",
    "    model = model,\n",
    "    optimizer = optimizer,\n",
    "    metric_str = 'accuracy',\n",
    "    scheduler_append = False,\n",
    "    scheduler = False,\n",
    "    step_on = 'val_loss',\n",
    "    train_dataloader = train_dataloader,\n",
    "    val_dataloader = val_dataloader,\n",
    "    regulizer_append = False,\n",
    "    reg_type = None,\n",
    "    stop_mode = False,\n",
    "    each__X__epoch = None,\n",
    "    min_delta = None,\n",
    "    patience = None,\n",
    "    verbose_epoch = 1\n",
    ")"
   ]
  },
  {
   "cell_type": "markdown",
   "metadata": {},
   "source": [
    "# Тестирование"
   ]
  },
  {
   "cell_type": "code",
   "execution_count": 38,
   "metadata": {},
   "outputs": [
    {
     "data": {
      "text/html": [
       "<div>\n",
       "<style scoped>\n",
       "    .dataframe tbody tr th:only-of-type {\n",
       "        vertical-align: middle;\n",
       "    }\n",
       "\n",
       "    .dataframe tbody tr th {\n",
       "        vertical-align: top;\n",
       "    }\n",
       "\n",
       "    .dataframe thead th {\n",
       "        text-align: right;\n",
       "    }\n",
       "</style>\n",
       "<table border=\"1\" class=\"dataframe\">\n",
       "  <thead>\n",
       "    <tr style=\"text-align: right;\">\n",
       "      <th></th>\n",
       "      <th>sentence_source</th>\n",
       "      <th>label</th>\n",
       "      <th>label_notes</th>\n",
       "      <th>sentence</th>\n",
       "    </tr>\n",
       "  </thead>\n",
       "  <tbody>\n",
       "    <tr>\n",
       "      <th>0</th>\n",
       "      <td>clc95</td>\n",
       "      <td>1</td>\n",
       "      <td>NaN</td>\n",
       "      <td>somebody just left - guess who .</td>\n",
       "    </tr>\n",
       "    <tr>\n",
       "      <th>1</th>\n",
       "      <td>clc95</td>\n",
       "      <td>1</td>\n",
       "      <td>NaN</td>\n",
       "      <td>they claimed they had settled on something , b...</td>\n",
       "    </tr>\n",
       "    <tr>\n",
       "      <th>2</th>\n",
       "      <td>clc95</td>\n",
       "      <td>1</td>\n",
       "      <td>NaN</td>\n",
       "      <td>if sam was going , sally would know where .</td>\n",
       "    </tr>\n",
       "    <tr>\n",
       "      <th>3</th>\n",
       "      <td>clc95</td>\n",
       "      <td>1</td>\n",
       "      <td>NaN</td>\n",
       "      <td>they 're going to serve the guests something ,...</td>\n",
       "    </tr>\n",
       "    <tr>\n",
       "      <th>4</th>\n",
       "      <td>clc95</td>\n",
       "      <td>1</td>\n",
       "      <td>NaN</td>\n",
       "      <td>she 's reading . i ca n't imagine what .</td>\n",
       "    </tr>\n",
       "  </tbody>\n",
       "</table>\n",
       "</div>"
      ],
      "text/plain": [
       "  sentence_source  label label_notes  \\\n",
       "0           clc95      1         NaN   \n",
       "1           clc95      1         NaN   \n",
       "2           clc95      1         NaN   \n",
       "3           clc95      1         NaN   \n",
       "4           clc95      1         NaN   \n",
       "\n",
       "                                            sentence  \n",
       "0                   somebody just left - guess who .  \n",
       "1  they claimed they had settled on something , b...  \n",
       "2        if sam was going , sally would know where .  \n",
       "3  they 're going to serve the guests something ,...  \n",
       "4           she 's reading . i ca n't imagine what .  "
      ]
     },
     "execution_count": 38,
     "metadata": {},
     "output_type": "execute_result"
    }
   ],
   "source": [
    "test_data = pd.read_csv('out_of_domain_dev.tsv', delimiter = '\\t', header = None, names = ['sentence_source', 'label', 'label_notes', 'sentence'])\n",
    "test_data.head()"
   ]
  },
  {
   "cell_type": "code",
   "execution_count": 39,
   "metadata": {},
   "outputs": [
    {
     "data": {
      "text/plain": [
       "(tensor([ 101, 8307, 2074, 2187, 1011, 3984, 2040, 1012,  102,    0,    0,    0,\n",
       "            0,    0,    0,    0,    0,    0,    0,    0,    0,    0,    0,    0,\n",
       "            0,    0,    0,    0,    0,    0,    0,    0,    0,    0,    0,    0,\n",
       "            0,    0,    0,    0,    0,    0,    0,    0,    0,    0,    0,    0,\n",
       "            0,    0,    0,    0,    0,    0,    0,    0,    0,    0,    0,    0,\n",
       "            0,    0,    0,    0,    0,    0,    0,    0,    0,    0,    0,    0,\n",
       "            0,    0,    0,    0,    0,    0,    0,    0,    0,    0,    0,    0,\n",
       "            0,    0,    0,    0,    0,    0,    0,    0,    0,    0,    0,    0,\n",
       "            0,    0,    0,    0,    0,    0,    0,    0,    0,    0,    0,    0,\n",
       "            0,    0,    0,    0,    0,    0,    0,    0,    0,    0,    0,    0,\n",
       "            0,    0,    0,    0,    0,    0,    0,    0]),\n",
       " tensor([1., 1., 1., 1., 1., 1., 1., 1., 1., 0., 0., 0., 0., 0., 0., 0., 0., 0.,\n",
       "         0., 0., 0., 0., 0., 0., 0., 0., 0., 0., 0., 0., 0., 0., 0., 0., 0., 0.,\n",
       "         0., 0., 0., 0., 0., 0., 0., 0., 0., 0., 0., 0., 0., 0., 0., 0., 0., 0.,\n",
       "         0., 0., 0., 0., 0., 0., 0., 0., 0., 0., 0., 0., 0., 0., 0., 0., 0., 0.,\n",
       "         0., 0., 0., 0., 0., 0., 0., 0., 0., 0., 0., 0., 0., 0., 0., 0., 0., 0.,\n",
       "         0., 0., 0., 0., 0., 0., 0., 0., 0., 0., 0., 0., 0., 0., 0., 0., 0., 0.,\n",
       "         0., 0., 0., 0., 0., 0., 0., 0., 0., 0., 0., 0., 0., 0., 0., 0., 0., 0.,\n",
       "         0., 0.]),\n",
       " tensor(1))"
      ]
     },
     "execution_count": 39,
     "metadata": {},
     "output_type": "execute_result"
    }
   ],
   "source": [
    "sentences_test = test_data.sentence.values\n",
    "test_labels = test_data.label.values\n",
    "sentences_test = ['[CLS] ' + sentence + ' [SEP]' for sentence in sentences_test]\n",
    "tokenized_test_text = [tokenizer.tokenize(sentence) for sentence in sentences_test]\n",
    "input_ids_test = [tokenizer.convert_tokens_to_ids(x) for x in tokenized_test_text]\n",
    "input_ids_test = [torch.LongTensor(padding(x, 128)) for x in input_ids_test]\n",
    "\n",
    "test_data = {\n",
    "    'sequence': input_ids_test,\n",
    "    'attention_mask': [attention_mask(i) for i in input_ids_test],\n",
    "    'labels': test_data['label'].values,\n",
    "}\n",
    "\n",
    "\n",
    "test_inputs = torch.vstack(test_data['sequence'])\n",
    "test_labels = torch.tensor(test_data['labels'])\n",
    "test_attention_mask = torch.tensor(test_data['attention_mask'])\n",
    "\n",
    "test_dataset = TensorDataset(test_inputs, test_attention_mask, test_labels)\n",
    "test_dataloader = DataLoader(\n",
    "    test_dataset,\n",
    "    batch_size = 32)\n",
    "\n",
    "\n",
    "test_dataloader.dataset[0]"
   ]
  },
  {
   "cell_type": "code",
   "execution_count": 40,
   "metadata": {},
   "outputs": [
    {
     "data": {
      "text/plain": [
       "0.7945736434108527"
      ]
     },
     "execution_count": 40,
     "metadata": {},
     "output_type": "execute_result"
    }
   ],
   "source": [
    "test_metric_list = []\n",
    "test_summarize_metric = 0.0\n",
    "model.eval()\n",
    "\n",
    "for features, attention_mask, labels in test_dataloader:\n",
    "                \n",
    "                features = features.to(device)\n",
    "                labels = labels.to(device)\n",
    "                attention_mask = attention_mask.to(device)\n",
    "\n",
    "                outputs = model(features, token_type_ids = None, attention_mask = attention_mask, labels = labels)\n",
    "\n",
    "                predict_labels = torch.argmax(outputs['logits'], axis = 1)\n",
    "                test_summarize_metric += torch.sum(predict_labels == labels).item()\n",
    "            \n",
    "test_metric = test_summarize_metric / len(test_dataloader.dataset)\n",
    "test_metric_list.append(test_metric)\n",
    "np.mean(test_metric_list)"
   ]
  }
 ],
 "metadata": {
  "kernelspec": {
   "display_name": "newenv",
   "language": "python",
   "name": "python3"
  },
  "language_info": {
   "codemirror_mode": {
    "name": "ipython",
    "version": 3
   },
   "file_extension": ".py",
   "mimetype": "text/x-python",
   "name": "python",
   "nbconvert_exporter": "python",
   "pygments_lexer": "ipython3",
   "version": "3.10.13"
  }
 },
 "nbformat": 4,
 "nbformat_minor": 2
}
