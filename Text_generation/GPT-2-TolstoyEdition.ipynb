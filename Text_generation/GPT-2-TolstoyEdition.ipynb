{
 "cells": [
  {
   "cell_type": "markdown",
   "metadata": {},
   "source": [
    "# Контекст\n",
    "\n",
    "- GLM модель с нуля\n",
    "- на тексте Война и Мир Л.Н. Толтого\n"
   ]
  },
  {
   "cell_type": "code",
   "execution_count": 1,
   "metadata": {},
   "outputs": [],
   "source": [
    "import pandas as pd\n",
    "from tokenizers.processors import TemplateProcessing\n",
    "from tokenizers import Tokenizer\n",
    "from tokenizers.normalizers import (Sequence,Lowercase, NFD, StripAccents)\n",
    "from tokenizers.pre_tokenizers import Whitespace\n",
    "from tokenizers.trainers import BpeTrainer\n",
    "from tokenizers.pre_tokenizers import Whitespace\n",
    "from tokenizers.models import BPE\n",
    "from tokenizers.decoders import WordPiece as WordPieceDecoder\n",
    "\n",
    "import re\n",
    "import os\n"
   ]
  },
  {
   "cell_type": "markdown",
   "metadata": {},
   "source": [
    "# Создание объекта токенизатора"
   ]
  },
  {
   "cell_type": "code",
   "execution_count": 2,
   "metadata": {},
   "outputs": [],
   "source": [
    "with open('Tolstoy_Lev_Voyna_i_mir_1-2.txt', 'r') as file:\n",
    "    file1 = file.readlines()\n",
    "\n",
    "with open('Tolstoy_Lev_Voyna_i_mir_3-4.txt', 'r') as file:\n",
    "    file2 = file.readlines()\n",
    "\n",
    "\n",
    "\n",
    "def cleaner(text_line):\n",
    "    clean_text = text_line.encode('utf-8')\n",
    "    clean_text = re.sub(r'[^a-zA-Zа-яА-ЯёЁ0-9\\.\\,\\!\\?\\:\\;\\\"\\'\\(\\)\\-\\s]', '', text_line)\n",
    "    clean_text = re.sub(r'[\\n\\r\\t\\\\]', '', clean_text)\n",
    "    clean_text = clean_text.strip()\n",
    "    return clean_text\n",
    "\n",
    "\n",
    "clean_spisok_text = []\n",
    "for file in (file1, file2):\n",
    "    for text_line in file:\n",
    "        clean_line = cleaner(text_line)\n",
    "        clean_spisok_text.append(clean_line)"
   ]
  },
  {
   "cell_type": "code",
   "execution_count": 3,
   "metadata": {},
   "outputs": [
    {
     "data": {
      "text/plain": [
       "13203"
      ]
     },
     "execution_count": 3,
     "metadata": {},
     "output_type": "execute_result"
    }
   ],
   "source": [
    "len(clean_spisok_text)"
   ]
  },
  {
   "cell_type": "code",
   "execution_count": 4,
   "metadata": {},
   "outputs": [],
   "source": [
    "tokenizer = Tokenizer(BPE())\n",
    "tokenizer.normalizer = Sequence(\n",
    "                                [NFD(), # нормализатор Unicode\n",
    "                                 Lowercase(), # нижний регистр\n",
    "                                 StripAccents()] # удаление доп. буквенных символов (напрмер волну над буквами в турецком языке)\n",
    "                            )\n",
    "tokenizer.pre_tokenizer = Whitespace() # разбиение на пробелы\n",
    "# tokenizer.decoder = BPEDecoder() # совместимый с BPE декодер\n",
    "tokenizer.decoder = WordPieceDecoder()\n",
    "\n",
    "trainer = BpeTrainer(\n",
    "    vocab_size = 30000,\n",
    "    special_tokens = [\n",
    "        '<s>',\n",
    "        '<pad>',\n",
    "        '<\\s>',\n",
    "        '<unk>',\n",
    "        '<mask>'\n",
    "    ]\n",
    ")\n",
    "\n",
    "tokenizer.train_from_iterator(clean_spisok_text, trainer = trainer)"
   ]
  },
  {
   "cell_type": "code",
   "execution_count": 5,
   "metadata": {},
   "outputs": [
    {
     "data": {
      "text/plain": [
       "30000"
      ]
     },
     "execution_count": 5,
     "metadata": {},
     "output_type": "execute_result"
    }
   ],
   "source": [
    "len(tokenizer.get_vocab())"
   ]
  },
  {
   "cell_type": "code",
   "execution_count": 6,
   "metadata": {},
   "outputs": [],
   "source": [
    "# сохранение токенизатора\n",
    "tokenizer.save('tokenizer_gpt/tokenizer.json')"
   ]
  },
  {
   "cell_type": "code",
   "execution_count": 7,
   "metadata": {},
   "outputs": [
    {
     "data": {
      "text/plain": [
       "'я пошел гулять'"
      ]
     },
     "execution_count": 7,
     "metadata": {},
     "output_type": "execute_result"
    }
   ],
   "source": [
    "tokenizer.decode(tokenizer.encode('Я пошел гулять').ids)"
   ]
  },
  {
   "cell_type": "code",
   "execution_count": 8,
   "metadata": {},
   "outputs": [
    {
     "name": "stderr",
     "output_type": "stream",
     "text": [
      "file tokenizer_gpt\\config.json not found\n",
      "Special tokens have been added in the vocabulary, make sure the associated word embeddings are fine-tuned or trained.\n"
     ]
    },
    {
     "data": {
      "text/plain": [
       "30002"
      ]
     },
     "execution_count": 8,
     "metadata": {},
     "output_type": "execute_result"
    }
   ],
   "source": [
    "from transformers import (GPT2TokenizerFast, GPT2Config, GPT2LMHeadModel)\n",
    "\n",
    "\n",
    "tokenizer_gpt = GPT2TokenizerFast.from_pretrained('tokenizer_gpt')\n",
    "tokenizer_gpt.add_special_tokens({\n",
    "                        \"eos_token\": \"</s>\",\n",
    "                        \"bos_token\": \"<s>\",\n",
    "                        \"unk_token\": \"<unk>\",\n",
    "                        \"pad_token\": \"<pad>\",\n",
    "                        \"mask_token\": \"<mask>\"\n",
    "})\n",
    "\n",
    "len(tokenizer_gpt.get_vocab())"
   ]
  },
  {
   "cell_type": "code",
   "execution_count": 9,
   "metadata": {},
   "outputs": [
    {
     "data": {
      "text/plain": [
       "[0, 80, 1259, 24832, 30001]"
      ]
     },
     "execution_count": 9,
     "metadata": {},
     "output_type": "execute_result"
    }
   ],
   "source": [
    "tokenizer_gpt.encode(\"<s> Я пошел гулять </s>\")"
   ]
  },
  {
   "cell_type": "markdown",
   "metadata": {},
   "source": [
    "# Скачиваем архитектуру модели GPT-2"
   ]
  },
  {
   "cell_type": "code",
   "execution_count": 10,
   "metadata": {},
   "outputs": [
    {
     "data": {
      "text/plain": [
       "GPT2Config {\n",
       "  \"activation_function\": \"gelu_new\",\n",
       "  \"attn_pdrop\": 0.1,\n",
       "  \"bos_token_id\": 0,\n",
       "  \"embd_pdrop\": 0.1,\n",
       "  \"eos_token_id\": 30001,\n",
       "  \"initializer_range\": 0.02,\n",
       "  \"layer_norm_epsilon\": 1e-05,\n",
       "  \"model_type\": \"gpt2\",\n",
       "  \"n_embd\": 768,\n",
       "  \"n_head\": 12,\n",
       "  \"n_inner\": null,\n",
       "  \"n_layer\": 12,\n",
       "  \"n_positions\": 1024,\n",
       "  \"reorder_and_upcast_attn\": false,\n",
       "  \"resid_pdrop\": 0.1,\n",
       "  \"scale_attn_by_inverse_layer_idx\": false,\n",
       "  \"scale_attn_weights\": true,\n",
       "  \"summary_activation\": null,\n",
       "  \"summary_first_dropout\": 0.1,\n",
       "  \"summary_proj_to_labels\": true,\n",
       "  \"summary_type\": \"cls_index\",\n",
       "  \"summary_use_proj\": true,\n",
       "  \"transformers_version\": \"4.16.2\",\n",
       "  \"use_cache\": true,\n",
       "  \"vocab_size\": 30000\n",
       "}"
      ]
     },
     "execution_count": 10,
     "metadata": {},
     "output_type": "execute_result"
    }
   ],
   "source": [
    "config = GPT2Config(\n",
    "        vocab_size = tokenizer_gpt.vocab_size,\n",
    "        bos_token_id = tokenizer_gpt.bos_token_id,\n",
    "        eos_token_id = tokenizer_gpt.eos_token_id\n",
    ")\n",
    "model = GPT2LMHeadModel(config)\n",
    "config"
   ]
  },
  {
   "cell_type": "markdown",
   "metadata": {},
   "source": [
    "# Подготовка текстового корпуса к обучению"
   ]
  },
  {
   "cell_type": "code",
   "execution_count": 11,
   "metadata": {},
   "outputs": [],
   "source": [
    "content = []\n",
    "\n",
    "for text_line in clean_spisok_text:\n",
    "    clean_line = text_line.replace('\\xa0', '')\n",
    "    if len(clean_line) > 10: # оставляем длинные строки, для генерации более длинных последовательностей\n",
    "        content.append(clean_line.strip())\n",
    "\n",
    "content = ' '.join(content) + tokenizer_gpt.eos_token # добавляем токен </s> для работы с длинными последовательностями\n",
    "                                                      # можно было ставить </s> в конце каждой строки,\n",
    "                                                      # но модель будет постоянно с ним сталкиваться что может повлиять\n",
    "                                                      # на длину последовательности вывода"
   ]
  },
  {
   "cell_type": "code",
   "execution_count": 12,
   "metadata": {},
   "outputs": [
    {
     "data": {
      "text/plain": [
       "613618"
      ]
     },
     "execution_count": 12,
     "metadata": {},
     "output_type": "execute_result"
    }
   ],
   "source": [
    "tokenized_content = tokenizer_gpt.encode(content)\n",
    "len(tokenized_content)"
   ]
  },
  {
   "cell_type": "code",
   "execution_count": 13,
   "metadata": {},
   "outputs": [
    {
     "name": "stdout",
     "output_type": "stream",
     "text": [
      "[[22898, 459, 1268, 25838, 15688, 3100, 13157, 29544, 26971, 13083, 8624, 2527, 58, 2061, 10, 14051, 12, 52, 5230, 4018, 1178, 58, 3823, 26327, 15084, 2527, 58, 2061, 1007, 152, 2262, 23916, 4954, 243, 21183, 7683, 6536, 8995, 10, 45, 13, 10, 11, 27144, 25872, 9, 17579, 11448, 152, 25522, 462, 12122, 148, 6, 25915, 13138, 7, 2128, 4311, 4358, 2318, 8, 902, 3407, 10, 3121, 373, 585, 9473, 25841, 410, 4165, 2354, 638, 1386, 4839, 423, 13140, 8, 1386, 2181, 1741, 8, 301, 502, 20552, 13089, 10, 3582, 8, 811, 668, 1466, 15691, 638, 786, 668, 410, 636, 4542], [459, 1268, 25838, 15688, 3100, 13157, 29544, 26971, 13083, 8624, 2527, 58, 2061, 10, 14051, 12, 52, 5230, 4018, 1178, 58, 3823, 26327, 15084, 2527, 58, 2061, 1007, 152, 2262, 23916, 4954, 243, 21183, 7683, 6536, 8995, 10, 45, 13, 10, 11, 27144, 25872, 9, 17579, 11448, 152, 25522, 462, 12122, 148, 6, 25915, 13138, 7, 2128, 4311, 4358, 2318, 8, 902, 3407, 10, 3121, 373, 585, 9473, 25841, 410, 4165, 2354, 638, 1386, 4839, 423, 13140, 8, 1386, 2181, 1741, 8, 301, 502, 20552, 13089, 10, 3582, 8, 811, 668, 1466, 15691, 638, 786, 668, 410, 636, 4542, 1190], [1268, 25838, 15688, 3100, 13157, 29544, 26971, 13083, 8624, 2527, 58, 2061, 10, 14051, 12, 52, 5230, 4018, 1178, 58, 3823, 26327, 15084, 2527, 58, 2061, 1007, 152, 2262, 23916, 4954, 243, 21183, 7683, 6536, 8995, 10, 45, 13, 10, 11, 27144, 25872, 9, 17579, 11448, 152, 25522, 462, 12122, 148, 6, 25915, 13138, 7, 2128, 4311, 4358, 2318, 8, 902, 3407, 10, 3121, 373, 585, 9473, 25841, 410, 4165, 2354, 638, 1386, 4839, 423, 13140, 8, 1386, 2181, 1741, 8, 301, 502, 20552, 13089, 10, 3582, 8, 811, 668, 1466, 15691, 638, 786, 668, 410, 636, 4542, 1190, 638], [25838, 15688, 3100, 13157, 29544, 26971, 13083, 8624, 2527, 58, 2061, 10, 14051, 12, 52, 5230, 4018, 1178, 58, 3823, 26327, 15084, 2527, 58, 2061, 1007, 152, 2262, 23916, 4954, 243, 21183, 7683, 6536, 8995, 10, 45, 13, 10, 11, 27144, 25872, 9, 17579, 11448, 152, 25522, 462, 12122, 148, 6, 25915, 13138, 7, 2128, 4311, 4358, 2318, 8, 902, 3407, 10, 3121, 373, 585, 9473, 25841, 410, 4165, 2354, 638, 1386, 4839, 423, 13140, 8, 1386, 2181, 1741, 8, 301, 502, 20552, 13089, 10, 3582, 8, 811, 668, 1466, 15691, 638, 786, 668, 410, 636, 4542, 1190, 638, 1661]]\n"
     ]
    }
   ],
   "source": [
    "# подготовим строки, каждая длиной = 100 с наложением\n",
    "# т.е. [Я пошел гулять в парк у реки ......] len = 100\n",
    "#      [пошел гулять в парк у реки.........] len = 100\n",
    "#      [гулять в парк у реки...............] len = 100\n",
    "\n",
    "sample_len = 100\n",
    "examples = []\n",
    "for i in range(0, len(tokenized_content)):\n",
    "    examples.append(tokenized_content[i:i + sample_len])\n",
    "\n",
    "print(examples[:4])"
   ]
  },
  {
   "cell_type": "code",
   "execution_count": 14,
   "metadata": {},
   "outputs": [],
   "source": [
    "# Разбиваем подготовленные строки на input и labels\n",
    "# train = [Я пошел гулять в]\n",
    "# label = [пошел гулять в парк] и так с каждой подготовленной строкой длиной 100 строкой\n",
    "train_data = []\n",
    "labels = []\n",
    "for example in examples:\n",
    "    train_data.append(example[:-1])\n",
    "    labels.append(example[1:])"
   ]
  },
  {
   "cell_type": "code",
   "execution_count": 15,
   "metadata": {},
   "outputs": [],
   "source": [
    "import torch\n",
    "from torch.utils.data import Dataset, DataLoader\n",
    "\n",
    "class  TolstoyDataset(Dataset):\n",
    "    def __init__(self, data, labels):\n",
    "        self.data = data\n",
    "        self.labels = labels\n",
    "\n",
    "    def __len__(self):\n",
    "        return len(self.data)\n",
    "\n",
    "    def __getitem__(self, idx):\n",
    "        return {'input_ids': torch.tensor(self.data[idx]),\n",
    "                'labels': torch.tensor(self.labels[idx])}\n",
    "\n",
    "dataset = TolstoyDataset(train_data[:10000], labels[:10000])\n",
    "\n",
    "data_loader = DataLoader(\n",
    "    dataset = dataset,\n",
    "    batch_size = 32,\n",
    "    shuffle = False,\n",
    "    drop_last = True\n",
    ")"
   ]
  },
  {
   "cell_type": "code",
   "execution_count": 16,
   "metadata": {},
   "outputs": [
    {
     "name": "stdout",
     "output_type": "stream",
     "text": [
      "CUDA ?:  True\n",
      "Расчетное время выполнения всего цикла 17.315 минут\n",
      "Epoch     1/   10 || time: 103.890 || train loss: 7.958 || train accuracy: 0.104 \n",
      "Epoch     2/   10 || time: 97.707 || train loss: 6.621 || train accuracy: 0.116 \n",
      "Epoch     3/   10 || time: 150.068 || train loss: 6.153 || train accuracy: 0.130 \n",
      "Epoch     4/   10 || time: 124.010 || train loss: 5.696 || train accuracy: 0.155 \n",
      "Epoch     5/   10 || time: 130.347 || train loss: 5.225 || train accuracy: 0.191 \n",
      "Epoch     6/   10 || time: 130.344 || train loss: 4.704 || train accuracy: 0.231 \n",
      "Epoch     7/   10 || time: 130.658 || train loss: 4.158 || train accuracy: 0.287 \n",
      "Epoch     8/   10 || time: 132.013 || train loss: 3.612 || train accuracy: 0.372 \n",
      "Epoch     9/   10 || time: 129.675 || train loss: 3.082 || train accuracy: 0.459 \n",
      "Epoch    10/   10 || time: 121.648 || train loss: 2.574 || train accuracy: 0.527 \n"
     ]
    },
    {
     "data": {
      "image/png": "[encoded data removed]",
      "text/plain": [
       "<Figure size 640x480 with 1 Axes>"
      ]
     },
     "metadata": {},
     "output_type": "display_data"
    },
    {
     "data": {
      "image/png": "[encoded data removed]",
      "text/plain": [
       "<Figure size 640x480 with 1 Axes>"
      ]
     },
     "metadata": {},
     "output_type": "display_data"
    }
   ],
   "source": [
    "from loop_functions import *\n",
    "import torch\n",
    "import torch.nn as nn\n",
    "import torch.optim as optim\n",
    "\n",
    "optimizer = optim.Adam(model.parameters(), lr = 3e-5, eps = 1e-8)\n",
    "loss_fn = nn.CrossEntropyLoss()\n",
    "\n",
    "\n",
    "model =\\\n",
    "training_loop(\n",
    "    epoches = 10,\n",
    "    model = model,\n",
    "    optimizer = optimizer,\n",
    "    loss_fn = loss_fn,\n",
    "    train_dataloader = data_loader,\n",
    "    regulizer_append = False,\n",
    "    reg_type = None,\n",
    "    verbose_epoch = 1\n",
    ")"
   ]
  },
  {
   "cell_type": "markdown",
   "metadata": {},
   "source": [
    "# Использование обученной модели"
   ]
  },
  {
   "cell_type": "code",
   "execution_count": 17,
   "metadata": {},
   "outputs": [
    {
     "name": "stderr",
     "output_type": "stream",
     "text": [
      "Setting `pad_token_id` to `eos_token_id`:30001 for open-end generation.\n"
     ]
    },
    {
     "data": {
      "text/plain": [
       "'добрыи вечер! князь андреи по - русски к маленькои княгине и, обернул оживленное лицо к князю ипполиту, так же, как у князя андрея в карету с полки книгу ( это были записки це заря ) он был рассеян. князь ипполит фыркнул еще и стал надевать ее оправля л саблю ; но только затем, что - то говорить по привычке, вечныи мир! mon cher, сказал виконт. et tout а вы готовы? сказала анна павловна и сквозь смех проговорил : et vous au revoir, сказала она зате вала между анатолем'"
      ]
     },
     "execution_count": 17,
     "metadata": {},
     "output_type": "execute_result"
    }
   ],
   "source": [
    "def generate(start, model, max_length):\n",
    "    input_token_ids = tokenizer_gpt.encode(start, return_tensors = 'pt')\n",
    "    model = model.cpu()\n",
    "    outputs = model.generate(\n",
    "        input_token_ids,\n",
    "        max_length = max_length,\n",
    "        num_beams = 5,\n",
    "        temperature = 0.7,\n",
    "        no_repeat_ngram_size = 2,\n",
    "        num_return_sequences = 1\n",
    "    )\n",
    "    return tokenizer_gpt.decode(outputs[0])\n",
    "\n",
    "\n",
    "\n",
    "generate('Добрый вечер !', model, 100)"
   ]
  },
  {
   "cell_type": "code",
   "execution_count": 18,
   "metadata": {},
   "outputs": [
    {
     "name": "stderr",
     "output_type": "stream",
     "text": [
      "Setting `pad_token_id` to `eos_token_id`:30001 for open-end generation.\n"
     ]
    },
    {
     "data": {
      "text/plain": [
       "'сегодня в карету. князь андреи по - русски к князю ипполиту, так же, как у князя андрея глаза были записки це заря ) и махнул рукои.'"
      ]
     },
     "execution_count": 18,
     "metadata": {},
     "output_type": "execute_result"
    }
   ],
   "source": [
    "generate('Сегодня', model, 30)"
   ]
  },
  {
   "cell_type": "markdown",
   "metadata": {},
   "source": [
    "# Сохранение модели"
   ]
  },
  {
   "cell_type": "code",
   "execution_count": 19,
   "metadata": {},
   "outputs": [],
   "source": [
    "model.save_pretrained(\"GPT-2-TolstoyEdition/\")\n",
    "model_reloaded = GPT2LMHeadModel.from_pretrained(\"GPT-2-TolstoyEdition/\")"
   ]
  },
  {
   "cell_type": "markdown",
   "metadata": {},
   "source": [
    "# Втроенная функция генерации текста"
   ]
  },
  {
   "cell_type": "code",
   "execution_count": null,
   "metadata": {},
   "outputs": [],
   "source": [
    "from transformers import pipeline\n",
    "\n",
    "text_genaration = pipeline('text-generation', model = model, tokenizer = tokenizer_gpt)\n",
    "prefix = 'Я пошел гулять'\n",
    "generated_text = text_genaration(prefix, max_length = 500)"
   ]
  },
  {
   "cell_type": "code",
   "execution_count": 21,
   "metadata": {},
   "outputs": [
    {
     "data": {
      "text/plain": [
       "'Я пошел гулять. князь ипполит, так же, так что - русски к князю ипполиту, но только не правда, но только не мог разобрать этого ) он был рассеян. я очень рад, как будто обнимал молодую женщину. я очень рад, но только не так же, но только не мог этого ) он, но только не политическим равнове си ем. я очень рад, но только не мог этого ) он был рассеян. князь андреи не правда, но только не так что - нибудь особенно приятное. князь андреи и, но только не все улыбаясь, но только не умею, но только не правда, но только не так что не так что - vous vous vous vous vous vous vous, но только не так же, но только не политическим равнове си ем, но только не так же, но только не так же, но только не так же, но все и, но только не политическим равнове си ем. князь андреи не политическим равнове си ем, но только не так что - то, но только не политическим еще, но только что все, но не так он не все, но не так он был рассеян. et vous? спросил он, но только не так что не правда, но только что не так что не все, что все и стал надевать ее и стал надевать ее и принялся, но только не так что - vous, но не так он был дли ннее, что - то говорить, но только не мог этого ) он стал надевать ее и, но только что - vous vous? спросил он был дли ннее пя ему это, но только не так же, но но только не мог этого ) он был дли ннее пя еще, что не мог разобрать этого ) он не так он был дли ннее пя ток, что - то, но только не так что - то, но только не так он был дли ннее пя ток, но не мог этого ) он, но только не так что - vous que vous vous vous vous vous vous vous vous, но только не так что - vous, но только не мог этого ) он был дли ннее пя ток, но только не так не так что не мог уже была надета, но только не так же, но только не так же, но только не правда, что - то, но только не так он, но только не мог уже была надета, но только не правда и, но только не так что - нибудь особенно не мог этого ) он стал надевать ее. князь андреи не мог этого ) он, но только не мог уже была надета, но только не'"
      ]
     },
     "execution_count": 21,
     "metadata": {},
     "output_type": "execute_result"
    }
   ],
   "source": [
    "generated_text[0]['generated_text']"
   ]
  }
 ],
 "metadata": {
  "kernelspec": {
   "display_name": "newenv",
   "language": "python",
   "name": "python3"
  },
  "language_info": {
   "codemirror_mode": {
    "name": "ipython",
    "version": 3
   },
   "file_extension": ".py",
   "mimetype": "text/x-python",
   "name": "python",
   "nbconvert_exporter": "python",
   "pygments_lexer": "ipython3",
   "version": "3.10.13"
  }
 },
 "nbformat": 4,
 "nbformat_minor": 2
}
