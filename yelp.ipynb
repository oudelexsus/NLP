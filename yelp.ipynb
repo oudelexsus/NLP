{
 "cells": [
  {
   "cell_type": "markdown",
   "metadata": {},
   "source": [
    "# Контекст\n",
    "\n",
    "Необходимо классифицировать текст отзыва ресторана\n",
    "\n",
    "## Описание данных\n",
    "\n",
    "Есть фрем подробных метаданных, нам же нужен один признак - text и таргет - stars"
   ]
  },
  {
   "cell_type": "code",
   "execution_count": 2,
   "metadata": {},
   "outputs": [
    {
     "name": "stdout",
     "output_type": "stream",
     "text": [
      "Куда ?:  True\n"
     ]
    }
   ],
   "source": [
    "import pandas as pd\n",
    "import numpy as np\n",
    "import re\n",
    "import warnings\n",
    "import joblib\n",
    "from scipy import sparse\n",
    "\n",
    "import seaborn as sns\n",
    "import matplotlib.pyplot as plt\n",
    "from sklearn.metrics import confusion_matrix\n",
    "\n",
    "from sklearn.model_selection import train_test_split\n",
    "\n",
    "import torch \n",
    "from torch.utils.data import Dataset, DataLoader\n",
    "import torch.nn as nn\n",
    "\n",
    "from nltk.corpus import stopwords\n",
    "from nltk.stem.porter import PorterStemmer\n",
    "import string\n",
    "from sklearn.feature_extraction.text import CountVectorizer, TfidfVectorizer\n",
    "\n",
    "\n",
    "warnings.filterwarnings(\"ignore\")\n",
    "stop_list = stopwords.words('english')\n",
    "porter = PorterStemmer()\n",
    "device = torch.device('cuda' if torch.cuda.is_available() else 'cpu')\n",
    "print('Куда ?: ', torch.cuda.is_available())\n",
    "RANDOM_STATE = 42"
   ]
  },
  {
   "cell_type": "markdown",
   "metadata": {},
   "source": [
    "# Блок функций / классов (можно держать в отдельном .py файле)"
   ]
  },
  {
   "cell_type": "markdown",
   "metadata": {},
   "source": [
    "#### функция очистки текстовых данных"
   ]
  },
  {
   "cell_type": "code",
   "execution_count": null,
   "metadata": {},
   "outputs": [],
   "source": [
    "def text_preprocess(stroka):\n",
    "    stroka = stroka.lower() # нижний регистр\n",
    "    regex = re.compile(r'[\\n\\r\\t]')\n",
    "    stroka = regex.sub(' ', stroka) # убрать питоновские переносы строки и т.д.\n",
    "    # stroka = re.sub(r'([.,!?])', r' \\1 ', stroka) \n",
    "    stroka = re.sub(r\"[^a-zA-Z]+\", r\" \", stroka) # оставляем слова\n",
    "    stroka = stroka.translate(str.maketrans('', '', string.punctuation)) # убираем пунктуацию\n",
    "    stroka = re.sub(\" +\", \" \", stroka).strip() # сброс лишних пробелов\n",
    "    token_list_bez_stopwords = [word for word in stroka.split() if word not in stop_list] # сброс стоп-слов\n",
    "    token_stem = [porter.stem(word) for word in token_list_bez_stopwords] # стеммер\n",
    "    return ' '.join(token_stem)"
   ]
  },
  {
   "cell_type": "markdown",
   "metadata": {},
   "source": [
    "#### "
   ]
  },
  {
   "cell_type": "code",
   "execution_count": 2,
   "metadata": {},
   "outputs": [
    {
     "data": {
      "text/html": [
       "<div>\n",
       "<style scoped>\n",
       "    .dataframe tbody tr th:only-of-type {\n",
       "        vertical-align: middle;\n",
       "    }\n",
       "\n",
       "    .dataframe tbody tr th {\n",
       "        vertical-align: top;\n",
       "    }\n",
       "\n",
       "    .dataframe thead th {\n",
       "        text-align: right;\n",
       "    }\n",
       "</style>\n",
       "<table border=\"1\" class=\"dataframe\">\n",
       "  <thead>\n",
       "    <tr style=\"text-align: right;\">\n",
       "      <th></th>\n",
       "      <th>review_id</th>\n",
       "      <th>user_id</th>\n",
       "      <th>business_id</th>\n",
       "      <th>stars</th>\n",
       "      <th>useful</th>\n",
       "      <th>funny</th>\n",
       "      <th>cool</th>\n",
       "      <th>text</th>\n",
       "      <th>date</th>\n",
       "    </tr>\n",
       "  </thead>\n",
       "  <tbody>\n",
       "    <tr>\n",
       "      <th>0</th>\n",
       "      <td>KU_O5udG6zpxOg-VcAEodg</td>\n",
       "      <td>mh_-eMZ6K5RLWhZyISBhwA</td>\n",
       "      <td>XQfwVwDr-v0ZS3_CbbE5Xw</td>\n",
       "      <td>3</td>\n",
       "      <td>0</td>\n",
       "      <td>0</td>\n",
       "      <td>0</td>\n",
       "      <td>If you decide to eat here, just be aware it is...</td>\n",
       "      <td>2018-07-07 22:09:11</td>\n",
       "    </tr>\n",
       "    <tr>\n",
       "      <th>1</th>\n",
       "      <td>BiTunyQ73aT9WBnpR9DZGw</td>\n",
       "      <td>OyoGAe7OKpv6SyGZT5g77Q</td>\n",
       "      <td>7ATYjTIgM3jUlt4UM3IypQ</td>\n",
       "      <td>5</td>\n",
       "      <td>1</td>\n",
       "      <td>0</td>\n",
       "      <td>1</td>\n",
       "      <td>I've taken a lot of spin classes over the year...</td>\n",
       "      <td>2012-01-03 15:28:18</td>\n",
       "    </tr>\n",
       "    <tr>\n",
       "      <th>2</th>\n",
       "      <td>saUsX_uimxRlCVr67Z4Jig</td>\n",
       "      <td>8g_iMtfSiwikVnbP2etR0A</td>\n",
       "      <td>YjUWPpI6HXG530lwP-fb2A</td>\n",
       "      <td>3</td>\n",
       "      <td>0</td>\n",
       "      <td>0</td>\n",
       "      <td>0</td>\n",
       "      <td>Family diner. Had the buffet. Eclectic assortm...</td>\n",
       "      <td>2014-02-05 20:30:30</td>\n",
       "    </tr>\n",
       "    <tr>\n",
       "      <th>3</th>\n",
       "      <td>AqPFMleE6RsU23_auESxiA</td>\n",
       "      <td>_7bHUi9Uuf5__HHc_Q8guQ</td>\n",
       "      <td>kxX2SOes4o-D3ZQBkiMRfA</td>\n",
       "      <td>5</td>\n",
       "      <td>1</td>\n",
       "      <td>0</td>\n",
       "      <td>1</td>\n",
       "      <td>Wow!  Yummy, different,  delicious.   Our favo...</td>\n",
       "      <td>2015-01-04 00:01:03</td>\n",
       "    </tr>\n",
       "    <tr>\n",
       "      <th>4</th>\n",
       "      <td>Sx8TMOWLNuJBWer-0pcmoA</td>\n",
       "      <td>bcjbaE6dDog4jkNY91ncLQ</td>\n",
       "      <td>e4Vwtrqf-wpJfwesgvdgxQ</td>\n",
       "      <td>4</td>\n",
       "      <td>1</td>\n",
       "      <td>0</td>\n",
       "      <td>1</td>\n",
       "      <td>Cute interior and owner (?) gave us tour of up...</td>\n",
       "      <td>2017-01-14 20:54:15</td>\n",
       "    </tr>\n",
       "  </tbody>\n",
       "</table>\n",
       "</div>"
      ],
      "text/plain": [
       "                review_id                 user_id             business_id  \\\n",
       "0  KU_O5udG6zpxOg-VcAEodg  mh_-eMZ6K5RLWhZyISBhwA  XQfwVwDr-v0ZS3_CbbE5Xw   \n",
       "1  BiTunyQ73aT9WBnpR9DZGw  OyoGAe7OKpv6SyGZT5g77Q  7ATYjTIgM3jUlt4UM3IypQ   \n",
       "2  saUsX_uimxRlCVr67Z4Jig  8g_iMtfSiwikVnbP2etR0A  YjUWPpI6HXG530lwP-fb2A   \n",
       "3  AqPFMleE6RsU23_auESxiA  _7bHUi9Uuf5__HHc_Q8guQ  kxX2SOes4o-D3ZQBkiMRfA   \n",
       "4  Sx8TMOWLNuJBWer-0pcmoA  bcjbaE6dDog4jkNY91ncLQ  e4Vwtrqf-wpJfwesgvdgxQ   \n",
       "\n",
       "   stars  useful  funny  cool  \\\n",
       "0      3       0      0     0   \n",
       "1      5       1      0     1   \n",
       "2      3       0      0     0   \n",
       "3      5       1      0     1   \n",
       "4      4       1      0     1   \n",
       "\n",
       "                                                text                date  \n",
       "0  If you decide to eat here, just be aware it is... 2018-07-07 22:09:11  \n",
       "1  I've taken a lot of spin classes over the year... 2012-01-03 15:28:18  \n",
       "2  Family diner. Had the buffet. Eclectic assortm... 2014-02-05 20:30:30  \n",
       "3  Wow!  Yummy, different,  delicious.   Our favo... 2015-01-04 00:01:03  \n",
       "4  Cute interior and owner (?) gave us tour of up... 2017-01-14 20:54:15  "
      ]
     },
     "execution_count": 2,
     "metadata": {},
     "output_type": "execute_result"
    }
   ],
   "source": [
    "pd.read_json('yelp_academic_dataset_review.json', nrows = 5, lines = True) "
   ]
  },
  {
   "cell_type": "code",
   "execution_count": 38,
   "metadata": {},
   "outputs": [],
   "source": [
    "chunks = pd.read_json('yelp_academic_dataset_review.json', lines=True, chunksize = 10**6)\n",
    "data = pd.DataFrame()\n",
    "for chunk in chunks:\n",
    "  data = pd.concat([data, chunk])"
   ]
  },
  {
   "cell_type": "code",
   "execution_count": 4,
   "metadata": {},
   "outputs": [
    {
     "name": "stdout",
     "output_type": "stream",
     "text": [
      "<class 'pandas.core.frame.DataFrame'>\n",
      "RangeIndex: 6990280 entries, 0 to 6990279\n",
      "Data columns (total 9 columns):\n",
      " #   Column       Dtype         \n",
      "---  ------       -----         \n",
      " 0   review_id    object        \n",
      " 1   user_id      object        \n",
      " 2   business_id  object        \n",
      " 3   stars        int64         \n",
      " 4   useful       int64         \n",
      " 5   funny        int64         \n",
      " 6   cool         int64         \n",
      " 7   text         object        \n",
      " 8   date         datetime64[ns]\n",
      "dtypes: datetime64[ns](1), int64(4), object(4)\n",
      "memory usage: 480.0+ MB\n"
     ]
    }
   ],
   "source": [
    "data.info()"
   ]
  },
  {
   "cell_type": "code",
   "execution_count": 5,
   "metadata": {},
   "outputs": [
    {
     "data": {
      "text/plain": [
       "0"
      ]
     },
     "execution_count": 5,
     "metadata": {},
     "output_type": "execute_result"
    }
   ],
   "source": [
    "data.duplicated().sum()"
   ]
  },
  {
   "cell_type": "code",
   "execution_count": 6,
   "metadata": {},
   "outputs": [
    {
     "data": {
      "text/plain": [
       "Text(0.5, 1.0, 'Распределение кол-ва звезд по заведениям')"
      ]
     },
     "execution_count": 6,
     "metadata": {},
     "output_type": "execute_result"
    },
    {
     "data": {
      "image/png": "[encoded data removed]",
      "text/plain": [
       "<Figure size 640x480 with 1 Axes>"
      ]
     },
     "metadata": {},
     "output_type": "display_data"
    }
   ],
   "source": [
    "ax =\\\n",
    "sns.countplot(data = data,\n",
    "              x = 'stars')\n",
    "plt.grid()\n",
    "ax.set_axisbelow(b = True)\n",
    "plt.xlabel('кол-во звезд')\n",
    "plt.ylabel('количество заведений')\n",
    "plt.title('Распределение кол-ва звезд по заведениям')"
   ]
  },
  {
   "cell_type": "code",
   "execution_count": 7,
   "metadata": {},
   "outputs": [],
   "source": [
    "data['year'] = data['date'].dt.year\n",
    "data['month'] = data['date'].dt.month\n",
    "data['day'] = data['date'].dt.day\n",
    "data['hour'] = data['date'].dt.hour"
   ]
  },
  {
   "cell_type": "code",
   "execution_count": 8,
   "metadata": {},
   "outputs": [
    {
     "data": {
      "text/plain": [
       "Text(0.5, 1.0, 'Распределение кол-ва отзывов по годам')"
      ]
     },
     "execution_count": 8,
     "metadata": {},
     "output_type": "execute_result"
    },
    {
     "data": {
      "image/png": "[encoded data removed]",
      "text/plain": [
       "<Figure size 640x480 with 1 Axes>"
      ]
     },
     "metadata": {},
     "output_type": "display_data"
    }
   ],
   "source": [
    "ax =\\\n",
    "sns.countplot(data = data,\n",
    "              x = 'year')\n",
    "plt.grid()\n",
    "ax.set_axisbelow(b = True)\n",
    "ax.set_xticklabels(ax.get_xticklabels(), rotation=70)\n",
    "plt.xlabel('год')\n",
    "plt.ylabel('кол-во отзывов')\n",
    "plt.title('Распределение кол-ва отзывов по годам')"
   ]
  },
  {
   "cell_type": "code",
   "execution_count": 9,
   "metadata": {},
   "outputs": [
    {
     "data": {
      "text/plain": [
       "Text(0.5, 1.0, 'Распределение кол-ва отзывов по месяцам')"
      ]
     },
     "execution_count": 9,
     "metadata": {},
     "output_type": "execute_result"
    },
    {
     "data": {
      "image/png": "[encoded data removed]",
      "text/plain": [
       "<Figure size 640x480 with 1 Axes>"
      ]
     },
     "metadata": {},
     "output_type": "display_data"
    }
   ],
   "source": [
    "ax =\\\n",
    "sns.countplot(data = data,\n",
    "              x = 'month')\n",
    "plt.grid()\n",
    "ax.set_axisbelow(b = True)\n",
    "plt.xlabel('месяц')\n",
    "plt.ylabel('кол-во отзывов')\n",
    "plt.title('Распределение кол-ва отзывов по месяцам')"
   ]
  },
  {
   "cell_type": "code",
   "execution_count": 10,
   "metadata": {},
   "outputs": [
    {
     "data": {
      "text/plain": [
       "Text(0.5, 1.0, 'Распределение кол-ва отзывов по часам')"
      ]
     },
     "execution_count": 10,
     "metadata": {},
     "output_type": "execute_result"
    },
    {
     "data": {
      "image/png": "[encoded data removed]",
      "text/plain": [
       "<Figure size 640x480 with 1 Axes>"
      ]
     },
     "metadata": {},
     "output_type": "display_data"
    }
   ],
   "source": [
    "ax =\\\n",
    "sns.countplot(data = data,\n",
    "              x = 'hour')\n",
    "plt.grid()\n",
    "ax.set_axisbelow(b = True)\n",
    "plt.xlabel('час')\n",
    "plt.ylabel('кол-во отзывов')\n",
    "plt.title('Распределение кол-ва отзывов по часам')"
   ]
  },
  {
   "cell_type": "code",
   "execution_count": 11,
   "metadata": {},
   "outputs": [
    {
     "data": {
      "text/html": [
       "<div>\n",
       "<style scoped>\n",
       "    .dataframe tbody tr th:only-of-type {\n",
       "        vertical-align: middle;\n",
       "    }\n",
       "\n",
       "    .dataframe tbody tr th {\n",
       "        vertical-align: top;\n",
       "    }\n",
       "\n",
       "    .dataframe thead th {\n",
       "        text-align: right;\n",
       "    }\n",
       "</style>\n",
       "<table border=\"1\" class=\"dataframe\">\n",
       "  <thead>\n",
       "    <tr style=\"text-align: right;\">\n",
       "      <th></th>\n",
       "      <th>stars</th>\n",
       "      <th>text</th>\n",
       "    </tr>\n",
       "  </thead>\n",
       "  <tbody>\n",
       "    <tr>\n",
       "      <th>0</th>\n",
       "      <td>3</td>\n",
       "      <td>If you decide to eat here, just be aware it is...</td>\n",
       "    </tr>\n",
       "    <tr>\n",
       "      <th>1</th>\n",
       "      <td>5</td>\n",
       "      <td>I've taken a lot of spin classes over the year...</td>\n",
       "    </tr>\n",
       "    <tr>\n",
       "      <th>2</th>\n",
       "      <td>3</td>\n",
       "      <td>Family diner. Had the buffet. Eclectic assortm...</td>\n",
       "    </tr>\n",
       "    <tr>\n",
       "      <th>3</th>\n",
       "      <td>5</td>\n",
       "      <td>Wow!  Yummy, different,  delicious.   Our favo...</td>\n",
       "    </tr>\n",
       "    <tr>\n",
       "      <th>4</th>\n",
       "      <td>4</td>\n",
       "      <td>Cute interior and owner (?) gave us tour of up...</td>\n",
       "    </tr>\n",
       "  </tbody>\n",
       "</table>\n",
       "</div>"
      ],
      "text/plain": [
       "   stars                                               text\n",
       "0      3  If you decide to eat here, just be aware it is...\n",
       "1      5  I've taken a lot of spin classes over the year...\n",
       "2      3  Family diner. Had the buffet. Eclectic assortm...\n",
       "3      5  Wow!  Yummy, different,  delicious.   Our favo...\n",
       "4      4  Cute interior and owner (?) gave us tour of up..."
      ]
     },
     "execution_count": 11,
     "metadata": {},
     "output_type": "execute_result"
    }
   ],
   "source": [
    "reviews = data[['stars', 'text']]\n",
    "reviews.head()"
   ]
  },
  {
   "cell_type": "code",
   "execution_count": 14,
   "metadata": {},
   "outputs": [],
   "source": [
    "X = reviews['text']\n",
    "y = reviews.drop('text', axis = 1)\n",
    "\n",
    "\n",
    "X_train, X_test, y_train, y_test = train_test_split(X, y, \n",
    "                                                    test_size = 0.2,\n",
    "                                                    stratify = y,\n",
    "                                                    random_state = RANDOM_STATE)\n",
    "X_train, X_val , y_train, y_val = train_test_split(X_train,  y_train,\n",
    "                                                   test_size = 0.2,\n",
    "                                                   stratify = y_train,\n",
    "                                                   random_state = RANDOM_STATE)"
   ]
  },
  {
   "cell_type": "code",
   "execution_count": 15,
   "metadata": {},
   "outputs": [],
   "source": [
    "train_set = pd.concat([X_train, y_train], axis = 1)\n",
    "test_set = pd.concat([X_test, y_test], axis = 1)\n",
    "val_set = pd.concat([X_val, y_val], axis = 1)\n",
    "\n",
    "train_set.to_json('train_set.json')\n",
    "test_set.to_json('test_set.json')\n",
    "val_set.to_json('val_set.json')"
   ]
  },
  {
   "cell_type": "code",
   "execution_count": 16,
   "metadata": {},
   "outputs": [],
   "source": [
    "train_set = pd.read_json('train_set.json')\n",
    "val_set = pd.read_json('val_set.json')"
   ]
  },
  {
   "cell_type": "code",
   "execution_count": 44,
   "metadata": {},
   "outputs": [
    {
     "data": {
      "text/plain": [
       "'doubl special rib steakwith bone perfect tender beauti serv well train staff excel servic staff welcom food fresh hot salad cold wonder hous salad huge portion wonder nice spice overli salti etc ladi room attend excel attent staff everyth clean recommend other'"
      ]
     },
     "execution_count": 44,
     "metadata": {},
     "output_type": "execute_result"
    }
   ],
   "source": [
    "# воспользуемся функцией из блока\n",
    "text_preprocess(train_set['text'].iloc[0])"
   ]
  },
  {
   "cell_type": "code",
   "execution_count": 45,
   "metadata": {},
   "outputs": [],
   "source": [
    "train_set['text'] = train_set['text'].map(text_preprocess)\n",
    "val_set['text'] = val_set['text'].map(text_preprocess)"
   ]
  },
  {
   "cell_type": "code",
   "execution_count": 46,
   "metadata": {},
   "outputs": [
    {
     "data": {
      "text/plain": [
       "359195"
      ]
     },
     "execution_count": 46,
     "metadata": {},
     "output_type": "execute_result"
    }
   ],
   "source": [
    "bow_transform = CountVectorizer()\n",
    "X_train_bow = bow_transform.fit_transform(train_set['text'])\n",
    "len(bow_transform.vocabulary_)"
   ]
  },
  {
   "cell_type": "code",
   "execution_count": 47,
   "metadata": {},
   "outputs": [],
   "source": [
    "train_set.to_json('train_set_pr.json')\n",
    "val_set.to_json('val_set_pr.json')"
   ]
  },
  {
   "cell_type": "code",
   "execution_count": 48,
   "metadata": {},
   "outputs": [
    {
     "data": {
      "text/plain": [
       "['bow_transform.pkl']"
      ]
     },
     "execution_count": 48,
     "metadata": {},
     "output_type": "execute_result"
    }
   ],
   "source": [
    "joblib.dump(bow_transform, \"bow_transform.pkl\")"
   ]
  },
  {
   "cell_type": "markdown",
   "metadata": {},
   "source": [
    "# Загружаем"
   ]
  },
  {
   "cell_type": "code",
   "execution_count": 2,
   "metadata": {},
   "outputs": [
    {
     "data": {
      "text/html": [
       "<style>#sk-container-id-1 {color: black;}#sk-container-id-1 pre{padding: 0;}#sk-container-id-1 div.sk-toggleable {background-color: white;}#sk-container-id-1 label.sk-toggleable__label {cursor: pointer;display: block;width: 100%;margin-bottom: 0;padding: 0.3em;box-sizing: border-box;text-align: center;}#sk-container-id-1 label.sk-toggleable__label-arrow:before {content: \"▸\";float: left;margin-right: 0.25em;color: #696969;}#sk-container-id-1 label.sk-toggleable__label-arrow:hover:before {color: black;}#sk-container-id-1 div.sk-estimator:hover label.sk-toggleable__label-arrow:before {color: black;}#sk-container-id-1 div.sk-toggleable__content {max-height: 0;max-width: 0;overflow: hidden;text-align: left;background-color: #f0f8ff;}#sk-container-id-1 div.sk-toggleable__content pre {margin: 0.2em;color: black;border-radius: 0.25em;background-color: #f0f8ff;}#sk-container-id-1 input.sk-toggleable__control:checked~div.sk-toggleable__content {max-height: 200px;max-width: 100%;overflow: auto;}#sk-container-id-1 input.sk-toggleable__control:checked~label.sk-toggleable__label-arrow:before {content: \"▾\";}#sk-container-id-1 div.sk-estimator input.sk-toggleable__control:checked~label.sk-toggleable__label {background-color: #d4ebff;}#sk-container-id-1 div.sk-label input.sk-toggleable__control:checked~label.sk-toggleable__label {background-color: #d4ebff;}#sk-container-id-1 input.sk-hidden--visually {border: 0;clip: rect(1px 1px 1px 1px);clip: rect(1px, 1px, 1px, 1px);height: 1px;margin: -1px;overflow: hidden;padding: 0;position: absolute;width: 1px;}#sk-container-id-1 div.sk-estimator {font-family: monospace;background-color: #f0f8ff;border: 1px dotted black;border-radius: 0.25em;box-sizing: border-box;margin-bottom: 0.5em;}#sk-container-id-1 div.sk-estimator:hover {background-color: #d4ebff;}#sk-container-id-1 div.sk-parallel-item::after {content: \"\";width: 100%;border-bottom: 1px solid gray;flex-grow: 1;}#sk-container-id-1 div.sk-label:hover label.sk-toggleable__label {background-color: #d4ebff;}#sk-container-id-1 div.sk-serial::before {content: \"\";position: absolute;border-left: 1px solid gray;box-sizing: border-box;top: 0;bottom: 0;left: 50%;z-index: 0;}#sk-container-id-1 div.sk-serial {display: flex;flex-direction: column;align-items: center;background-color: white;padding-right: 0.2em;padding-left: 0.2em;position: relative;}#sk-container-id-1 div.sk-item {position: relative;z-index: 1;}#sk-container-id-1 div.sk-parallel {display: flex;align-items: stretch;justify-content: center;background-color: white;position: relative;}#sk-container-id-1 div.sk-item::before, #sk-container-id-1 div.sk-parallel-item::before {content: \"\";position: absolute;border-left: 1px solid gray;box-sizing: border-box;top: 0;bottom: 0;left: 50%;z-index: -1;}#sk-container-id-1 div.sk-parallel-item {display: flex;flex-direction: column;z-index: 1;position: relative;background-color: white;}#sk-container-id-1 div.sk-parallel-item:first-child::after {align-self: flex-end;width: 50%;}#sk-container-id-1 div.sk-parallel-item:last-child::after {align-self: flex-start;width: 50%;}#sk-container-id-1 div.sk-parallel-item:only-child::after {width: 0;}#sk-container-id-1 div.sk-dashed-wrapped {border: 1px dashed gray;margin: 0 0.4em 0.5em 0.4em;box-sizing: border-box;padding-bottom: 0.4em;background-color: white;}#sk-container-id-1 div.sk-label label {font-family: monospace;font-weight: bold;display: inline-block;line-height: 1.2em;}#sk-container-id-1 div.sk-label-container {text-align: center;}#sk-container-id-1 div.sk-container {/* jupyter's `normalize.less` sets `[hidden] { display: none; }` but bootstrap.min.css set `[hidden] { display: none !important; }` so we also need the `!important` here to be able to override the default hidden behavior on the sphinx rendered scikit-learn.org. See: https://github.com/scikit-learn/scikit-learn/issues/21755 */display: inline-block !important;position: relative;}#sk-container-id-1 div.sk-text-repr-fallback {display: none;}</style><div id=\"sk-container-id-1\" class=\"sk-top-container\"><div class=\"sk-text-repr-fallback\"><pre>CountVectorizer()</pre><b>In a Jupyter environment, please rerun this cell to show the HTML representation or trust the notebook. <br />On GitHub, the HTML representation is unable to render, please try loading this page with nbviewer.org.</b></div><div class=\"sk-container\" hidden><div class=\"sk-item\"><div class=\"sk-estimator sk-toggleable\"><input class=\"sk-toggleable__control sk-hidden--visually\" id=\"sk-estimator-id-1\" type=\"checkbox\" checked><label for=\"sk-estimator-id-1\" class=\"sk-toggleable__label sk-toggleable__label-arrow\">CountVectorizer</label><div class=\"sk-toggleable__content\"><pre>CountVectorizer()</pre></div></div></div></div></div>"
      ],
      "text/plain": [
       "CountVectorizer()"
      ]
     },
     "execution_count": 2,
     "metadata": {},
     "output_type": "execute_result"
    }
   ],
   "source": [
    "bow_transform = joblib.load('bow_transform.pkl')\n",
    "bow_transform"
   ]
  },
  {
   "cell_type": "code",
   "execution_count": 2,
   "metadata": {},
   "outputs": [],
   "source": [
    "train_set = pd.read_json('train_set_pr.json')\n",
    "val_set = pd.read_json('val_set_pr.json')"
   ]
  },
  {
   "cell_type": "code",
   "execution_count": 20,
   "metadata": {},
   "outputs": [
    {
     "data": {
      "text/html": [
       "<div>\n",
       "<style scoped>\n",
       "    .dataframe tbody tr th:only-of-type {\n",
       "        vertical-align: middle;\n",
       "    }\n",
       "\n",
       "    .dataframe tbody tr th {\n",
       "        vertical-align: top;\n",
       "    }\n",
       "\n",
       "    .dataframe thead th {\n",
       "        text-align: right;\n",
       "    }\n",
       "</style>\n",
       "<table border=\"1\" class=\"dataframe\">\n",
       "  <thead>\n",
       "    <tr style=\"text-align: right;\">\n",
       "      <th></th>\n",
       "      <th>text</th>\n",
       "      <th>1</th>\n",
       "      <th>2</th>\n",
       "      <th>3</th>\n",
       "      <th>4</th>\n",
       "      <th>5</th>\n",
       "    </tr>\n",
       "  </thead>\n",
       "  <tbody>\n",
       "    <tr>\n",
       "      <th>5021224</th>\n",
       "      <td>Had their double special rib steakwith bone......</td>\n",
       "      <td>0</td>\n",
       "      <td>0</td>\n",
       "      <td>0</td>\n",
       "      <td>1</td>\n",
       "      <td>0</td>\n",
       "    </tr>\n",
       "    <tr>\n",
       "      <th>3421017</th>\n",
       "      <td>A first impression makes a lasting impression....</td>\n",
       "      <td>0</td>\n",
       "      <td>0</td>\n",
       "      <td>0</td>\n",
       "      <td>0</td>\n",
       "      <td>1</td>\n",
       "    </tr>\n",
       "    <tr>\n",
       "      <th>6792900</th>\n",
       "      <td>DON'T DO IT! RECONSIDER! READ SOME .. of my re...</td>\n",
       "      <td>1</td>\n",
       "      <td>0</td>\n",
       "      <td>0</td>\n",
       "      <td>0</td>\n",
       "      <td>0</td>\n",
       "    </tr>\n",
       "    <tr>\n",
       "      <th>4758751</th>\n",
       "      <td>Overpriced for what you get.  The salad was di...</td>\n",
       "      <td>0</td>\n",
       "      <td>1</td>\n",
       "      <td>0</td>\n",
       "      <td>0</td>\n",
       "      <td>0</td>\n",
       "    </tr>\n",
       "    <tr>\n",
       "      <th>5544141</th>\n",
       "      <td>I rarely book a room at full price through the...</td>\n",
       "      <td>0</td>\n",
       "      <td>1</td>\n",
       "      <td>0</td>\n",
       "      <td>0</td>\n",
       "      <td>0</td>\n",
       "    </tr>\n",
       "    <tr>\n",
       "      <th>...</th>\n",
       "      <td>...</td>\n",
       "      <td>...</td>\n",
       "      <td>...</td>\n",
       "      <td>...</td>\n",
       "      <td>...</td>\n",
       "      <td>...</td>\n",
       "    </tr>\n",
       "    <tr>\n",
       "      <th>4356352</th>\n",
       "      <td>We stopped here for breakfast and loved the sm...</td>\n",
       "      <td>0</td>\n",
       "      <td>0</td>\n",
       "      <td>0</td>\n",
       "      <td>1</td>\n",
       "      <td>0</td>\n",
       "    </tr>\n",
       "    <tr>\n",
       "      <th>5320221</th>\n",
       "      <td>I rang this place up at 9:40 p.m. (20 minutes ...</td>\n",
       "      <td>0</td>\n",
       "      <td>0</td>\n",
       "      <td>0</td>\n",
       "      <td>1</td>\n",
       "      <td>0</td>\n",
       "    </tr>\n",
       "    <tr>\n",
       "      <th>1050893</th>\n",
       "      <td>Great place if you want to spend $100 and be i...</td>\n",
       "      <td>0</td>\n",
       "      <td>1</td>\n",
       "      <td>0</td>\n",
       "      <td>0</td>\n",
       "      <td>0</td>\n",
       "    </tr>\n",
       "    <tr>\n",
       "      <th>501926</th>\n",
       "      <td>Very good italian food. My husband and I came ...</td>\n",
       "      <td>0</td>\n",
       "      <td>0</td>\n",
       "      <td>0</td>\n",
       "      <td>1</td>\n",
       "      <td>0</td>\n",
       "    </tr>\n",
       "    <tr>\n",
       "      <th>1373344</th>\n",
       "      <td>I am so grateful we stumbled upon this little ...</td>\n",
       "      <td>0</td>\n",
       "      <td>0</td>\n",
       "      <td>0</td>\n",
       "      <td>0</td>\n",
       "      <td>1</td>\n",
       "    </tr>\n",
       "  </tbody>\n",
       "</table>\n",
       "<p>4473779 rows × 6 columns</p>\n",
       "</div>"
      ],
      "text/plain": [
       "                                                      text  1  2  3  4  5\n",
       "5021224  Had their double special rib steakwith bone......  0  0  0  1  0\n",
       "3421017  A first impression makes a lasting impression....  0  0  0  0  1\n",
       "6792900  DON'T DO IT! RECONSIDER! READ SOME .. of my re...  1  0  0  0  0\n",
       "4758751  Overpriced for what you get.  The salad was di...  0  1  0  0  0\n",
       "5544141  I rarely book a room at full price through the...  0  1  0  0  0\n",
       "...                                                    ... .. .. .. .. ..\n",
       "4356352  We stopped here for breakfast and loved the sm...  0  0  0  1  0\n",
       "5320221  I rang this place up at 9:40 p.m. (20 minutes ...  0  0  0  1  0\n",
       "1050893  Great place if you want to spend $100 and be i...  0  1  0  0  0\n",
       "501926   Very good italian food. My husband and I came ...  0  0  0  1  0\n",
       "1373344  I am so grateful we stumbled upon this little ...  0  0  0  0  1\n",
       "\n",
       "[4473779 rows x 6 columns]"
      ]
     },
     "execution_count": 20,
     "metadata": {},
     "output_type": "execute_result"
    }
   ],
   "source": [
    "train_set"
   ]
  },
  {
   "cell_type": "code",
   "execution_count": 4,
   "metadata": {},
   "outputs": [],
   "source": [
    "y_train = train_set['stars']\n",
    "y_val = val_set['stars']"
   ]
  },
  {
   "cell_type": "code",
   "execution_count": 3,
   "metadata": {},
   "outputs": [],
   "source": [
    "from sklearn.feature_extraction.text import TfidfVectorizer\n",
    "\n",
    "tfidf_trfm = TfidfVectorizer()\n",
    "\n",
    "\n",
    "X_train_tfidf = tfidf_trfm.fit_transform(train_set['text'])\n",
    "X_val_tfidf = tfidf_trfm.transform(val_set['text'])"
   ]
  },
  {
   "cell_type": "code",
   "execution_count": 4,
   "metadata": {},
   "outputs": [
    {
     "data": {
      "text/plain": [
       "<4473779x359195 sparse matrix of type '<class 'numpy.float64'>'\n",
       "\twith 191867040 stored elements in Compressed Sparse Row format>"
      ]
     },
     "execution_count": 4,
     "metadata": {},
     "output_type": "execute_result"
    }
   ],
   "source": [
    "X_train_tfidf"
   ]
  },
  {
   "cell_type": "code",
   "execution_count": 5,
   "metadata": {},
   "outputs": [
    {
     "data": {
      "text/plain": [
       "['tfidf_transform.pkl']"
      ]
     },
     "execution_count": 5,
     "metadata": {},
     "output_type": "execute_result"
    }
   ],
   "source": [
    "joblib.dump(tfidf_trfm, \"tfidf_transform.pkl\")"
   ]
  },
  {
   "cell_type": "code",
   "execution_count": 9,
   "metadata": {},
   "outputs": [],
   "source": [
    "from scipy import sparse\n",
    "\n",
    "sparse.save_npz('train_features.npz', X_train_tfidf)\n",
    "sparse.save_npz('val_features.npz', X_val_tfidf)"
   ]
  },
  {
   "cell_type": "code",
   "execution_count": 10,
   "metadata": {},
   "outputs": [],
   "source": [
    "X_train_tfidf = sparse.load_npz('train_features.npz')\n",
    "X_val_tfidf = sparse.load_npz('val_features.npz')"
   ]
  },
  {
   "cell_type": "code",
   "execution_count": 11,
   "metadata": {},
   "outputs": [
    {
     "data": {
      "text/plain": [
       "<4473779x359195 sparse matrix of type '<class 'numpy.float64'>'\n",
       "\twith 191867040 stored elements in Compressed Sparse Row format>"
      ]
     },
     "execution_count": 11,
     "metadata": {},
     "output_type": "execute_result"
    }
   ],
   "source": [
    "X_train_tfidf"
   ]
  },
  {
   "cell_type": "code",
   "execution_count": 29,
   "metadata": {},
   "outputs": [
    {
     "data": {
      "text/html": [
       "<div>\n",
       "<style scoped>\n",
       "    .dataframe tbody tr th:only-of-type {\n",
       "        vertical-align: middle;\n",
       "    }\n",
       "\n",
       "    .dataframe tbody tr th {\n",
       "        vertical-align: top;\n",
       "    }\n",
       "\n",
       "    .dataframe thead th {\n",
       "        text-align: right;\n",
       "    }\n",
       "</style>\n",
       "<table border=\"1\" class=\"dataframe\">\n",
       "  <thead>\n",
       "    <tr style=\"text-align: right;\">\n",
       "      <th></th>\n",
       "      <th>index</th>\n",
       "      <th>stars</th>\n",
       "    </tr>\n",
       "  </thead>\n",
       "  <tbody>\n",
       "    <tr>\n",
       "      <th>0</th>\n",
       "      <td>5021224</td>\n",
       "      <td>4</td>\n",
       "    </tr>\n",
       "    <tr>\n",
       "      <th>1</th>\n",
       "      <td>3421017</td>\n",
       "      <td>5</td>\n",
       "    </tr>\n",
       "    <tr>\n",
       "      <th>2</th>\n",
       "      <td>6792900</td>\n",
       "      <td>1</td>\n",
       "    </tr>\n",
       "    <tr>\n",
       "      <th>3</th>\n",
       "      <td>4758751</td>\n",
       "      <td>2</td>\n",
       "    </tr>\n",
       "    <tr>\n",
       "      <th>4</th>\n",
       "      <td>5544141</td>\n",
       "      <td>2</td>\n",
       "    </tr>\n",
       "    <tr>\n",
       "      <th>...</th>\n",
       "      <td>...</td>\n",
       "      <td>...</td>\n",
       "    </tr>\n",
       "    <tr>\n",
       "      <th>4473774</th>\n",
       "      <td>4356352</td>\n",
       "      <td>4</td>\n",
       "    </tr>\n",
       "    <tr>\n",
       "      <th>4473775</th>\n",
       "      <td>5320221</td>\n",
       "      <td>4</td>\n",
       "    </tr>\n",
       "    <tr>\n",
       "      <th>4473776</th>\n",
       "      <td>1050893</td>\n",
       "      <td>2</td>\n",
       "    </tr>\n",
       "    <tr>\n",
       "      <th>4473777</th>\n",
       "      <td>501926</td>\n",
       "      <td>4</td>\n",
       "    </tr>\n",
       "    <tr>\n",
       "      <th>4473778</th>\n",
       "      <td>1373344</td>\n",
       "      <td>5</td>\n",
       "    </tr>\n",
       "  </tbody>\n",
       "</table>\n",
       "<p>4473779 rows × 2 columns</p>\n",
       "</div>"
      ],
      "text/plain": [
       "           index  stars\n",
       "0        5021224      4\n",
       "1        3421017      5\n",
       "2        6792900      1\n",
       "3        4758751      2\n",
       "4        5544141      2\n",
       "...          ...    ...\n",
       "4473774  4356352      4\n",
       "4473775  5320221      4\n",
       "4473776  1050893      2\n",
       "4473777   501926      4\n",
       "4473778  1373344      5\n",
       "\n",
       "[4473779 rows x 2 columns]"
      ]
     },
     "execution_count": 29,
     "metadata": {},
     "output_type": "execute_result"
    }
   ],
   "source": [
    "y_train.reset_index()"
   ]
  },
  {
   "cell_type": "code",
   "execution_count": 32,
   "metadata": {},
   "outputs": [],
   "source": [
    "y_train.reset_index().to_csv('train_target.csv', index = False, header = True)\n",
    "y_val.reset_index().to_csv('val_target.csv', index = False, header = True)"
   ]
  },
  {
   "cell_type": "markdown",
   "metadata": {},
   "source": [
    "# Загружаем"
   ]
  },
  {
   "cell_type": "code",
   "execution_count": 40,
   "metadata": {},
   "outputs": [],
   "source": [
    "tfidf_trfm = joblib.load('tfidf_transform.pkl')"
   ]
  },
  {
   "cell_type": "code",
   "execution_count": 71,
   "metadata": {},
   "outputs": [],
   "source": [
    "import numpy as np\n",
    "import torch\n",
    "from torch.utils.data import Dataset, DataLoader\n",
    "from scipy.sparse import (random, \n",
    "                          coo_matrix,\n",
    "                          csr_matrix, \n",
    "                          vstack)\n",
    "\n",
    "\n",
    "def sparse_coo_to_tensor(coo):\n",
    "    \"\"\"\n",
    "    цель: переместить scipy.coo (на выходе у TFIDFVectorizer) --> float_tenzor_pytorch\n",
    "    \"\"\"\n",
    "    values = coo.data\n",
    "    indices = np.vstack((coo.row, coo.col))\n",
    "    shape = coo.shape\n",
    "\n",
    "    i = torch.LongTensor(indices)\n",
    "    v = torch.FloatTensor(values)\n",
    "    s = torch.Size(shape)\n",
    "\n",
    "    return torch.sparse.FloatTensor(i, v, s)\n",
    "\n",
    "def sparse_batch_collate(batch:list): \n",
    "    \"\"\"\n",
    "    Функция для DataLoader(collate_fn = 'наша функция')\n",
    "    \"\"\"\n",
    "    data_batch, targets_batch = zip(*batch)\n",
    "    if type(data_batch[0]) == csr_matrix:\n",
    "        data_batch = vstack(data_batch).tocoo()\n",
    "        data_batch = sparse_coo_to_tensor(data_batch)\n",
    "    else:\n",
    "        data_batch = torch.FloatTensor(data_batch)\n",
    "\n",
    "    if type(targets_batch[0]) == csr_matrix:\n",
    "        targets_batch = vstack(targets_batch).tocoo()\n",
    "        targets_batch = sparse_coo_to_tensor(targets_batch)\n",
    "    else:\n",
    "        targets_batch = torch.FloatTensor(targets_batch)\n",
    "    return data_batch, targets_batch\n"
   ]
  },
  {
   "cell_type": "code",
   "execution_count": 78,
   "metadata": {},
   "outputs": [],
   "source": [
    "from sklearn.preprocessing import LabelEncoder\n",
    "\n",
    "\n",
    "pr = pd.read_json('train_set_pr.json')\n",
    "encoder = LabelEncoder()\n",
    "new = encoder.fit_transform(pr['stars'])"
   ]
  },
  {
   "cell_type": "code",
   "execution_count": 5,
   "metadata": {},
   "outputs": [
    {
     "data": {
      "text/plain": [
       "array([3, 4, 0, ..., 1, 3, 4], dtype=int64)"
      ]
     },
     "execution_count": 5,
     "metadata": {},
     "output_type": "execute_result"
    }
   ],
   "source": [
    "new"
   ]
  },
  {
   "cell_type": "code",
   "execution_count": 79,
   "metadata": {},
   "outputs": [],
   "source": [
    "tfidf_trfm = joblib.load(\"tfidf_transform.pkl\")\n",
    "\n",
    "from sklearn.preprocessing import LabelEncoder\n",
    "\n",
    "class ReviewDataset(Dataset):\n",
    "    def __init__(self, file_path):\n",
    "        # data loading\n",
    "        self.file_path = file_path\n",
    "\n",
    "        xy = pd.read_json(file_path)\n",
    "        self.x = tfidf_trfm.transform(xy['text'])\n",
    "        self.y = encoder.transform(xy['stars'])\n",
    "        self.n_samples = xy.shape[0]\n",
    "\n",
    "    def __len__(self):\n",
    "        return self.n_samples\n",
    "    \n",
    "    def __getitem__(self, index):\n",
    "        return self.x[index], self.y[index]"
   ]
  },
  {
   "cell_type": "code",
   "execution_count": 80,
   "metadata": {},
   "outputs": [],
   "source": [
    "train_dataset = ReviewDataset(\n",
    "    file_path = 'train_set_pr.json'\n",
    ")\n",
    "\n",
    "val_dataset = ReviewDataset(\n",
    "    file_path = 'val_set_pr.json'\n",
    ")\n",
    "\n",
    "\n",
    "train_dataloader = DataLoader(\n",
    "    dataset = train_dataset,\n",
    "    batch_size = 128,\n",
    "    collate_fn = sparse_batch_collate\n",
    ")\n",
    "\n",
    "val_dataloader = DataLoader(\n",
    "    dataset = val_dataset,\n",
    "    batch_size = 128,\n",
    "    collate_fn = sparse_batch_collate\n",
    ")"
   ]
  },
  {
   "cell_type": "code",
   "execution_count": 81,
   "metadata": {},
   "outputs": [],
   "source": [
    "num_features = len(tfidf_trfm.vocabulary_)\n",
    "\n",
    "model = nn.Sequential(\n",
    "    nn.Linear(in_features = num_features, out_features = 5)\n",
    ")"
   ]
  },
  {
   "cell_type": "code",
   "execution_count": 82,
   "metadata": {},
   "outputs": [
    {
     "data": {
      "text/plain": [
       "tensor([[0., 0., 0.,  ..., 0., 0., 0.]], dtype=torch.float64)"
      ]
     },
     "execution_count": 82,
     "metadata": {},
     "output_type": "execute_result"
    }
   ],
   "source": [
    "torch.tensor(train_dataloader.dataset[0][0].toarray())"
   ]
  },
  {
   "cell_type": "code",
   "execution_count": 9,
   "metadata": {},
   "outputs": [
    {
     "name": "stdout",
     "output_type": "stream",
     "text": [
      "Количество признаков:  359195\n",
      "Размерность словаря TF-IDF:  359195\n",
      "Возвращаемые моделью логиты: [-0.00149574  0.00082906 -0.00111385 -0.00170133 -0.00112257], \n",
      "Вероятность после softmax: [0.19988498 0.20035021 0.19996132 0.1998439  0.19995959]\n"
     ]
    }
   ],
   "source": [
    "matrix = torch.tensor(train_dataloader.dataset[0][0].toarray(), dtype = torch.float32)\n",
    "print('Количество признаков: ' , matrix.shape[1])\n",
    "print('Размерность словаря TF-IDF: ', num_features)\n",
    "model = model.cuda()\n",
    "logists = model(matrix.to(device))\n",
    "print('Возвращаемые моделью логиты: {}, \\nВероятность после softmax: {}'.format(logists[0].detach().cpu().numpy(), torch.softmax(logists, dim = 1)[0].detach().cpu().numpy()))"
   ]
  },
  {
   "cell_type": "code",
   "execution_count": 10,
   "metadata": {},
   "outputs": [
    {
     "data": {
      "text/plain": [
       "tensor([[-0.0015,  0.0008, -0.0011, -0.0017, -0.0011],\n",
       "        [-0.0006,  0.0010, -0.0029,  0.0005, -0.0003]], device='cuda:0',\n",
       "       grad_fn=<AddmmBackward0>)"
      ]
     },
     "execution_count": 10,
     "metadata": {},
     "output_type": "execute_result"
    }
   ],
   "source": [
    "loss_fn = nn.CrossEntropyLoss()\n",
    "\n",
    "X, y = train_dataloader.dataset[0:2][0], train_dataloader.dataset[0:2][1]\n",
    "X = torch.tensor(X.toarray(),  dtype = torch.float32).to(device)\n",
    "y = torch.tensor(y).to(device)\n",
    "y_pred = model(X)\n",
    "y_pred"
   ]
  },
  {
   "cell_type": "code",
   "execution_count": 24,
   "metadata": {},
   "outputs": [
    {
     "data": {
      "text/plain": [
       "tensor([3, 4], device='cuda:0')"
      ]
     },
     "execution_count": 24,
     "metadata": {},
     "output_type": "execute_result"
    }
   ],
   "source": [
    "torch.tensor(y, dtype = torch.long)"
   ]
  },
  {
   "cell_type": "code",
   "execution_count": 25,
   "metadata": {},
   "outputs": [
    {
     "data": {
      "text/plain": [
       "tensor(1.6098, device='cuda:0', grad_fn=<NllLossBackward0>)"
      ]
     },
     "execution_count": 25,
     "metadata": {},
     "output_type": "execute_result"
    }
   ],
   "source": [
    "loss_fn(y_pred, y)"
   ]
  },
  {
   "cell_type": "code",
   "execution_count": 29,
   "metadata": {},
   "outputs": [
    {
     "name": "stdout",
     "output_type": "stream",
     "text": [
      "Epoch 1/10,  train loss: 1.035, test_loss: 0.917, train accuracy: 0.591, test accuracy: 0.640\n",
      "Epoch 10/10,  train loss: 0.776, test_loss: 0.776, train accuracy: 0.683, test accuracy: 0.682\n"
     ]
    },
    {
     "data": {
      "image/png": "[encoded data removed]",
      "text/plain": [
       "<Figure size 640x480 with 1 Axes>"
      ]
     },
     "metadata": {},
     "output_type": "display_data"
    },
    {
     "data": {
      "image/png": "[encoded data removed]",
      "text/plain": [
       "<Figure size 640x480 with 1 Axes>"
      ]
     },
     "metadata": {},
     "output_type": "display_data"
    }
   ],
   "source": [
    "loss_train_list = []\n",
    "loss_test_list = []\n",
    "accuracy_train_list = []\n",
    "accuracy_test_list = []\n",
    "\n",
    "epoches = 10\n",
    "optimizer = torch.optim.SGD(model.parameters(), lr = 0.1)\n",
    "model = model.cuda()\n",
    "loss_fn = nn.CrossEntropyLoss()\n",
    "train_loader = train_dataloader\n",
    "test_loader = val_dataloader\n",
    "\n",
    "for epoch in range(1, epoches+1):\n",
    "\n",
    "        loss_train = 0\n",
    "        loss_test = 0\n",
    "\n",
    "        correct_train = 0\n",
    "        total_train = 0\n",
    "\n",
    "        correct_test = 0\n",
    "        total_test = 0\n",
    "\n",
    "        for imgs, labels in train_loader:\n",
    "            \n",
    "            model.train()\n",
    "            imgs = imgs.cuda()\n",
    "            labels = labels.cuda()\n",
    "            labels = labels.to(torch.long)\n",
    "            outputs = model(imgs)\n",
    "\n",
    "            # Тренировочный потери\n",
    "            loss = loss_fn(outputs, labels)\n",
    "\n",
    "            # loss_reg = loss_with_l1_or_l2_regulizer(type = type_reg, l_lambda = 0.001, loss_by_fn = loss)\n",
    "\n",
    "            optimizer.zero_grad()\n",
    "            loss.backward()\n",
    "            optimizer.step()\n",
    "            \n",
    "            loss_train += loss.item()\n",
    "\n",
    "            _, predicted = torch.max(outputs, dim = 1)\n",
    "            total_train += labels.shape[0]\n",
    "            correct_train += ((predicted == labels).sum())\n",
    "\n",
    "\n",
    "        mean_epoch_loss = loss_train/len(train_loader)\n",
    "        loss_train_list.append(mean_epoch_loss)\n",
    "\n",
    "        train_accuracy_value = correct_train / total_train\n",
    "        accuracy_train_list.append(train_accuracy_value.item())\n",
    "\n",
    "    # Проверочный этап\n",
    "        model.eval()\n",
    "        with torch.no_grad():\n",
    "                for imgs, labels in test_loader:\n",
    "                        imgs = imgs.cuda()\n",
    "                        labels = labels.type(torch.LongTensor).cuda()\n",
    "                        outputs = model(imgs)\n",
    "                        loss_on_test = loss_fn(outputs, labels)\n",
    "                        loss_test += loss_on_test.item()\n",
    "\n",
    "                        _, predicted = torch.max(outputs, dim = 1)\n",
    "                        total_test += labels.shape[0]\n",
    "                        correct_test += ((predicted == labels).sum())\n",
    "                \n",
    "\n",
    "                test_accuracy_value = correct_test / total_test\n",
    "                accuracy_test_list.append(test_accuracy_value.item())\n",
    "\n",
    "                mean_epoch_loss_test = loss_test / len(test_loader)\n",
    "                loss_test_list.append(mean_epoch_loss_test)\n",
    "\n",
    "        if epoch == 1 or epoch % 10 == 0:\n",
    "            print(\n",
    "                    'Epoch {}/{},  train loss: {:.3f}, test_loss: {:.3f}, train accuracy: {:.3f}, test accuracy: {:.3f}'\\\n",
    "                    \n",
    "\n",
    "                    .format(epoch,\n",
    "                            epoches,\n",
    "                            mean_epoch_loss,\n",
    "                            mean_epoch_loss_test,\n",
    "                            train_accuracy_value,\n",
    "                            test_accuracy_value)     \n",
    "                )\n",
    "\n",
    "#    \n",
    "sns.lineplot(x = range(1, epoches+1),\n",
    "            y = loss_train_list,\n",
    "            label = 'train')\n",
    "plt.xlabel('эпохи')\n",
    "plt.ylabel('loss')\n",
    "plt.title('Потери от эпох: epoches: {}   lr: {}'.format(epoches,\n",
    "                                                    optimizer.param_groups[0]['lr']))\n",
    "sns.lineplot(x = range(1, epoches+1),\n",
    "            y = loss_test_list,\n",
    "            label = 'test')\n",
    "plt.legend()\n",
    "plt.grid()\n",
    "plt.show()\n",
    "\n",
    "#\n",
    "sns.lineplot(x = range(1, epoches+1),\n",
    "            y = accuracy_train_list,\n",
    "            label = 'train')\n",
    "plt.xlabel('эпохи')\n",
    "plt.ylabel('accuracy')\n",
    "plt.title('Точность от эпох: epoches: {}   lr: {}'.format(epoches,\n",
    "                                                        optimizer.param_groups[0]['lr']))\n",
    "sns.lineplot(x = range(1, epoches+1),\n",
    "            y = accuracy_test_list,\n",
    "            label = 'test')\n",
    "plt.legend()\n",
    "plt.grid()\n",
    "plt.show()"
   ]
  },
  {
   "cell_type": "markdown",
   "metadata": {},
   "source": [
    "---"
   ]
  },
  {
   "cell_type": "code",
   "execution_count": 147,
   "metadata": {},
   "outputs": [],
   "source": [
    "little_df = pd.read_json('train_set_pr.json')[:2000]\n",
    "\n",
    "# one_hot_stars = pd.get_dummies(little_df['stars'], dtype = float)\n",
    "# little_df = pd.concat([little_df.drop('stars', axis = 1), one_hot_stars], axis = 1)\n",
    "\n",
    "little_train_df = little_df[:1000]\n",
    "little_val_df = little_df[1000:2000]\n",
    "\n",
    "little_train_df.to_json('little_train_df.json')\n",
    "little_val_df.to_json('little_val_df.json')"
   ]
  },
  {
   "cell_type": "markdown",
   "metadata": {},
   "source": [
    "# ЗДЕСЬ"
   ]
  },
  {
   "cell_type": "code",
   "execution_count": 2,
   "metadata": {},
   "outputs": [],
   "source": [
    "import numpy as np\n",
    "import torch\n",
    "from torch.utils.data import Dataset, DataLoader\n",
    "from scipy.sparse import (random, \n",
    "                          coo_matrix,\n",
    "                          csr_matrix, \n",
    "                          vstack)\n",
    "\n",
    "\n",
    "def sparse_coo_to_tensor(coo):\n",
    "    \"\"\"\n",
    "    цель: переместить scipy.coo (на выходе у TFIDFVectorizer) --> float_tenzor_pytorch\n",
    "    \"\"\"\n",
    "    values = coo.data\n",
    "    indices = np.vstack((coo.row, coo.col))\n",
    "    shape = coo.shape\n",
    "\n",
    "    i = torch.LongTensor(indices)\n",
    "    v = torch.FloatTensor(values)\n",
    "    s = torch.Size(shape)\n",
    "\n",
    "    return torch.sparse.FloatTensor(i, v, s)\n",
    "\n",
    "def sparse_batch_collate(batch:list): \n",
    "    \"\"\"\n",
    "    Функция для DataLoader(collate_fn = 'наша функция')\n",
    "    \"\"\"\n",
    "    data_batch, targets_batch = zip(*batch)\n",
    "    if type(data_batch[0]) == csr_matrix:\n",
    "        data_batch = vstack(data_batch).tocoo()\n",
    "        data_batch = sparse_coo_to_tensor(data_batch)\n",
    "    else:\n",
    "        data_batch = torch.FloatTensor(data_batch)\n",
    "\n",
    "    if type(targets_batch[0]) == csr_matrix:\n",
    "        targets_batch = vstack(targets_batch).tocoo()\n",
    "        targets_batch = sparse_coo_to_tensor(targets_batch)\n",
    "    else:\n",
    "        targets_batch = torch.FloatTensor(targets_batch)\n",
    "    return data_batch, targets_batch\n"
   ]
  },
  {
   "cell_type": "code",
   "execution_count": 3,
   "metadata": {},
   "outputs": [],
   "source": [
    "from sklearn.preprocessing import OneHotEncoder\n",
    "\n",
    "class Vectorizer():\n",
    "    def __init__(self,\n",
    "                 max_features=None,\n",
    "                 # stop_words=None,\n",
    "                 # type_dataset = 'train'\n",
    "                 ):\n",
    "\n",
    "        self.max_features = max_features\n",
    "        self.tfidf = TfidfVectorizer(max_features=self.max_features)\n",
    "        self.onh = OneHotEncoder()\n",
    "    \n",
    "    def _set_tfidf(self,cleaned_texts):\n",
    "        self.tfidf.fit(cleaned_texts)\n",
    "        return self.tfidf\n",
    "    \n",
    "    # def build_vectorizer(self,texts):\n",
    "    #     self._set_tfidf(texts)\n",
    "        \n",
    "    def vectorizeTexts(self,texts):\n",
    "        return self.tfidf.transform(texts)\n",
    "    \n",
    "    def one_hot_encoding_fitter(self, labels_column):\n",
    "        self.onh.fit(labels_column)\n",
    "        return self.onh\n",
    "    \n",
    "    def one_hot_encoding_transformer(self, labels_column):\n",
    "        return self.onh.transform(labels_column)\n",
    "\n",
    "\n",
    "\n",
    "class TRAIN___ReviewDatasetVectorizer(Dataset):\n",
    "    def __init__(self,\n",
    "                 file_path, # '_____.json'\n",
    "                 tfidf_max_features):\n",
    "        \n",
    "        self.file_path = file_path\n",
    "        self.tfidf_max_features = tfidf_max_features\n",
    "\n",
    "        # data loading\n",
    "        xy = pd.read_json(file_path)\n",
    "        y = xy.drop('text', axis = 1).values\n",
    "        \n",
    "\n",
    "        self.tfidf_encoder = Vectorizer(max_features = tfidf_max_features)._set_tfidf(xy['text'])\n",
    "        self.onh_encoder = Vectorizer(max_features = tfidf_max_features).one_hot_encoding_fitter(y)\n",
    "        self.x = self.tfidf_encoder.transform(xy['text'])\n",
    "        self.y = self.onh_encoder.transform(y).toarray()\n",
    "        self.n_samples = xy.shape[0]\n",
    "\n",
    "    def __len__(self):\n",
    "        return self.n_samples\n",
    "    \n",
    "    def __getitem__(self, index):\n",
    "        return self.x[index], self.y[index]\n",
    "    \n",
    "    def get_tfidf_encoder(self):\n",
    "        return self.tfidf_encoder\n",
    "    \n",
    "    def get_onh_encoder(self):\n",
    "        return self.onh_encoder\n",
    "\n",
    "\n",
    "\n",
    "class VAL___ReviewDatasetVectorizer(Dataset):\n",
    "    def __init__(self,\n",
    "                 file_path, # '_____.json'\n",
    "                 encoder_TF__IDF,\n",
    "                 onh_encoder):\n",
    "        \n",
    "        self.file_path = file_path\n",
    "        self.encoder_TF__IDF = encoder_TF__IDF\n",
    "        self.onh_encoder = onh_encoder\n",
    "\n",
    "        # data loading\n",
    "        xy = pd.read_json(file_path)\n",
    "        x = xy['text']\n",
    "        y = xy.drop('text', axis = 1).values\n",
    "        \n",
    "\n",
    "        self.x = self.encoder_TF__IDF.transform(x)\n",
    "        self.y = self.onh_encoder.transform(y).toarray()\n",
    "        self.n_samples = xy.shape[0]\n",
    "\n",
    "    def __len__(self):\n",
    "        return self.n_samples\n",
    "    \n",
    "    def __getitem__(self, index):\n",
    "        return self.x[index], self.y[index]\n",
    "\n",
    "\n",
    "\n",
    "\n",
    "def dataloader_preprocess(\n",
    "        file_path_train,\n",
    "        file_path_val,\n",
    "        tfidf_max_features,\n",
    "        batch_size\n",
    "):\n",
    "    # Подготовка словаря\n",
    "\n",
    "    dataset_train = TRAIN___ReviewDatasetVectorizer(\n",
    "                            file_path = file_path_train,\n",
    "                            tfidf_max_features = tfidf_max_features\n",
    "                            )\n",
    "    \n",
    "    tfidf_encoder = dataset_train.get_tfidf_encoder()\n",
    "    onh_encoder = dataset_train.get_onh_encoder()\n",
    "\n",
    "    train_dataloader = DataLoader(\n",
    "                        dataset = dataset_train,\n",
    "                        batch_size = batch_size,\n",
    "                        collate_fn = sparse_batch_collate\n",
    "                           )\n",
    "    \n",
    "\n",
    "    val_dataloader = DataLoader(\n",
    "                        dataset = VAL___ReviewDatasetVectorizer(\n",
    "                            file_path = file_path_val,\n",
    "                            encoder_TF__IDF = tfidf_encoder,\n",
    "                            onh_encoder = onh_encoder),\n",
    "                        batch_size = batch_size,\n",
    "                        collate_fn = sparse_batch_collate\n",
    "                           )\n",
    "    \n",
    "    return train_dataloader, val_dataloader"
   ]
  },
  {
   "cell_type": "code",
   "execution_count": 151,
   "metadata": {},
   "outputs": [],
   "source": [
    "train_dataloader, val_dataloader = dataloader_preprocess(\n",
    "    file_path_train = 'little_train_df.json',\n",
    "    file_path_val = 'little_val_df.json',\n",
    "    tfidf_max_features = 2000,\n",
    "    batch_size = 128\n",
    ")"
   ]
  },
  {
   "cell_type": "code",
   "execution_count": 152,
   "metadata": {},
   "outputs": [
    {
     "data": {
      "text/plain": [
       "2000"
      ]
     },
     "execution_count": 152,
     "metadata": {},
     "output_type": "execute_result"
    }
   ],
   "source": [
    "num_features = train_dataloader.dataset[0][0].shape[1]\n",
    "\n",
    "model = nn.Sequential(\n",
    "    nn.Linear(in_features = num_features, out_features = 5)\n",
    ")\n",
    "\n",
    "model = model.to(device)\n",
    "num_features"
   ]
  },
  {
   "cell_type": "code",
   "execution_count": 153,
   "metadata": {},
   "outputs": [
    {
     "data": {
      "text/plain": [
       "tensor([[0.0000, 0.0000, 0.0000,  ..., 0.0000, 0.0000, 0.0000],\n",
       "        [0.0760, 0.0000, 0.0000,  ..., 0.0000, 0.0000, 0.0000]],\n",
       "       device='cuda:0')"
      ]
     },
     "execution_count": 153,
     "metadata": {},
     "output_type": "execute_result"
    }
   ],
   "source": [
    "values = train_dataloader.dataset[0:2][0].toarray()\n",
    "values = torch.tensor(values, dtype = torch.float32).to(device)\n",
    "values"
   ]
  },
  {
   "cell_type": "code",
   "execution_count": 158,
   "metadata": {},
   "outputs": [
    {
     "data": {
      "text/plain": [
       "tensor([[0., 0., 0., 1., 0.],\n",
       "        [0., 0., 0., 0., 1.]], device='cuda:0')"
      ]
     },
     "execution_count": 158,
     "metadata": {},
     "output_type": "execute_result"
    }
   ],
   "source": [
    "targets = train_dataloader.dataset[0:2][1].toarray()\n",
    "targets = torch.tensor(targets, dtype = torch.float32).to(device)\n",
    "targets"
   ]
  },
  {
   "cell_type": "code",
   "execution_count": 159,
   "metadata": {},
   "outputs": [
    {
     "data": {
      "text/plain": [
       "tensor([[-0.0292, -0.0146,  0.0170, -0.0186, -0.0089],\n",
       "        [-0.0385, -0.0015,  0.0281, -0.0053,  0.0236]], device='cuda:0',\n",
       "       grad_fn=<AddmmBackward0>)"
      ]
     },
     "execution_count": 159,
     "metadata": {},
     "output_type": "execute_result"
    }
   ],
   "source": [
    "predict_logits = model(values)\n",
    "predict_logits"
   ]
  },
  {
   "cell_type": "code",
   "execution_count": 160,
   "metadata": {},
   "outputs": [
    {
     "data": {
      "text/plain": [
       "tensor([[0.1963, 0.1992, 0.2056, 0.1984, 0.2004],\n",
       "        [0.1921, 0.1994, 0.2054, 0.1986, 0.2045]], device='cuda:0',\n",
       "       grad_fn=<SoftmaxBackward0>)"
      ]
     },
     "execution_count": 160,
     "metadata": {},
     "output_type": "execute_result"
    }
   ],
   "source": [
    "predict_probas = torch.softmax(predict_logits, dim = 1)\n",
    "predict_probas"
   ]
  },
  {
   "cell_type": "code",
   "execution_count": 161,
   "metadata": {},
   "outputs": [
    {
     "data": {
      "text/plain": [
       "tensor([2, 2], device='cuda:0')"
      ]
     },
     "execution_count": 161,
     "metadata": {},
     "output_type": "execute_result"
    }
   ],
   "source": [
    "values, indexes = torch.max(torch.softmax(predict_logits, dim = 1), dim = 1)\n",
    "indexes"
   ]
  },
  {
   "cell_type": "code",
   "execution_count": 162,
   "metadata": {},
   "outputs": [
    {
     "data": {
      "text/plain": [
       "tensor(1.6023, device='cuda:0', grad_fn=<DivBackward1>)"
      ]
     },
     "execution_count": 162,
     "metadata": {},
     "output_type": "execute_result"
    }
   ],
   "source": [
    "loss_fn = nn.CrossEntropyLoss()\n",
    "loss_fn(predict_logits, targets)"
   ]
  },
  {
   "cell_type": "markdown",
   "metadata": {},
   "source": [
    " под нижний loop и потренировать на dataloader (little_......)\n",
    "\n",
    "\n",
    "1) предсказать в валидации\n",
    "2) нарисовать таблицу неточностей одновременно для всех классов\n",
    "3) \n",
    ") проверить результаты при балансировке классов\n",
    "\n"
   ]
  },
  {
   "cell_type": "code",
   "execution_count": 13,
   "metadata": {},
   "outputs": [
    {
     "name": "stdout",
     "output_type": "stream",
     "text": [
      "Epoch 1/10, train loss: 1.549, test_loss: 1.474\n",
      "Epoch 2/10, train loss: 1.374, test_loss: 1.394\n",
      "Epoch 3/10, train loss: 1.261, test_loss: 1.347\n",
      "Epoch 4/10, train loss: 1.173, test_loss: 1.312\n",
      "Epoch 5/10, train loss: 1.095, test_loss: 1.281\n",
      "Epoch 6/10, train loss: 1.024, test_loss: 1.254\n",
      "Epoch 7/10, train loss: 0.958, test_loss: 1.231\n",
      "Epoch 8/10, train loss: 0.899, test_loss: 1.212\n",
      "Epoch 9/10, train loss: 0.845, test_loss: 1.196\n",
      "Epoch 10/10, train loss: 0.796, test_loss: 1.182\n"
     ]
    },
    {
     "data": {
      "image/png": "[encoded data removed]",
      "text/plain": [
       "<Figure size 640x480 with 1 Axes>"
      ]
     },
     "metadata": {},
     "output_type": "display_data"
    }
   ],
   "source": [
    "\n",
    "loss_train_list = []\n",
    "loss_test_list = []\n",
    "# ROC_AUC_train_list = []\n",
    "# ROC_AUC_test_list = []\n",
    "\n",
    "epoches = 10\n",
    "optimizer = torch.optim.Adam(model.parameters(), lr = 0.01)\n",
    "model = model.cuda()\n",
    "loss_fn = nn.CrossEntropyLoss()\n",
    "train_loader = train_dataloader\n",
    "test_loader = val_dataloader\n",
    "\n",
    "for epoch in range(1, epoches+1):\n",
    "\n",
    "        loss_train = 0\n",
    "        loss_test = 0\n",
    "\n",
    "        correct_train = 0\n",
    "        total_train = 0\n",
    "\n",
    "        correct_test = 0\n",
    "        total_test = 0\n",
    "\n",
    "        for imgs, labels in train_loader:\n",
    "            \n",
    "            model.train()\n",
    "            imgs = imgs.cuda()\n",
    "            labels = labels.cuda()\n",
    "            # labels = labels.to(torch.long)\n",
    "            outputs = model(imgs)\n",
    "\n",
    "            # Тренировочный потери\n",
    "            loss = loss_fn(outputs, labels)\n",
    "\n",
    "            # loss_reg = loss_with_l1_or_l2_regulizer(type = type_reg, l_lambda = 0.001, loss_by_fn = loss)\n",
    "\n",
    "            optimizer.zero_grad()\n",
    "            loss.backward()\n",
    "            optimizer.step()\n",
    "            \n",
    "            loss_train += loss.item()\n",
    "\n",
    "            '''_, predicted = torch.max(torch.softmax(outputs, dim = 1), dim = 1)\n",
    "            total_train += labels.shape[0]\n",
    "            correct_train += ((predicted == labels).sum())\n",
    "'''\n",
    "\n",
    "        mean_epoch_loss = loss_train/len(train_loader)\n",
    "        loss_train_list.append(mean_epoch_loss)\n",
    "\n",
    "        '''train_accuracy_value = correct_train / total_train\n",
    "        accuracy_train_list.append(train_accuracy_value.item())'''\n",
    "\n",
    "        # Проверочный этап\n",
    "        model.eval()\n",
    "        with torch.no_grad():\n",
    "                for imgs, labels in test_loader:\n",
    "                        imgs = imgs.cuda()\n",
    "                        labels = labels.cuda()\n",
    "                        outputs = model(imgs)\n",
    "                        loss_on_test = loss_fn(outputs, labels)\n",
    "                        loss_test += loss_on_test.item()\n",
    "\n",
    "                        '''_, predicted = torch.max(outputs, dim = 1)\n",
    "                        total_test += labels.shape[0]\n",
    "                        correct_test += ((predicted == labels).sum())'''\n",
    "                \n",
    "\n",
    "                '''test_accuracy_value = correct_test / total_test\n",
    "                accuracy_test_list.append(test_accuracy_value.item())'''\n",
    "\n",
    "                mean_epoch_loss_test = loss_test / len(test_loader)\n",
    "                loss_test_list.append(mean_epoch_loss_test)\n",
    "\n",
    "        # if epoch == 1 or epoch % 10 == 0:\n",
    "        print(\n",
    "                    'Epoch {}/{}, train loss: {:.3f}, test_loss: {:.3f}'\n",
    "                    .format(epoch,\n",
    "                            epoches,\n",
    "                            mean_epoch_loss,\n",
    "                            mean_epoch_loss_test,\n",
    "                            # train_accuracy_value,\n",
    "                            # test_accuracy_value\n",
    "                            )     \n",
    "                )\n",
    "  \n",
    "sns.lineplot(x = range(1, epoches+1),\n",
    "            y = loss_train_list,\n",
    "            label = 'train')\n",
    "plt.xlabel('эпохи')\n",
    "plt.ylabel('loss')\n",
    "plt.title('Потери от эпох: epoches: {}   lr: {}'.format(epoches,\n",
    "                                                    optimizer.param_groups[0]['lr']))\n",
    "sns.lineplot(x = range(1, epoches+1),\n",
    "            y = loss_test_list,\n",
    "            label = 'test')\n",
    "plt.legend()\n",
    "plt.grid()\n",
    "plt.show()\n",
    "\n",
    "#\n",
    "# sns.lineplot(x = range(1, epoches+1),\n",
    "#             y = accuracy_train_list,\n",
    "#             label = 'train')\n",
    "# plt.xlabel('эпохи')\n",
    "# plt.ylabel('accuracy')\n",
    "# plt.title('Точность от эпох: epoches: {}   lr: {}'.format(epoches,\n",
    "#                                                         optimizer.param_groups[0]['lr']))\n",
    "# sns.lineplot(x = range(1, epoches+1),\n",
    "#             y = accuracy_test_list,\n",
    "#             label = 'test')\n",
    "# plt.legend()\n",
    "# plt.grid()\n",
    "# plt.show()"
   ]
  },
  {
   "cell_type": "code",
   "execution_count": 14,
   "metadata": {},
   "outputs": [
    {
     "data": {
      "text/plain": [
       "tensor([[-0.9706, -1.0865, -0.8164, -0.3117,  0.4851],\n",
       "        [-2.0084, -1.1669, -1.0220,  0.2043,  0.7423],\n",
       "        [-1.2070, -0.9553, -0.7748, -0.0174,  0.6759],\n",
       "        ...,\n",
       "        [-0.7393, -0.4945, -0.6945, -0.0257,  0.0215],\n",
       "        [-1.5014, -1.4277, -1.1559,  0.0316,  0.1666],\n",
       "        [-1.0927, -1.0719, -1.1369, -0.2111,  0.9661]], device='cuda:0',\n",
       "       grad_fn=<AddmmBackward0>)"
      ]
     },
     "execution_count": 14,
     "metadata": {},
     "output_type": "execute_result"
    }
   ],
   "source": [
    "logits_predict = model(torch.tensor(val_dataloader.dataset[:][0].toarray(), dtype = torch.float32).to(device))\n",
    "logits_predict"
   ]
  },
  {
   "cell_type": "code",
   "execution_count": 15,
   "metadata": {},
   "outputs": [],
   "source": [
    "values, indexes = torch.max(torch.softmax(logits_predict, dim = 1), dim = 1)\n",
    "indexes = indexes.reshape(-1,1)"
   ]
  },
  {
   "cell_type": "code",
   "execution_count": 28,
   "metadata": {},
   "outputs": [],
   "source": [
    "y_true = np.argmax(val_dataloader.dataset[:][1], axis = 1).reshape(-1,1)"
   ]
  },
  {
   "cell_type": "code",
   "execution_count": 17,
   "metadata": {},
   "outputs": [
    {
     "data": {
      "text/plain": [
       "540"
      ]
     },
     "execution_count": 17,
     "metadata": {},
     "output_type": "execute_result"
    }
   ],
   "source": [
    "(indexes.cpu().numpy() == y_true).sum()"
   ]
  },
  {
   "cell_type": "code",
   "execution_count": 18,
   "metadata": {},
   "outputs": [
    {
     "data": {
      "text/plain": [
       "array([[ 85,   1,   0,   9,  58],\n",
       "       [ 10,   0,   3,  13,  60],\n",
       "       [  3,   1,   2,  28,  65],\n",
       "       [  1,   0,   1,  41, 181],\n",
       "       [  2,   0,   0,  24, 412]], dtype=int64)"
      ]
     },
     "execution_count": 18,
     "metadata": {},
     "output_type": "execute_result"
    }
   ],
   "source": [
    "confusion_matrix(y_pred = indexes.cpu().numpy(),\n",
    "                 y_true = y_true)"
   ]
  },
  {
   "cell_type": "markdown",
   "metadata": {},
   "source": [
    "# Активировать "
   ]
  },
  {
   "cell_type": "code",
   "execution_count": 4,
   "metadata": {},
   "outputs": [],
   "source": [
    "import numpy as np\n",
    "import torch\n",
    "from torch.utils.data import Dataset, DataLoader\n",
    "from scipy.sparse import (random, \n",
    "                          coo_matrix,\n",
    "                          csr_matrix, \n",
    "                          vstack)\n",
    "\n",
    "\n",
    "def sparse_coo_to_tensor(coo):\n",
    "    \"\"\"\n",
    "    цель: переместить scipy.coo (на выходе у TFIDFVectorizer) --> float_tenzor_pytorch\n",
    "    \"\"\"\n",
    "    values = coo.data\n",
    "    indices = np.vstack((coo.row, coo.col))\n",
    "    shape = coo.shape\n",
    "\n",
    "    i = torch.LongTensor(indices)\n",
    "    v = torch.FloatTensor(values)\n",
    "    s = torch.Size(shape)\n",
    "\n",
    "    return torch.sparse.FloatTensor(i, v, s)\n",
    "\n",
    "def sparse_batch_collate(batch:list): \n",
    "    \"\"\"\n",
    "    Функция для DataLoader(collate_fn = 'наша функция')\n",
    "    \"\"\"\n",
    "    data_batch, targets_batch = zip(*batch)\n",
    "    if type(data_batch[0]) == csr_matrix:\n",
    "        data_batch = vstack(data_batch).tocoo()\n",
    "        data_batch = sparse_coo_to_tensor(data_batch)\n",
    "    else:\n",
    "        data_batch = torch.FloatTensor(data_batch)\n",
    "\n",
    "    if type(targets_batch[0]) == csr_matrix:\n",
    "        targets_batch = vstack(targets_batch).tocoo()\n",
    "        targets_batch = sparse_coo_to_tensor(targets_batch)\n",
    "    else:\n",
    "        targets_batch = torch.FloatTensor(targets_batch)\n",
    "    return data_batch, targets_batch\n"
   ]
  },
  {
   "cell_type": "code",
   "execution_count": 5,
   "metadata": {},
   "outputs": [],
   "source": [
    "from sklearn.preprocessing import OneHotEncoder\n",
    "\n",
    "class Vectorizer():\n",
    "    def __init__(self,\n",
    "                 max_features=None,\n",
    "                 # stop_words=None,\n",
    "                 # type_dataset = 'train'\n",
    "                 ):\n",
    "\n",
    "        self.max_features = max_features\n",
    "        self.tfidf = TfidfVectorizer(max_features=self.max_features)\n",
    "        self.onh = OneHotEncoder()\n",
    "    \n",
    "    def _set_tfidf(self,cleaned_texts):\n",
    "        self.tfidf.fit(cleaned_texts)\n",
    "        return self.tfidf\n",
    "    \n",
    "    # def build_vectorizer(self,texts):\n",
    "    #     self._set_tfidf(texts)\n",
    "        \n",
    "    def vectorizeTexts(self,texts):\n",
    "        return self.tfidf.transform(texts)\n",
    "    \n",
    "    def one_hot_encoding_fitter(self, labels_column):\n",
    "        self.onh.fit(labels_column)\n",
    "        return self.onh\n",
    "    \n",
    "    def one_hot_encoding_transformer(self, labels_column):\n",
    "        return self.onh.transform(labels_column)\n",
    "\n",
    "\n",
    "\n",
    "class TRAIN___ReviewDatasetVectorizer(Dataset):\n",
    "    def __init__(self,\n",
    "                 file_path, # '_____.json'\n",
    "                 tfidf_max_features):\n",
    "        \n",
    "        self.file_path = file_path\n",
    "        self.tfidf_max_features = tfidf_max_features\n",
    "\n",
    "        # data loading\n",
    "        xy = pd.read_json(file_path)\n",
    "        y = xy.drop('text', axis = 1).values\n",
    "        \n",
    "\n",
    "        self.tfidf_encoder = Vectorizer(max_features = tfidf_max_features)._set_tfidf(xy['text'])\n",
    "        self.onh_encoder = Vectorizer(max_features = tfidf_max_features).one_hot_encoding_fitter(y)\n",
    "        self.x = self.tfidf_encoder.transform(xy['text'])\n",
    "        self.y = self.onh_encoder.transform(y).toarray()\n",
    "        self.n_samples = xy.shape[0]\n",
    "\n",
    "    def __len__(self):\n",
    "        return self.n_samples\n",
    "    \n",
    "    def __getitem__(self, index):\n",
    "        return self.x[index], self.y[index]\n",
    "    \n",
    "    def get_tfidf_encoder(self):\n",
    "        return self.tfidf_encoder\n",
    "    \n",
    "    def get_onh_encoder(self):\n",
    "        return self.onh_encoder\n",
    "\n",
    "\n",
    "\n",
    "class VAL___ReviewDatasetVectorizer(Dataset):\n",
    "    def __init__(self,\n",
    "                 file_path, # '_____.json'\n",
    "                 encoder_TF__IDF,\n",
    "                 onh_encoder):\n",
    "        \n",
    "        self.file_path = file_path\n",
    "        self.encoder_TF__IDF = encoder_TF__IDF\n",
    "        self.onh_encoder = onh_encoder\n",
    "\n",
    "        # data loading\n",
    "        xy = pd.read_json(file_path)\n",
    "        x = xy['text']\n",
    "        y = xy.drop('text', axis = 1).values\n",
    "        \n",
    "\n",
    "        self.x = self.encoder_TF__IDF.transform(x)\n",
    "        self.y = self.onh_encoder.transform(y).toarray()\n",
    "        self.n_samples = xy.shape[0]\n",
    "\n",
    "    def __len__(self):\n",
    "        return self.n_samples\n",
    "    \n",
    "    def __getitem__(self, index):\n",
    "        return self.x[index], self.y[index]\n",
    "\n",
    "\n",
    "\n",
    "\n",
    "def dataloader_preprocess(\n",
    "        file_path_train,\n",
    "        file_path_val,\n",
    "        tfidf_max_features,\n",
    "        batch_size\n",
    "):\n",
    "    # Подготовка словаря\n",
    "\n",
    "    dataset_train = TRAIN___ReviewDatasetVectorizer(\n",
    "                            file_path = file_path_train,\n",
    "                            tfidf_max_features = tfidf_max_features\n",
    "                            )\n",
    "    \n",
    "    tfidf_encoder = dataset_train.get_tfidf_encoder()\n",
    "    onh_encoder = dataset_train.get_onh_encoder()\n",
    "\n",
    "    train_dataloader = DataLoader(\n",
    "                        dataset = dataset_train,\n",
    "                        batch_size = batch_size,\n",
    "                        collate_fn = sparse_batch_collate\n",
    "                           )\n",
    "    \n",
    "\n",
    "    val_dataloader = DataLoader(\n",
    "                        dataset = VAL___ReviewDatasetVectorizer(\n",
    "                            file_path = file_path_val,\n",
    "                            encoder_TF__IDF = tfidf_encoder,\n",
    "                            onh_encoder = onh_encoder),\n",
    "                        batch_size = batch_size,\n",
    "                        collate_fn = sparse_batch_collate\n",
    "                           )\n",
    "    \n",
    "    return train_dataloader, val_dataloader"
   ]
  },
  {
   "cell_type": "code",
   "execution_count": 6,
   "metadata": {},
   "outputs": [],
   "source": [
    "def confusion_matrix_plot(\n",
    "                model,\n",
    "                val_dataloader\n",
    "):\n",
    "\n",
    "        y_pred_spisok_ = []\n",
    "        model.eval()\n",
    "        with torch.no_grad():\n",
    "                for features, labels in val_dataloader:\n",
    "                                                features = features.cuda()\n",
    "                                                labels = labels.cuda()\n",
    "                                                outputs = model(features)\n",
    "                                                vaules, indexes = torch.max(torch.softmax(outputs, dim = 1), dim = 1)\n",
    "                                                y_pred = indexes.cpu().numpy()\n",
    "                                                y_pred_spisok_.append(y_pred)\n",
    "\n",
    "        y_pred = \\\n",
    "        np.concatenate((np.array(y_pred_spisok_[:-1]).reshape(-1,1),\n",
    "                        np.array(y_pred_spisok_[-1]).reshape(-1,1)), axis = 0)\n",
    "\n",
    "        y_true = np.argmax(val_dataloader.dataset[:][1], axis = 1).reshape(-1,1)\n",
    "\n",
    "        matrix = confusion_matrix(\n",
    "                y_true = y_true,\n",
    "                y_pred = y_pred\n",
    "        )\n",
    "\n",
    "\n",
    "        matrix = pd.DataFrame(\n",
    "        matrix,\n",
    "        columns = ['прогноз {}'.format(i) for i in range(0,5)],\n",
    "        index = ['фактически {}'.format(i) for i in range(0,5)]\n",
    "        )\n",
    "\n",
    "        ax =\\\n",
    "        sns.heatmap(matrix,\n",
    "                        cmap = 'PiYG', # цветовая гамма\n",
    "                        cbar = True,   # отключить бар справа\n",
    "                        annot = True, # показывать числа\n",
    "                        fmt= ''\n",
    "        )\n",
    "        plt.title('Матрица неточностей классификатора \\n \\n')\n",
    "        ax.xaxis.tick_top()\n",
    "        plt.show()\n",
    "\n",
    "\n",
    "confusion_matrix_plot(model, val_dataloader)"
   ]
  },
  {
   "cell_type": "code",
   "execution_count": 7,
   "metadata": {},
   "outputs": [],
   "source": [
    "def training_loop(\n",
    "        epoches,\n",
    "        model,\n",
    "        optimizer,\n",
    "        loss_fn,\n",
    "        train_dataloader,\n",
    "        val_dataloader\n",
    "        ):\n",
    "    \n",
    "#     train_dataloader, val_dataloader = dataloader_preprocess(\n",
    "#         file_path_train = 'little_train_df.json',\n",
    "#         file_path_val = 'little_val_df.json',\n",
    "#         tfidf_max_features = 2000,\n",
    "#         batch_size = 128\n",
    "#                                                              )\n",
    "    \n",
    "    # num_features = train_dataloader.dataset[0][0].shape[1]\n",
    "    loss_train_list = []\n",
    "    loss_test_list = []\n",
    "    # ROC_AUC_train_list = []\n",
    "    # ROC_AUC_test_list = []\n",
    "\n",
    "    # epoches = 10\n",
    "    # optimizer = torch.optim.Adam(model.parameters(), lr = 0.01)\n",
    "    model = model.cuda()\n",
    "    # loss_fn = nn.CrossEntropyLoss()\n",
    "\n",
    "    for epoch in range(1, epoches+1):\n",
    "\n",
    "            loss_train = 0\n",
    "            loss_test = 0\n",
    "\n",
    "            # correct_train = 0\n",
    "            # total_train = 0\n",
    "\n",
    "            # correct_test = 0\n",
    "            # total_test = 0\n",
    "\n",
    "            for features, labels in train_dataloader:\n",
    "                \n",
    "                model.train()\n",
    "                features = features.cuda()\n",
    "                labels = labels.cuda()\n",
    "                # labels = labels.to(torch.long)\n",
    "                outputs = model(features)\n",
    "\n",
    "                # Тренировочный потери\n",
    "                loss = loss_fn(outputs, labels)\n",
    "\n",
    "                # loss_reg = loss_with_l1_or_l2_regulizer(type = type_reg, l_lambda = 0.001, loss_by_fn = loss)\n",
    "\n",
    "                optimizer.zero_grad()\n",
    "                loss.backward()\n",
    "                optimizer.step()\n",
    "                \n",
    "                loss_train += loss.item()\n",
    "\n",
    "                '''_, predicted = torch.max(torch.softmax(outputs, dim = 1), dim = 1)\n",
    "                total_train += labels.shape[0]\n",
    "                correct_train += ((predicted == labels).sum())\n",
    "    '''\n",
    "\n",
    "            mean_epoch_loss = loss_train/len(train_dataloader)\n",
    "            loss_train_list.append(mean_epoch_loss)\n",
    "\n",
    "            '''train_accuracy_value = correct_train / total_train\n",
    "            accuracy_train_list.append(train_accuracy_value.item())'''\n",
    "\n",
    "            # Проверочный этап\n",
    "            model.eval()\n",
    "            with torch.no_grad():\n",
    "                    for features, labels in val_dataloader:\n",
    "                            features = features.cuda()\n",
    "                            labels = labels.cuda()\n",
    "                            outputs = model(features)\n",
    "                            loss_on_test = loss_fn(outputs, labels)\n",
    "                            loss_test += loss_on_test.item()\n",
    "\n",
    "                            '''_, predicted = torch.max(outputs, dim = 1)\n",
    "                            total_test += labels.shape[0]\n",
    "                            correct_test += ((predicted == labels).sum())'''\n",
    "                    \n",
    "\n",
    "                    '''test_accuracy_value = correct_test / total_test\n",
    "                    accuracy_test_list.append(test_accuracy_value.item())'''\n",
    "\n",
    "                    mean_epoch_loss_test = loss_test / len(val_dataloader)\n",
    "                    loss_test_list.append(mean_epoch_loss_test)\n",
    "\n",
    "            if epoch == 1 or epoch % 10 == 0:\n",
    "                print(\n",
    "                        'Epoch {}/{}, train loss: {:.3f}, val_loss: {:.3f}'\n",
    "                        .format(epoch,\n",
    "                                epoches,\n",
    "                                mean_epoch_loss,\n",
    "                                mean_epoch_loss_test,\n",
    "                                # train_accuracy_value,\n",
    "                                # test_accuracy_value\n",
    "                                )     \n",
    "                    )\n",
    "    \n",
    "    sns.lineplot(x = range(1, epoches+1),\n",
    "                y = loss_train_list,\n",
    "                label = 'train')\n",
    "    plt.xlabel('эпохи')\n",
    "    plt.ylabel('loss')\n",
    "    plt.title('Потери от эпох: epoches: {}   lr: {}'.format(epoches,\n",
    "                                                        optimizer.param_groups[0]['lr']))\n",
    "    sns.lineplot(x = range(1, epoches+1),\n",
    "                y = loss_test_list,\n",
    "                label = 'val')\n",
    "    plt.legend()\n",
    "    plt.grid()\n",
    "    plt.show()\n",
    "\n",
    "    #\n",
    "    # sns.lineplot(x = range(1, epoches+1),\n",
    "    #             y = accuracy_train_list,\n",
    "    #             label = 'train')\n",
    "    # plt.xlabel('эпохи')\n",
    "    # plt.ylabel('accuracy')\n",
    "    # plt.title('Точность от эпох: epoches: {}   lr: {}'.format(epoches,\n",
    "    #                                                         optimizer.param_groups[0]['lr']))\n",
    "    # sns.lineplot(x = range(1, epoches+1),\n",
    "    #             y = accuracy_test_list,\n",
    "    #             label = 'test')\n",
    "    # plt.legend()\n",
    "    # plt.grid()\n",
    "    # plt.show()\n",
    "    \n",
    "    return model"
   ]
  },
  {
   "cell_type": "code",
   "execution_count": null,
   "metadata": {},
   "outputs": [],
   "source": [
    "train_dataloader, val_dataloader = dataloader_preprocess(\n",
    "        file_path_train = 'train.json',\n",
    "        file_path_val = 'val.json',\n",
    "        tfidf_max_features = 1000,\n",
    "        batch_size = 128\n",
    "        )\n",
    "num_features = train_dataloader.dataset[0][0].shape[1]\n",
    "\n",
    "model = nn.Sequential(\n",
    "                nn.Linear(in_features = num_features, out_features = 5)\n",
    "    )\n",
    "\n",
    "training_loop(\n",
    "    epoches = 10,\n",
    "    model = model,\n",
    "    optimizer = torch.optim.Adam(model.parameters(), lr = 0.1),\n",
    "    loss_fn = nn.CrossEntropyLoss(),\n",
    "    train_dataloader = train_dataloader,\n",
    "    val_dataloader = val_dataloader    \n",
    ")"
   ]
  },
  {
   "cell_type": "code",
   "execution_count": 8,
   "metadata": {},
   "outputs": [],
   "source": [
    "model = torch.load('models\\model__tfidf_7000___epoch_10___Adam___lr_0.01.pth')\n",
    "\n",
    "\n",
    "train_dataloader, val_dataloader = dataloader_preprocess(\n",
    "    file_path_train = 'train_set_pr.json',\n",
    "    file_path_val = 'val_set_pr.json',\n",
    "    tfidf_max_features = 7000,\n",
    "    batch_size = 128\n",
    ")"
   ]
  }
 ],
 "metadata": {
  "kernelspec": {
   "display_name": "newenv",
   "language": "python",
   "name": "python3"
  },
  "language_info": {
   "codemirror_mode": {
    "name": "ipython",
    "version": 3
   },
   "file_extension": ".py",
   "mimetype": "text/x-python",
   "name": "python",
   "nbconvert_exporter": "python",
   "pygments_lexer": "ipython3",
   "version": "3.10.13"
  }
 },
 "nbformat": 4,
 "nbformat_minor": 2
}
