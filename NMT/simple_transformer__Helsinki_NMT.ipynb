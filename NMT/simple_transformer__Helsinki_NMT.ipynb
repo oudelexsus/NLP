{
 "cells": [
  {
   "cell_type": "markdown",
   "metadata": {},
   "source": [
    "# Контекст\n",
    "\n",
    "загрузка готовой модели Helsinki для перевода eng-rus"
   ]
  },
  {
   "cell_type": "markdown",
   "metadata": {},
   "source": [
    "# Импотры"
   ]
  },
  {
   "cell_type": "code",
   "execution_count": 1,
   "metadata": {},
   "outputs": [
    {
     "data": {
      "text/plain": [
       "\"import wandb\\nwandb.init(mode='disabled')\""
      ]
     },
     "execution_count": 1,
     "metadata": {},
     "output_type": "execute_result"
    }
   ],
   "source": [
    "import pandas as pd\n",
    "from nltk.tokenize import word_tokenize\n",
    "from transformers import MarianMTModel, MarianTokenizer"
   ]
  },
  {
   "cell_type": "markdown",
   "metadata": {},
   "source": [
    "# Чтение файла"
   ]
  },
  {
   "cell_type": "code",
   "execution_count": 2,
   "metadata": {},
   "outputs": [
    {
     "data": {
      "text/plain": [
       "[['go.', 'марш!'],\n",
       " ['go.', 'иди.'],\n",
       " ['go.', 'идите.'],\n",
       " ['hi.', 'здравствуйте.'],\n",
       " ['hi.', 'привет!'],\n",
       " ['hi.', 'хай.'],\n",
       " ['hi.', 'здрасте.'],\n",
       " ['hi.', 'здоро́во!'],\n",
       " ['hi.', 'приветик!'],\n",
       " ['run!', 'беги!']]"
      ]
     },
     "execution_count": 2,
     "metadata": {},
     "output_type": "execute_result"
    }
   ],
   "source": [
    "with open('rus.txt') as file:\n",
    "    lines = file.readlines()\n",
    "\n",
    "lines = [line.replace('\\n', '').lower().split('\\t')[:-1] for line in lines]\n",
    "lines[:10]"
   ]
  },
  {
   "cell_type": "code",
   "execution_count": 3,
   "metadata": {},
   "outputs": [
    {
     "data": {
      "text/plain": [
       "[{'english_tokens': ['go', '.'], 'russian_tokens': ['марш', '!']},\n",
       " {'english_tokens': ['go', '.'], 'russian_tokens': ['иди', '.']},\n",
       " {'english_tokens': ['go', '.'], 'russian_tokens': ['идите', '.']},\n",
       " {'english_tokens': ['hi', '.'], 'russian_tokens': ['здравствуйте', '.']},\n",
       " {'english_tokens': ['hi', '.'], 'russian_tokens': ['привет', '!']},\n",
       " {'english_tokens': ['hi', '.'], 'russian_tokens': ['хай', '.']},\n",
       " {'english_tokens': ['hi', '.'], 'russian_tokens': ['здрасте', '.']},\n",
       " {'english_tokens': ['hi', '.'], 'russian_tokens': ['здоро́во', '!']},\n",
       " {'english_tokens': ['hi', '.'], 'russian_tokens': ['приветик', '!']},\n",
       " {'english_tokens': ['run', '!'], 'russian_tokens': ['беги', '!']}]"
      ]
     },
     "execution_count": 3,
     "metadata": {},
     "output_type": "execute_result"
    }
   ],
   "source": [
    "data = []\n",
    "for english_sentence, russian_sentence in lines:\n",
    "    data.append({'english_tokens': word_tokenize(english_sentence, language = 'english'),\n",
    "                 'russian_tokens': word_tokenize(russian_sentence, language = 'russian')})\n",
    "data[:10]"
   ]
  },
  {
   "cell_type": "code",
   "execution_count": 4,
   "metadata": {},
   "outputs": [
    {
     "name": "stdout",
     "output_type": "stream",
     "text": [
      "496059\n"
     ]
    }
   ],
   "source": [
    "data_to_pd = []\n",
    "for i in range(len(data)):\n",
    "    data_to_pd.append({'english_tokens': \" \".join(data[i]['english_tokens']),\n",
    "                       'russian_tokens': \" \".join(data[i]['russian_tokens'])})\n",
    "\n",
    "print(len(data_to_pd))"
   ]
  },
  {
   "cell_type": "code",
   "execution_count": 5,
   "metadata": {},
   "outputs": [
    {
     "data": {
      "text/html": [
       "<div>\n",
       "<style scoped>\n",
       "    .dataframe tbody tr th:only-of-type {\n",
       "        vertical-align: middle;\n",
       "    }\n",
       "\n",
       "    .dataframe tbody tr th {\n",
       "        vertical-align: top;\n",
       "    }\n",
       "\n",
       "    .dataframe thead th {\n",
       "        text-align: right;\n",
       "    }\n",
       "</style>\n",
       "<table border=\"1\" class=\"dataframe\">\n",
       "  <thead>\n",
       "    <tr style=\"text-align: right;\">\n",
       "      <th></th>\n",
       "      <th>english_tokens</th>\n",
       "      <th>russian_tokens</th>\n",
       "    </tr>\n",
       "  </thead>\n",
       "  <tbody>\n",
       "    <tr>\n",
       "      <th>0</th>\n",
       "      <td>go .</td>\n",
       "      <td>марш !</td>\n",
       "    </tr>\n",
       "    <tr>\n",
       "      <th>1</th>\n",
       "      <td>go .</td>\n",
       "      <td>иди .</td>\n",
       "    </tr>\n",
       "    <tr>\n",
       "      <th>2</th>\n",
       "      <td>go .</td>\n",
       "      <td>идите .</td>\n",
       "    </tr>\n",
       "    <tr>\n",
       "      <th>3</th>\n",
       "      <td>hi .</td>\n",
       "      <td>здравствуйте .</td>\n",
       "    </tr>\n",
       "    <tr>\n",
       "      <th>4</th>\n",
       "      <td>hi .</td>\n",
       "      <td>привет !</td>\n",
       "    </tr>\n",
       "  </tbody>\n",
       "</table>\n",
       "</div>"
      ],
      "text/plain": [
       "  english_tokens  russian_tokens\n",
       "0           go .          марш !\n",
       "1           go .           иди .\n",
       "2           go .         идите .\n",
       "3           hi .  здравствуйте .\n",
       "4           hi .        привет !"
      ]
     },
     "execution_count": 5,
     "metadata": {},
     "output_type": "execute_result"
    }
   ],
   "source": [
    "df = pd.DataFrame(data_to_pd)\n",
    "df.head()"
   ]
  },
  {
   "cell_type": "code",
   "execution_count": 6,
   "metadata": {},
   "outputs": [],
   "source": [
    "df.to_csv('df_ready.csv', index = False)"
   ]
  },
  {
   "cell_type": "code",
   "execution_count": 22,
   "metadata": {},
   "outputs": [
    {
     "data": {
      "text/html": [
       "<div>\n",
       "<style scoped>\n",
       "    .dataframe tbody tr th:only-of-type {\n",
       "        vertical-align: middle;\n",
       "    }\n",
       "\n",
       "    .dataframe tbody tr th {\n",
       "        vertical-align: top;\n",
       "    }\n",
       "\n",
       "    .dataframe thead th {\n",
       "        text-align: right;\n",
       "    }\n",
       "</style>\n",
       "<table border=\"1\" class=\"dataframe\">\n",
       "  <thead>\n",
       "    <tr style=\"text-align: right;\">\n",
       "      <th></th>\n",
       "      <th>english_tokens</th>\n",
       "      <th>russian_tokens</th>\n",
       "    </tr>\n",
       "  </thead>\n",
       "  <tbody>\n",
       "    <tr>\n",
       "      <th>152381</th>\n",
       "      <td>it seems you were right .</td>\n",
       "      <td>похоже , ты была права .</td>\n",
       "    </tr>\n",
       "    <tr>\n",
       "      <th>494486</th>\n",
       "      <td>if there are no dogs in heaven , then when i d...</td>\n",
       "      <td>если в раю нет собак , то после смерти я хочу ...</td>\n",
       "    </tr>\n",
       "    <tr>\n",
       "      <th>47240</th>\n",
       "      <td>i 'll wash the dog .</td>\n",
       "      <td>я искупаю собаку .</td>\n",
       "    </tr>\n",
       "    <tr>\n",
       "      <th>43221</th>\n",
       "      <td>do you have a car ?</td>\n",
       "      <td>у вас машина есть ?</td>\n",
       "    </tr>\n",
       "    <tr>\n",
       "      <th>213091</th>\n",
       "      <td>i 'm glad you 're here today .</td>\n",
       "      <td>я рада , что вы сегодня здесь .</td>\n",
       "    </tr>\n",
       "  </tbody>\n",
       "</table>\n",
       "</div>"
      ],
      "text/plain": [
       "                                           english_tokens  \\\n",
       "152381                          it seems you were right .   \n",
       "494486  if there are no dogs in heaven , then when i d...   \n",
       "47240                                i 'll wash the dog .   \n",
       "43221                                 do you have a car ?   \n",
       "213091                     i 'm glad you 're here today .   \n",
       "\n",
       "                                           russian_tokens  \n",
       "152381                           похоже , ты была права .  \n",
       "494486  если в раю нет собак , то после смерти я хочу ...  \n",
       "47240                                  я искупаю собаку .  \n",
       "43221                                 у вас машина есть ?  \n",
       "213091                    я рада , что вы сегодня здесь .  "
      ]
     },
     "execution_count": 22,
     "metadata": {},
     "output_type": "execute_result"
    }
   ],
   "source": [
    "data = pd.read_csv('df_ready.csv')\n",
    "data = data.sample(frac = 1, random_state = 42)\n",
    "data = data[:100]\n",
    "data.head()"
   ]
  },
  {
   "cell_type": "markdown",
   "metadata": {},
   "source": [
    "### Загрузка модели Helsinki"
   ]
  },
  {
   "cell_type": "code",
   "execution_count": 23,
   "metadata": {},
   "outputs": [
    {
     "name": "stderr",
     "output_type": "stream",
     "text": [
      "c:\\Users\\oudel\\anaconda3\\envs\\newenv\\lib\\site-packages\\transformers\\models\\marian\\tokenization_marian.py:197: UserWarning: Recommended: pip install sacremoses.\n",
      "  warnings.warn(\"Recommended: pip install sacremoses.\")\n"
     ]
    }
   ],
   "source": [
    "model_name = 'Helsinki-NLP/opus-mt-en-ru'\n",
    "model = MarianMTModel.from_pretrained(model_name)\n",
    "tokenizer = MarianTokenizer.from_pretrained(model_name)\n",
    "\n",
    "def translate_text(text, model, tokenizer):\n",
    "    inputs = tokenizer(text, return_tensors='pt', padding=True)\n",
    "    outputs = model.generate(**inputs)\n",
    "    translated_text = tokenizer.batch_decode(outputs, skip_special_tokens=True)[0]\n",
    "    return translated_text"
   ]
  },
  {
   "cell_type": "markdown",
   "metadata": {},
   "source": [
    "### Проверка"
   ]
  },
  {
   "cell_type": "code",
   "execution_count": 24,
   "metadata": {},
   "outputs": [
    {
     "name": "stdout",
     "output_type": "stream",
     "text": [
      "Привет, как дела?\n"
     ]
    }
   ],
   "source": [
    "english_text = \"Hello, how are you?\"\n",
    "translated_text = translate_text(english_text, model, tokenizer)\n",
    "print(translated_text)"
   ]
  },
  {
   "cell_type": "markdown",
   "metadata": {},
   "source": [
    "# Перевод"
   ]
  },
  {
   "cell_type": "code",
   "execution_count": 25,
   "metadata": {},
   "outputs": [],
   "source": [
    "data['translated_text'] = data['english_tokens'].map(lambda x: translate_text(x, model, tokenizer))"
   ]
  },
  {
   "cell_type": "code",
   "execution_count": 26,
   "metadata": {},
   "outputs": [
    {
     "data": {
      "text/html": [
       "<div>\n",
       "<style scoped>\n",
       "    .dataframe tbody tr th:only-of-type {\n",
       "        vertical-align: middle;\n",
       "    }\n",
       "\n",
       "    .dataframe tbody tr th {\n",
       "        vertical-align: top;\n",
       "    }\n",
       "\n",
       "    .dataframe thead th {\n",
       "        text-align: right;\n",
       "    }\n",
       "</style>\n",
       "<table border=\"1\" class=\"dataframe\">\n",
       "  <thead>\n",
       "    <tr style=\"text-align: right;\">\n",
       "      <th></th>\n",
       "      <th>english_tokens</th>\n",
       "      <th>russian_tokens</th>\n",
       "      <th>translated_text</th>\n",
       "    </tr>\n",
       "  </thead>\n",
       "  <tbody>\n",
       "    <tr>\n",
       "      <th>152381</th>\n",
       "      <td>it seems you were right .</td>\n",
       "      <td>похоже , ты была права .</td>\n",
       "      <td>Похоже, ты был прав.</td>\n",
       "    </tr>\n",
       "    <tr>\n",
       "      <th>494486</th>\n",
       "      <td>if there are no dogs in heaven , then when i d...</td>\n",
       "      <td>если в раю нет собак , то после смерти я хочу ...</td>\n",
       "      <td>Если на небесах нет собак, тогда, когда я умру...</td>\n",
       "    </tr>\n",
       "    <tr>\n",
       "      <th>47240</th>\n",
       "      <td>i 'll wash the dog .</td>\n",
       "      <td>я искупаю собаку .</td>\n",
       "      <td>Я помою собаку.</td>\n",
       "    </tr>\n",
       "    <tr>\n",
       "      <th>43221</th>\n",
       "      <td>do you have a car ?</td>\n",
       "      <td>у вас машина есть ?</td>\n",
       "      <td>У тебя есть машина?</td>\n",
       "    </tr>\n",
       "    <tr>\n",
       "      <th>213091</th>\n",
       "      <td>i 'm glad you 're here today .</td>\n",
       "      <td>я рада , что вы сегодня здесь .</td>\n",
       "      <td>Я рад, что ты сегодня здесь.</td>\n",
       "    </tr>\n",
       "  </tbody>\n",
       "</table>\n",
       "</div>"
      ],
      "text/plain": [
       "                                           english_tokens  \\\n",
       "152381                          it seems you were right .   \n",
       "494486  if there are no dogs in heaven , then when i d...   \n",
       "47240                                i 'll wash the dog .   \n",
       "43221                                 do you have a car ?   \n",
       "213091                     i 'm glad you 're here today .   \n",
       "\n",
       "                                           russian_tokens  \\\n",
       "152381                           похоже , ты была права .   \n",
       "494486  если в раю нет собак , то после смерти я хочу ...   \n",
       "47240                                  я искупаю собаку .   \n",
       "43221                                 у вас машина есть ?   \n",
       "213091                    я рада , что вы сегодня здесь .   \n",
       "\n",
       "                                          translated_text  \n",
       "152381                               Похоже, ты был прав.  \n",
       "494486  Если на небесах нет собак, тогда, когда я умру...  \n",
       "47240                                     Я помою собаку.  \n",
       "43221                                 У тебя есть машина?  \n",
       "213091                       Я рад, что ты сегодня здесь.  "
      ]
     },
     "execution_count": 26,
     "metadata": {},
     "output_type": "execute_result"
    }
   ],
   "source": [
    "data.head()"
   ]
  }
 ],
 "metadata": {
  "kernelspec": {
   "display_name": "newenv",
   "language": "python",
   "name": "python3"
  },
  "language_info": {
   "codemirror_mode": {
    "name": "ipython",
    "version": 3
   },
   "file_extension": ".py",
   "mimetype": "text/x-python",
   "name": "python",
   "nbconvert_exporter": "python",
   "pygments_lexer": "ipython3",
   "version": "3.10.13"
  }
 },
 "nbformat": 4,
 "nbformat_minor": 2
}
