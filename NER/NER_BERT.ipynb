{
 "cells": [
  {
   "cell_type": "markdown",
   "metadata": {},
   "source": [
    "# Контекст\n",
    "\n",
    "- NER - классификация именнованных токенов\n",
    "- bert модель\n",
    "- conll2003 - dataset "
   ]
  },
  {
   "cell_type": "code",
   "execution_count": 72,
   "metadata": {},
   "outputs": [],
   "source": [
    "import numpy as np\n",
    "import pandas as pd\n",
    "import datasets\n",
    "from transformers import BertTokenizerFast,\\\n",
    "                         AutoModelForTokenClassification,\\\n",
    "                         TrainingArguments,\\\n",
    "                         Trainer,\\\n",
    "                         DataCollatorForTokenClassification,\\\n",
    "                         pipeline\n",
    "from sklearn.metrics import precision_recall_fscore_support,\\\n",
    "                            accuracy_score"
   ]
  },
  {
   "cell_type": "markdown",
   "metadata": {},
   "source": [
    "# Чтение файла"
   ]
  },
  {
   "cell_type": "code",
   "execution_count": 50,
   "metadata": {},
   "outputs": [],
   "source": [
    "conll2003 = datasets.load_dataset('conll2003')"
   ]
  },
  {
   "cell_type": "code",
   "execution_count": 51,
   "metadata": {},
   "outputs": [
    {
     "data": {
      "text/plain": [
       "{'id': ['0', '1'],\n",
       " 'tokens': [['EU',\n",
       "   'rejects',\n",
       "   'German',\n",
       "   'call',\n",
       "   'to',\n",
       "   'boycott',\n",
       "   'British',\n",
       "   'lamb',\n",
       "   '.'],\n",
       "  ['Peter', 'Blackburn']],\n",
       " 'pos_tags': [[22, 42, 16, 21, 35, 37, 16, 21, 7], [22, 22]],\n",
       " 'chunk_tags': [[11, 21, 11, 12, 21, 22, 11, 12, 0], [11, 12]],\n",
       " 'ner_tags': [[3, 0, 7, 0, 0, 0, 7, 0, 0], [1, 2]]}"
      ]
     },
     "execution_count": 51,
     "metadata": {},
     "output_type": "execute_result"
    }
   ],
   "source": [
    "conll2003['train'][0:2]"
   ]
  },
  {
   "cell_type": "code",
   "execution_count": 52,
   "metadata": {},
   "outputs": [
    {
     "data": {
      "text/plain": [
       "Sequence(feature=ClassLabel(names=['O', 'B-PER', 'I-PER', 'B-ORG', 'I-ORG', 'B-LOC', 'I-LOC', 'B-MISC', 'I-MISC'], id=None), length=-1, id=None)"
      ]
     },
     "execution_count": 52,
     "metadata": {},
     "output_type": "execute_result"
    }
   ],
   "source": [
    "conll2003['train'].features['ner_tags']"
   ]
  },
  {
   "cell_type": "markdown",
   "metadata": {},
   "source": [
    "# Токенизация и выравнивание"
   ]
  },
  {
   "cell_type": "code",
   "execution_count": 53,
   "metadata": {},
   "outputs": [],
   "source": [
    "tokenizer = BertTokenizerFast.from_pretrained('bert-base-uncased')"
   ]
  },
  {
   "cell_type": "code",
   "execution_count": 54,
   "metadata": {},
   "outputs": [
    {
     "name": "stdout",
     "output_type": "stream",
     "text": [
      "[['EU', 'rejects', 'German', 'call', 'to', 'boycott', 'British', 'lamb', '.'], ['Peter', 'Blackburn']]\n"
     ]
    },
    {
     "data": {
      "text/plain": [
       "[[-100, 3, 0, 7, 0, 0, 0, 7, 0, 0, -100], [-100, 1, 2, -100]]"
      ]
     },
     "execution_count": 54,
     "metadata": {},
     "output_type": "execute_result"
    }
   ],
   "source": [
    "def tokenization_align_labels(\n",
    "        \n",
    "        examples,  # dict {'tokens': ...., 'ner_tags: .... и др'}\n",
    "        label_all_tokens=False\n",
    "\n",
    "        ):\n",
    "    tokenized_inputs = tokenizer(examples[\"tokens\"], truncation=True, is_split_into_words=True)\n",
    "    labels = []\n",
    "    for i, label in enumerate(examples[\"ner_tags\"]): \n",
    "        word_ids = tokenized_inputs.word_ids(batch_index=i) # [None 1 2 3 4 5 6 None]\n",
    "        previous_word_idx = None\n",
    "        label_ids = []\n",
    "        for word_idx in word_ids:\n",
    "            if word_idx is None:\n",
    "                label_ids.append(-100)\n",
    "            elif word_idx != previous_word_idx:\n",
    "                label_ids.append(label[word_idx])\n",
    "            else:\n",
    "                label_ids.append(label[word_idx] if label_all_tokens else -100)\n",
    "            previous_word_idx = word_idx\n",
    "        labels.append(label_ids)\n",
    "    tokenized_inputs[\"labels\"] = labels\n",
    "    return tokenized_inputs\n",
    "\n",
    "# Пример использования функции\n",
    "print(conll2003['train'][0:2]['tokens'])\n",
    "tokenization_align_labels(conll2003['train'][0:2], True)['labels'] # на выходе нормализованные индексы токенов"
   ]
  },
  {
   "cell_type": "code",
   "execution_count": 65,
   "metadata": {},
   "outputs": [],
   "source": [
    "tokenized_datasets = conll2003.map(tokenization_align_labels, batched = True)"
   ]
  },
  {
   "cell_type": "markdown",
   "metadata": {},
   "source": [
    "# Скачивание модели"
   ]
  },
  {
   "cell_type": "code",
   "execution_count": 56,
   "metadata": {},
   "outputs": [
    {
     "name": "stderr",
     "output_type": "stream",
     "text": [
      "Some weights of BertForTokenClassification were not initialized from the model checkpoint at bert-base-uncased and are newly initialized: ['classifier.bias', 'classifier.weight']\n",
      "You should probably TRAIN this model on a down-stream task to be able to use it for predictions and inference.\n"
     ]
    }
   ],
   "source": [
    "model = AutoModelForTokenClassification.from_pretrained(\n",
    "    'bert-base-uncased',\n",
    "    num_labels = 9 # кол-во имен собственных в данных\n",
    ")"
   ]
  },
  {
   "cell_type": "markdown",
   "metadata": {},
   "source": [
    "# Training args"
   ]
  },
  {
   "cell_type": "code",
   "execution_count": 57,
   "metadata": {},
   "outputs": [],
   "source": [
    "training_args = TrainingArguments(\n",
    "\n",
    "        output_dir='training/model_points',\n",
    "        do_train=True,\n",
    "        do_eval=True,\n",
    "        num_train_epochs=3,\n",
    "        per_device_train_batch_size=32,\n",
    "        per_device_eval_batch_size=64,\n",
    "        warmup_steps=100,\n",
    "        weight_decay=0.01,\n",
    "        logging_strategy='steps',\n",
    "        logging_dir='training/logs',\n",
    "        logging_steps=50,\n",
    "        evaluation_strategy=\"steps\",\n",
    "        save_steps = 500,\n",
    "        fp16=True,\n",
    "        load_best_model_at_end=True,\n",
    "        report_to = 'wandb',\n",
    "        learning_rate = 0.00002\n",
    "\n",
    ")"
   ]
  },
  {
   "cell_type": "code",
   "execution_count": 58,
   "metadata": {},
   "outputs": [],
   "source": [
    "data_collator = DataCollatorForTokenClassification(tokenizer)"
   ]
  },
  {
   "cell_type": "markdown",
   "metadata": {},
   "source": [
    "# Метрики"
   ]
  },
  {
   "cell_type": "code",
   "execution_count": 69,
   "metadata": {},
   "outputs": [
    {
     "name": "stderr",
     "output_type": "stream",
     "text": [
      "c:\\Users\\oudel\\anaconda3\\envs\\newenv\\lib\\site-packages\\datasets\\load.py:759: FutureWarning: The repository for seqeval contains custom code which must be executed to correctly load the metric. You can inspect the repository content at https://raw.githubusercontent.com/huggingface/datasets/2.19.0/metrics/seqeval/seqeval.py\n",
      "You can avoid this message in future by passing the argument `trust_remote_code=True`.\n",
      "Passing `trust_remote_code=True` will be mandatory to load this metric from the next major release of `datasets`.\n",
      "  warnings.warn(\n"
     ]
    },
    {
     "data": {
      "text/plain": [
       "['O', 'B-PER', 'I-PER', 'B-ORG', 'I-ORG', 'B-LOC', 'I-LOC', 'B-MISC', 'I-MISC']"
      ]
     },
     "execution_count": 69,
     "metadata": {},
     "output_type": "execute_result"
    }
   ],
   "source": [
    "metric = datasets.load_metric('seqeval')\n",
    "label_list = conll2003[\"train\"].features[\"ner_tags\"].feature.names \n",
    "label_list"
   ]
  },
  {
   "cell_type": "code",
   "execution_count": 70,
   "metadata": {},
   "outputs": [],
   "source": [
    "def compute_metrics(p):\n",
    "    predictions, labels = p \n",
    "    predictions = np.argmax(predictions, axis=2) \n",
    "\n",
    "    true_predictions = [ \n",
    "        [label_list[p] for (p, l) in zip(prediction, label) if l != -100] \n",
    "        for prediction, label in zip(predictions, labels) \n",
    "                        ] \n",
    "    \n",
    "    true_labels = [ \n",
    "      [label_list[l] for (p, l) in zip(prediction, label) if l != -100] \n",
    "       for prediction, label in zip(predictions, labels) \n",
    "                  ] \n",
    "    \n",
    "    results = metric.compute(predictions=true_predictions, references=true_labels)\n",
    "\n",
    "\n",
    "    return { \n",
    "                \"precision\": results[\"overall_precision\"], \n",
    "                \"recall\": results[\"overall_recall\"], \n",
    "                \"f1\": results[\"overall_f1\"], \n",
    "                \"accuracy\": results[\"overall_accuracy\"], \n",
    "           } "
   ]
  },
  {
   "cell_type": "markdown",
   "metadata": {},
   "source": [
    "# Trainer"
   ]
  },
  {
   "cell_type": "code",
   "execution_count": 71,
   "metadata": {},
   "outputs": [
    {
     "name": "stderr",
     "output_type": "stream",
     "text": [
      "c:\\Users\\oudel\\anaconda3\\envs\\newenv\\lib\\site-packages\\accelerate\\accelerator.py:436: FutureWarning: Passing the following arguments to `Accelerator` is deprecated and will be removed in version 1.0 of Accelerate: dict_keys(['dispatch_batches', 'split_batches', 'even_batches', 'use_seedable_sampler']). Please pass an `accelerate.DataLoaderConfiguration` instead: \n",
      "dataloader_config = DataLoaderConfiguration(dispatch_batches=None, split_batches=False, even_batches=True, use_seedable_sampler=True)\n",
      "  warnings.warn(\n"
     ]
    },
    {
     "data": {
      "application/vnd.jupyter.widget-view+json": {
       "model_id": "cfee680de36e4e5ea1a8f31a628bc105",
       "version_major": 2,
       "version_minor": 0
      },
      "text/plain": [
       "  0%|          | 0/1317 [00:00<?, ?it/s]"
      ]
     },
     "metadata": {},
     "output_type": "display_data"
    },
    {
     "name": "stdout",
     "output_type": "stream",
     "text": [
      "{'loss': 0.1273, 'grad_norm': 1.7592236995697021, 'learning_rate': 1e-05, 'epoch': 0.11}\n"
     ]
    },
    {
     "data": {
      "application/vnd.jupyter.widget-view+json": {
       "model_id": "93ea08e667984c539e4d6b4eb505d9de",
       "version_major": 2,
       "version_minor": 0
      },
      "text/plain": [
       "  0%|          | 0/51 [00:00<?, ?it/s]"
      ]
     },
     "metadata": {},
     "output_type": "display_data"
    },
    {
     "name": "stdout",
     "output_type": "stream",
     "text": [
      "{'eval_loss': 0.11439711600542068, 'eval_precision': 0.8167369445345443, 'eval_recall': 0.8475260854930999, 'eval_f1': 0.8318467129170796, 'eval_accuracy': 0.9708734083563724, 'eval_runtime': 2.9826, 'eval_samples_per_second': 1089.636, 'eval_steps_per_second': 17.099, 'epoch': 0.11}\n",
      "{'loss': 0.083, 'grad_norm': 1.4185106754302979, 'learning_rate': 2e-05, 'epoch': 0.23}\n"
     ]
    },
    {
     "data": {
      "application/vnd.jupyter.widget-view+json": {
       "model_id": "e8015f3895a94c04bd6af2c9a3ac4f5f",
       "version_major": 2,
       "version_minor": 0
      },
      "text/plain": [
       "  0%|          | 0/51 [00:00<?, ?it/s]"
      ]
     },
     "metadata": {},
     "output_type": "display_data"
    },
    {
     "name": "stdout",
     "output_type": "stream",
     "text": [
      "{'eval_loss': 0.08942238986492157, 'eval_precision': 0.8516528252727569, 'eval_recall': 0.8801750252440256, 'eval_f1': 0.8656790532152611, 'eval_accuracy': 0.9769479381644017, 'eval_runtime': 2.9965, 'eval_samples_per_second': 1084.584, 'eval_steps_per_second': 17.02, 'epoch': 0.23}\n",
      "{'loss': 0.0982, 'grad_norm': 2.1030335426330566, 'learning_rate': 1.9178307313064914e-05, 'epoch': 0.34}\n"
     ]
    },
    {
     "data": {
      "application/vnd.jupyter.widget-view+json": {
       "model_id": "d5d5e4c893284c9b887bede75f6ea340",
       "version_major": 2,
       "version_minor": 0
      },
      "text/plain": [
       "  0%|          | 0/51 [00:00<?, ?it/s]"
      ]
     },
     "metadata": {},
     "output_type": "display_data"
    },
    {
     "name": "stdout",
     "output_type": "stream",
     "text": [
      "{'eval_loss': 0.07006510347127914, 'eval_precision': 0.8789611238157465, 'eval_recall': 0.905587344328509, 'eval_f1': 0.8920755968169762, 'eval_accuracy': 0.9803940656516491, 'eval_runtime': 2.9762, 'eval_samples_per_second': 1091.982, 'eval_steps_per_second': 17.136, 'epoch': 0.34}\n",
      "{'loss': 0.0788, 'grad_norm': 1.5318435430526733, 'learning_rate': 1.835661462612983e-05, 'epoch': 0.46}\n"
     ]
    },
    {
     "data": {
      "application/vnd.jupyter.widget-view+json": {
       "model_id": "c6ab881858bc46bc9313340d9631ccb4",
       "version_major": 2,
       "version_minor": 0
      },
      "text/plain": [
       "  0%|          | 0/51 [00:00<?, ?it/s]"
      ]
     },
     "metadata": {},
     "output_type": "display_data"
    },
    {
     "name": "stdout",
     "output_type": "stream",
     "text": [
      "{'eval_loss': 0.06393799930810928, 'eval_precision': 0.8849730788056779, 'eval_recall': 0.9128239649949512, 'eval_f1': 0.8986827934719577, 'eval_accuracy': 0.9814259569331413, 'eval_runtime': 2.9759, 'eval_samples_per_second': 1092.091, 'eval_steps_per_second': 17.137, 'epoch': 0.46}\n",
      "{'loss': 0.08, 'grad_norm': 1.9071953296661377, 'learning_rate': 1.753492193919474e-05, 'epoch': 0.57}\n"
     ]
    },
    {
     "data": {
      "application/vnd.jupyter.widget-view+json": {
       "model_id": "f2c2f8c36d434b8cb14ceb6e4fc2ee02",
       "version_major": 2,
       "version_minor": 0
      },
      "text/plain": [
       "  0%|          | 0/51 [00:00<?, ?it/s]"
      ]
     },
     "metadata": {},
     "output_type": "display_data"
    },
    {
     "name": "stdout",
     "output_type": "stream",
     "text": [
      "{'eval_loss': 0.05609885975718498, 'eval_precision': 0.9065435965056865, 'eval_recall': 0.9256142712891282, 'eval_f1': 0.9159796819052377, 'eval_accuracy': 0.9842685253689498, 'eval_runtime': 2.9818, 'eval_samples_per_second': 1089.95, 'eval_steps_per_second': 17.104, 'epoch': 0.57}\n",
      "{'loss': 0.0683, 'grad_norm': 1.886765718460083, 'learning_rate': 1.6713229252259656e-05, 'epoch': 0.68}\n"
     ]
    },
    {
     "data": {
      "application/vnd.jupyter.widget-view+json": {
       "model_id": "8fb621d1b3394839b87a86348cd5a175",
       "version_major": 2,
       "version_minor": 0
      },
      "text/plain": [
       "  0%|          | 0/51 [00:00<?, ?it/s]"
      ]
     },
     "metadata": {},
     "output_type": "display_data"
    },
    {
     "name": "stdout",
     "output_type": "stream",
     "text": [
      "{'eval_loss': 0.054820895195007324, 'eval_precision': 0.90753255315642, 'eval_recall': 0.9266240323123528, 'eval_f1': 0.9169789324673162, 'eval_accuracy': 0.9838207234920758, 'eval_runtime': 2.9997, 'eval_samples_per_second': 1083.436, 'eval_steps_per_second': 17.002, 'epoch': 0.68}\n",
      "{'loss': 0.067, 'grad_norm': 1.2380889654159546, 'learning_rate': 1.5891536565324572e-05, 'epoch': 0.8}\n"
     ]
    },
    {
     "data": {
      "application/vnd.jupyter.widget-view+json": {
       "model_id": "00cf5fd098974ff183a72a8b7fb7da05",
       "version_major": 2,
       "version_minor": 0
      },
      "text/plain": [
       "  0%|          | 0/51 [00:00<?, ?it/s]"
      ]
     },
     "metadata": {},
     "output_type": "display_data"
    },
    {
     "name": "stdout",
     "output_type": "stream",
     "text": [
      "{'eval_loss': 0.05572396144270897, 'eval_precision': 0.9067629678266579, 'eval_recall': 0.9296533153820262, 'eval_f1': 0.9180654811367791, 'eval_accuracy': 0.9841906467816673, 'eval_runtime': 3.0093, 'eval_samples_per_second': 1079.974, 'eval_steps_per_second': 16.947, 'epoch': 0.8}\n",
      "{'loss': 0.0656, 'grad_norm': 1.930906057357788, 'learning_rate': 1.5069843878389482e-05, 'epoch': 0.91}\n"
     ]
    },
    {
     "data": {
      "application/vnd.jupyter.widget-view+json": {
       "model_id": "e39ccf00377e407484790398cebf8d2c",
       "version_major": 2,
       "version_minor": 0
      },
      "text/plain": [
       "  0%|          | 0/51 [00:00<?, ?it/s]"
      ]
     },
     "metadata": {},
     "output_type": "display_data"
    },
    {
     "name": "stdout",
     "output_type": "stream",
     "text": [
      "{'eval_loss': 0.051449473947286606, 'eval_precision': 0.9083632799738648, 'eval_recall': 0.935880175025244, 'eval_f1': 0.9219164456233423, 'eval_accuracy': 0.9856898095868541, 'eval_runtime': 3.0338, 'eval_samples_per_second': 1071.278, 'eval_steps_per_second': 16.811, 'epoch': 0.91}\n",
      "{'loss': 0.0542, 'grad_norm': 1.703126311302185, 'learning_rate': 1.4248151191454397e-05, 'epoch': 1.03}\n"
     ]
    },
    {
     "data": {
      "application/vnd.jupyter.widget-view+json": {
       "model_id": "330408ed6d604aa4b6551d8fa6310dc6",
       "version_major": 2,
       "version_minor": 0
      },
      "text/plain": [
       "  0%|          | 0/51 [00:00<?, ?it/s]"
      ]
     },
     "metadata": {},
     "output_type": "display_data"
    },
    {
     "name": "stdout",
     "output_type": "stream",
     "text": [
      "{'eval_loss': 0.05002352595329285, 'eval_precision': 0.9219917012448133, 'eval_recall': 0.9348704140020195, 'eval_f1': 0.9283863959221191, 'eval_accuracy': 0.9862154900510105, 'eval_runtime': 2.987, 'eval_samples_per_second': 1088.031, 'eval_steps_per_second': 17.074, 'epoch': 1.03}\n",
      "{'loss': 0.0358, 'grad_norm': 1.490326166152954, 'learning_rate': 1.3426458504519311e-05, 'epoch': 1.14}\n"
     ]
    },
    {
     "data": {
      "application/vnd.jupyter.widget-view+json": {
       "model_id": "8db0a7c7055043d1be177b0d944c7f13",
       "version_major": 2,
       "version_minor": 0
      },
      "text/plain": [
       "  0%|          | 0/51 [00:00<?, ?it/s]"
      ]
     },
     "metadata": {},
     "output_type": "display_data"
    },
    {
     "name": "stdout",
     "output_type": "stream",
     "text": [
      "{'eval_loss': 0.05245550721883774, 'eval_precision': 0.9175223583968202, 'eval_recall': 0.9323460114439582, 'eval_f1': 0.9248747913188649, 'eval_accuracy': 0.9860792025232662, 'eval_runtime': 2.9815, 'eval_samples_per_second': 1090.073, 'eval_steps_per_second': 17.106, 'epoch': 1.14}\n",
      "{'loss': 0.0431, 'grad_norm': 1.1926366090774536, 'learning_rate': 1.2604765817584223e-05, 'epoch': 1.25}\n"
     ]
    },
    {
     "data": {
      "application/vnd.jupyter.widget-view+json": {
       "model_id": "070c749c149543808aa27fe636ca96dc",
       "version_major": 2,
       "version_minor": 0
      },
      "text/plain": [
       "  0%|          | 0/51 [00:00<?, ?it/s]"
      ]
     },
     "metadata": {},
     "output_type": "display_data"
    },
    {
     "name": "stdout",
     "output_type": "stream",
     "text": [
      "{'eval_loss': 0.04916873946785927, 'eval_precision': 0.9272273105745212, 'eval_recall': 0.9370582295523393, 'eval_f1': 0.932116849418264, 'eval_accuracy': 0.9867995794556287, 'eval_runtime': 3.1028, 'eval_samples_per_second': 1047.437, 'eval_steps_per_second': 16.437, 'epoch': 1.25}\n",
      "{'loss': 0.0379, 'grad_norm': 2.537076234817505, 'learning_rate': 1.1783073130649139e-05, 'epoch': 1.37}\n"
     ]
    },
    {
     "data": {
      "application/vnd.jupyter.widget-view+json": {
       "model_id": "ee7cca1c7e0a4dbd828054ce718ebce0",
       "version_major": 2,
       "version_minor": 0
      },
      "text/plain": [
       "  0%|          | 0/51 [00:00<?, ?it/s]"
      ]
     },
     "metadata": {},
     "output_type": "display_data"
    },
    {
     "name": "stdout",
     "output_type": "stream",
     "text": [
      "{'eval_loss': 0.0478006973862648, 'eval_precision': 0.9202433810228581, 'eval_recall': 0.9417704476607203, 'eval_f1': 0.9308824752557597, 'eval_accuracy': 0.9871110938047584, 'eval_runtime': 3.009, 'eval_samples_per_second': 1080.096, 'eval_steps_per_second': 16.949, 'epoch': 1.37}\n",
      "{'loss': 0.0386, 'grad_norm': 0.8048515319824219, 'learning_rate': 1.0961380443714052e-05, 'epoch': 1.48}\n"
     ]
    },
    {
     "data": {
      "application/vnd.jupyter.widget-view+json": {
       "model_id": "e866b96b746e4769959e28b6a3e24a38",
       "version_major": 2,
       "version_minor": 0
      },
      "text/plain": [
       "  0%|          | 0/51 [00:00<?, ?it/s]"
      ]
     },
     "metadata": {},
     "output_type": "display_data"
    },
    {
     "name": "stdout",
     "output_type": "stream",
     "text": [
      "{'eval_loss': 0.0464089997112751, 'eval_precision': 0.927668772863319, 'eval_recall': 0.9389094580949175, 'eval_f1': 0.9332552693208431, 'eval_accuracy': 0.9868969276897317, 'eval_runtime': 2.9949, 'eval_samples_per_second': 1085.188, 'eval_steps_per_second': 17.029, 'epoch': 1.48}\n",
      "{'loss': 0.0424, 'grad_norm': 0.9645754098892212, 'learning_rate': 1.0139687756778966e-05, 'epoch': 1.59}\n"
     ]
    },
    {
     "data": {
      "application/vnd.jupyter.widget-view+json": {
       "model_id": "9022ca7e7c3449d582bf7987cc6444e0",
       "version_major": 2,
       "version_minor": 0
      },
      "text/plain": [
       "  0%|          | 0/51 [00:00<?, ?it/s]"
      ]
     },
     "metadata": {},
     "output_type": "display_data"
    },
    {
     "name": "stdout",
     "output_type": "stream",
     "text": [
      "{'eval_loss': 0.04622066393494606, 'eval_precision': 0.9256376283537595, 'eval_recall': 0.9405923931336251, 'eval_f1': 0.9330550918196995, 'eval_accuracy': 0.9869942759238347, 'eval_runtime': 2.9843, 'eval_samples_per_second': 1089.025, 'eval_steps_per_second': 17.089, 'epoch': 1.59}\n",
      "{'loss': 0.0347, 'grad_norm': 1.3958693742752075, 'learning_rate': 9.31799506984388e-06, 'epoch': 1.71}\n"
     ]
    },
    {
     "data": {
      "application/vnd.jupyter.widget-view+json": {
       "model_id": "bd305b31a47a465dbe35ed39a261de5d",
       "version_major": 2,
       "version_minor": 0
      },
      "text/plain": [
       "  0%|          | 0/51 [00:00<?, ?it/s]"
      ]
     },
     "metadata": {},
     "output_type": "display_data"
    },
    {
     "name": "stdout",
     "output_type": "stream",
     "text": [
      "{'eval_loss': 0.04604792594909668, 'eval_precision': 0.929865381419312, 'eval_recall': 0.9416021541568496, 'eval_f1': 0.9356969646291495, 'eval_accuracy': 0.9875978349752735, 'eval_runtime': 3.0024, 'eval_samples_per_second': 1082.449, 'eval_steps_per_second': 16.986, 'epoch': 1.71}\n",
      "{'loss': 0.036, 'grad_norm': 1.7382843494415283, 'learning_rate': 8.496302382908793e-06, 'epoch': 1.82}\n"
     ]
    },
    {
     "data": {
      "application/vnd.jupyter.widget-view+json": {
       "model_id": "d7ef2b0f38664552949bfa650960f515",
       "version_major": 2,
       "version_minor": 0
      },
      "text/plain": [
       "  0%|          | 0/51 [00:00<?, ?it/s]"
      ]
     },
     "metadata": {},
     "output_type": "display_data"
    },
    {
     "name": "stdout",
     "output_type": "stream",
     "text": [
      "{'eval_loss': 0.04637272655963898, 'eval_precision': 0.9260912698412699, 'eval_recall': 0.942611915180074, 'eval_f1': 0.934278565471226, 'eval_accuracy': 0.9875588956816324, 'eval_runtime': 3.2996, 'eval_samples_per_second': 984.957, 'eval_steps_per_second': 15.456, 'epoch': 1.82}\n",
      "{'loss': 0.0389, 'grad_norm': 0.9077371954917908, 'learning_rate': 7.674609695973705e-06, 'epoch': 1.94}\n"
     ]
    },
    {
     "data": {
      "application/vnd.jupyter.widget-view+json": {
       "model_id": "94c50020af2e43a895ebdc2ecf1e7602",
       "version_major": 2,
       "version_minor": 0
      },
      "text/plain": [
       "  0%|          | 0/51 [00:00<?, ?it/s]"
      ]
     },
     "metadata": {},
     "output_type": "display_data"
    },
    {
     "name": "stdout",
     "output_type": "stream",
     "text": [
      "{'eval_loss': 0.045242197811603546, 'eval_precision': 0.9276391871799108, 'eval_recall': 0.9449680242342645, 'eval_f1': 0.9362234264276781, 'eval_accuracy': 0.987675713562556, 'eval_runtime': 3.225, 'eval_samples_per_second': 1007.746, 'eval_steps_per_second': 15.814, 'epoch': 1.94}\n",
      "{'loss': 0.0291, 'grad_norm': 0.41188639402389526, 'learning_rate': 6.85291700903862e-06, 'epoch': 2.05}\n"
     ]
    },
    {
     "data": {
      "application/vnd.jupyter.widget-view+json": {
       "model_id": "689bd220c4e145c299e0155fac7224ee",
       "version_major": 2,
       "version_minor": 0
      },
      "text/plain": [
       "  0%|          | 0/51 [00:00<?, ?it/s]"
      ]
     },
     "metadata": {},
     "output_type": "display_data"
    },
    {
     "name": "stdout",
     "output_type": "stream",
     "text": [
      "{'eval_loss': 0.04656890779733658, 'eval_precision': 0.9285242654341367, 'eval_recall': 0.946650959272972, 'eval_f1': 0.9375, 'eval_accuracy': 0.987675713562556, 'eval_runtime': 3.0822, 'eval_samples_per_second': 1054.43, 'eval_steps_per_second': 16.546, 'epoch': 2.05}\n",
      "{'loss': 0.0237, 'grad_norm': 2.099060297012329, 'learning_rate': 6.0312243221035336e-06, 'epoch': 2.16}\n"
     ]
    },
    {
     "data": {
      "application/vnd.jupyter.widget-view+json": {
       "model_id": "585fce39bf0041e7ae3035e07823565c",
       "version_major": 2,
       "version_minor": 0
      },
      "text/plain": [
       "  0%|          | 0/51 [00:00<?, ?it/s]"
      ]
     },
     "metadata": {},
     "output_type": "display_data"
    },
    {
     "name": "stdout",
     "output_type": "stream",
     "text": [
      "{'eval_loss': 0.04782210290431976, 'eval_precision': 0.929316338354577, 'eval_recall': 0.9447997307303938, 'eval_f1': 0.9369940749394976, 'eval_accuracy': 0.9879093493244032, 'eval_runtime': 3.0203, 'eval_samples_per_second': 1076.063, 'eval_steps_per_second': 16.886, 'epoch': 2.16}\n",
      "{'loss': 0.0257, 'grad_norm': 1.496081829071045, 'learning_rate': 5.209531635168448e-06, 'epoch': 2.28}\n"
     ]
    },
    {
     "data": {
      "application/vnd.jupyter.widget-view+json": {
       "model_id": "b4b67f7f8d554df4b883c0df760e32bb",
       "version_major": 2,
       "version_minor": 0
      },
      "text/plain": [
       "  0%|          | 0/51 [00:00<?, ?it/s]"
      ]
     },
     "metadata": {},
     "output_type": "display_data"
    },
    {
     "name": "stdout",
     "output_type": "stream",
     "text": [
      "{'eval_loss': 0.046769093722105026, 'eval_precision': 0.93082384018491, 'eval_recall': 0.9488387748232918, 'eval_f1': 0.939744978748229, 'eval_accuracy': 0.9880066975585063, 'eval_runtime': 3.0429, 'eval_samples_per_second': 1068.075, 'eval_steps_per_second': 16.761, 'epoch': 2.28}\n",
      "{'loss': 0.0236, 'grad_norm': 1.307188630104065, 'learning_rate': 4.387838948233361e-06, 'epoch': 2.39}\n"
     ]
    },
    {
     "data": {
      "application/vnd.jupyter.widget-view+json": {
       "model_id": "322d4f4535fd48d4ad954596cbe384bd",
       "version_major": 2,
       "version_minor": 0
      },
      "text/plain": [
       "  0%|          | 0/51 [00:00<?, ?it/s]"
      ]
     },
     "metadata": {},
     "output_type": "display_data"
    },
    {
     "name": "stdout",
     "output_type": "stream",
     "text": [
      "{'eval_loss': 0.0468832291662693, 'eval_precision': 0.9318859794497846, 'eval_recall': 0.9463143722652305, 'eval_f1': 0.9390447561790247, 'eval_accuracy': 0.9881235154394299, 'eval_runtime': 3.1468, 'eval_samples_per_second': 1032.804, 'eval_steps_per_second': 16.207, 'epoch': 2.39}\n",
      "{'loss': 0.0229, 'grad_norm': 0.8871119022369385, 'learning_rate': 3.566146261298275e-06, 'epoch': 2.51}\n"
     ]
    },
    {
     "data": {
      "application/vnd.jupyter.widget-view+json": {
       "model_id": "7ac24a8257c84e068fcf8aadc8fbc58e",
       "version_major": 2,
       "version_minor": 0
      },
      "text/plain": [
       "  0%|          | 0/51 [00:00<?, ?it/s]"
      ]
     },
     "metadata": {},
     "output_type": "display_data"
    },
    {
     "name": "stdout",
     "output_type": "stream",
     "text": [
      "{'eval_loss': 0.04612216353416443, 'eval_precision': 0.9355322338830585, 'eval_recall': 0.9451363177381353, 'eval_f1': 0.9403097530347426, 'eval_accuracy': 0.9885323780226627, 'eval_runtime': 3.0333, 'eval_samples_per_second': 1071.439, 'eval_steps_per_second': 16.813, 'epoch': 2.51}\n",
      "{'loss': 0.0224, 'grad_norm': 0.594257116317749, 'learning_rate': 2.7444535743631883e-06, 'epoch': 2.62}\n"
     ]
    },
    {
     "data": {
      "application/vnd.jupyter.widget-view+json": {
       "model_id": "230abca28aa34aa0a81be16c6363df0a",
       "version_major": 2,
       "version_minor": 0
      },
      "text/plain": [
       "  0%|          | 0/51 [00:00<?, ?it/s]"
      ]
     },
     "metadata": {},
     "output_type": "display_data"
    },
    {
     "name": "stdout",
     "output_type": "stream",
     "text": [
      "{'eval_loss': 0.045229483395814896, 'eval_precision': 0.9325600662800332, 'eval_recall': 0.9471558397845843, 'eval_f1': 0.939801285797779, 'eval_accuracy': 0.9882598029671742, 'eval_runtime': 3.0877, 'eval_samples_per_second': 1052.558, 'eval_steps_per_second': 16.517, 'epoch': 2.62}\n",
      "{'loss': 0.0188, 'grad_norm': 0.45527184009552, 'learning_rate': 1.922760887428102e-06, 'epoch': 2.73}\n"
     ]
    },
    {
     "data": {
      "application/vnd.jupyter.widget-view+json": {
       "model_id": "a5799759c0aa4c9c9187f501e4e499f5",
       "version_major": 2,
       "version_minor": 0
      },
      "text/plain": [
       "  0%|          | 0/51 [00:00<?, ?it/s]"
      ]
     },
     "metadata": {},
     "output_type": "display_data"
    },
    {
     "name": "stdout",
     "output_type": "stream",
     "text": [
      "{'eval_loss': 0.04545798897743225, 'eval_precision': 0.9330238726790451, 'eval_recall': 0.9471558397845843, 'eval_f1': 0.9400367462836143, 'eval_accuracy': 0.9882403333203535, 'eval_runtime': 3.107, 'eval_samples_per_second': 1046.011, 'eval_steps_per_second': 16.414, 'epoch': 2.73}\n",
      "{'loss': 0.0269, 'grad_norm': 1.5482826232910156, 'learning_rate': 1.1010682004930157e-06, 'epoch': 2.85}\n"
     ]
    },
    {
     "data": {
      "application/vnd.jupyter.widget-view+json": {
       "model_id": "6e62740530f4491bbe89cd63acef8f2d",
       "version_major": 2,
       "version_minor": 0
      },
      "text/plain": [
       "  0%|          | 0/51 [00:00<?, ?it/s]"
      ]
     },
     "metadata": {},
     "output_type": "display_data"
    },
    {
     "name": "stdout",
     "output_type": "stream",
     "text": [
      "{'eval_loss': 0.04520042613148689, 'eval_precision': 0.9315362989912354, 'eval_recall': 0.947997307303938, 'eval_f1': 0.9396947201601468, 'eval_accuracy': 0.9882403333203535, 'eval_runtime': 3.0305, 'eval_samples_per_second': 1072.443, 'eval_steps_per_second': 16.829, 'epoch': 2.85}\n",
      "{'loss': 0.0208, 'grad_norm': 0.2904956042766571, 'learning_rate': 2.7937551355792936e-07, 'epoch': 2.96}\n"
     ]
    },
    {
     "data": {
      "application/vnd.jupyter.widget-view+json": {
       "model_id": "ed5e738cd7ae44cfb79dae0eb268b6dc",
       "version_major": 2,
       "version_minor": 0
      },
      "text/plain": [
       "  0%|          | 0/51 [00:00<?, ?it/s]"
      ]
     },
     "metadata": {},
     "output_type": "display_data"
    },
    {
     "name": "stdout",
     "output_type": "stream",
     "text": [
      "{'eval_loss': 0.04488206282258034, 'eval_precision': 0.9347717842323652, 'eval_recall': 0.9478290138000673, 'eval_f1': 0.9412551182418317, 'eval_accuracy': 0.9885518476694832, 'eval_runtime': 3.0067, 'eval_samples_per_second': 1080.926, 'eval_steps_per_second': 16.962, 'epoch': 2.96}\n",
      "{'train_runtime': 183.21, 'train_samples_per_second': 229.917, 'train_steps_per_second': 7.188, 'train_loss': 0.04753323887095093, 'epoch': 3.0}\n"
     ]
    },
    {
     "data": {
      "text/plain": [
       "TrainOutput(global_step=1317, training_loss=0.04753323887095093, metrics={'train_runtime': 183.21, 'train_samples_per_second': 229.917, 'train_steps_per_second': 7.188, 'train_loss': 0.04753323887095093, 'epoch': 3.0})"
      ]
     },
     "execution_count": 71,
     "metadata": {},
     "output_type": "execute_result"
    }
   ],
   "source": [
    "trainer = Trainer(\n",
    "\n",
    "        model = model,\n",
    "        args = training_args,\n",
    "        train_dataset = tokenized_datasets['train'],\n",
    "        eval_dataset = tokenized_datasets['validation'],\n",
    "        compute_metrics = compute_metrics,\n",
    "        tokenizer = tokenizer,\n",
    "        data_collator = data_collator\n",
    "\n",
    " )\n",
    "\n",
    "trainer.train()"
   ]
  },
  {
   "cell_type": "markdown",
   "metadata": {},
   "source": [
    "# Проверка"
   ]
  },
  {
   "cell_type": "code",
   "execution_count": 74,
   "metadata": {},
   "outputs": [
    {
     "data": {
      "application/vnd.jupyter.widget-view+json": {
       "model_id": "7cc72e6823a14f4cb61dd6d043405583",
       "version_major": 2,
       "version_minor": 0
      },
      "text/plain": [
       "  0%|          | 0/220 [00:00<?, ?it/s]"
      ]
     },
     "metadata": {},
     "output_type": "display_data"
    },
    {
     "data": {
      "application/vnd.jupyter.widget-view+json": {
       "model_id": "2eb61c65dd2e465898897d50f410bd65",
       "version_major": 2,
       "version_minor": 0
      },
      "text/plain": [
       "  0%|          | 0/51 [00:00<?, ?it/s]"
      ]
     },
     "metadata": {},
     "output_type": "display_data"
    },
    {
     "data": {
      "application/vnd.jupyter.widget-view+json": {
       "model_id": "4805d041f14145b9b12786e00b319523",
       "version_major": 2,
       "version_minor": 0
      },
      "text/plain": [
       "  0%|          | 0/54 [00:00<?, ?it/s]"
      ]
     },
     "metadata": {},
     "output_type": "display_data"
    },
    {
     "data": {
      "text/html": [
       "<div>\n",
       "<style scoped>\n",
       "    .dataframe tbody tr th:only-of-type {\n",
       "        vertical-align: middle;\n",
       "    }\n",
       "\n",
       "    .dataframe tbody tr th {\n",
       "        vertical-align: top;\n",
       "    }\n",
       "\n",
       "    .dataframe thead th {\n",
       "        text-align: right;\n",
       "    }\n",
       "</style>\n",
       "<table border=\"1\" class=\"dataframe\">\n",
       "  <thead>\n",
       "    <tr style=\"text-align: right;\">\n",
       "      <th></th>\n",
       "      <th>eval_loss</th>\n",
       "      <th>eval_precision</th>\n",
       "      <th>eval_recall</th>\n",
       "      <th>eval_f1</th>\n",
       "      <th>eval_accuracy</th>\n",
       "    </tr>\n",
       "  </thead>\n",
       "  <tbody>\n",
       "    <tr>\n",
       "      <th>train</th>\n",
       "      <td>0.016475</td>\n",
       "      <td>0.972156</td>\n",
       "      <td>0.977659</td>\n",
       "      <td>0.974900</td>\n",
       "      <td>0.995747</td>\n",
       "    </tr>\n",
       "    <tr>\n",
       "      <th>val</th>\n",
       "      <td>0.046769</td>\n",
       "      <td>0.930824</td>\n",
       "      <td>0.948839</td>\n",
       "      <td>0.939745</td>\n",
       "      <td>0.988007</td>\n",
       "    </tr>\n",
       "    <tr>\n",
       "      <th>test</th>\n",
       "      <td>0.101807</td>\n",
       "      <td>0.885808</td>\n",
       "      <td>0.910588</td>\n",
       "      <td>0.898027</td>\n",
       "      <td>0.978723</td>\n",
       "    </tr>\n",
       "  </tbody>\n",
       "</table>\n",
       "</div>"
      ],
      "text/plain": [
       "       eval_loss  eval_precision  eval_recall   eval_f1  eval_accuracy\n",
       "train   0.016475        0.972156     0.977659  0.974900       0.995747\n",
       "val     0.046769        0.930824     0.948839  0.939745       0.988007\n",
       "test    0.101807        0.885808     0.910588  0.898027       0.978723"
      ]
     },
     "execution_count": 74,
     "metadata": {},
     "output_type": "execute_result"
    }
   ],
   "source": [
    "q=[trainer.evaluate(eval_dataset = tokenized_datasets[data]) for data in ['train', 'validation', 'test']]\n",
    "pd.DataFrame(q, index=[\"train\",\"val\", 'test']).iloc[:,:5]"
   ]
  },
  {
   "cell_type": "code",
   "execution_count": 75,
   "metadata": {},
   "outputs": [
    {
     "name": "stdout",
     "output_type": "stream",
     "text": [
      "[{'entity': 'LABEL_5', 'score': 0.99672866, 'index': 1, 'word': 'moscow', 'start': 0, 'end': 6}, {'entity': 'LABEL_0', 'score': 0.99969566, 'index': 2, 'word': 'never', 'start': 7, 'end': 12}, {'entity': 'LABEL_0', 'score': 0.9996524, 'index': 3, 'word': 'sleeps', 'start': 13, 'end': 19}, {'entity': 'LABEL_0', 'score': 0.99969065, 'index': 4, 'word': '.', 'start': 19, 'end': 20}, {'entity': 'LABEL_0', 'score': 0.9996772, 'index': 5, 'word': 'but', 'start': 21, 'end': 24}, {'entity': 'LABEL_1', 'score': 0.997707, 'index': 6, 'word': 'dim', 'start': 25, 'end': 28}, {'entity': 'LABEL_1', 'score': 0.9791077, 'index': 7, 'word': '##a', 'start': 28, 'end': 29}, {'entity': 'LABEL_0', 'score': 0.99958986, 'index': 8, 'word': 'sleeps', 'start': 30, 'end': 36}]\n"
     ]
    }
   ],
   "source": [
    "text = 'Moscow never sleeps. But Dima sleeps'\n",
    "\n",
    "from transformers import pipeline\n",
    "nlp = pipeline(\"ner\", model = model, tokenizer=tokenizer)\n",
    "\n",
    "ner_results = nlp(text)\n",
    "print(ner_results)"
   ]
  },
  {
   "cell_type": "code",
   "execution_count": 89,
   "metadata": {},
   "outputs": [
    {
     "name": "stdout",
     "output_type": "stream",
     "text": [
      "{'entity': 'LABEL_5', 'score': 0.99672866, 'index': 1, 'word': 'moscow', 'start': 0, 'end': 6}\n",
      "{'entity': 'LABEL_1', 'score': 0.997707, 'index': 6, 'word': 'dim', 'start': 25, 'end': 28}\n",
      "['O', 'B-PER', 'I-PER', 'B-ORG', 'I-ORG', 'B-LOC', 'I-LOC', 'B-MISC', 'I-MISC']\n"
     ]
    }
   ],
   "source": [
    "print(ner_results[0])\n",
    "print(ner_results[5])\n",
    "print(label_list)"
   ]
  }
 ],
 "metadata": {
  "kernelspec": {
   "display_name": "newenv",
   "language": "python",
   "name": "python3"
  },
  "language_info": {
   "codemirror_mode": {
    "name": "ipython",
    "version": 3
   },
   "file_extension": ".py",
   "mimetype": "text/x-python",
   "name": "python",
   "nbconvert_exporter": "python",
   "pygments_lexer": "ipython3",
   "version": "3.10.13"
  }
 },
 "nbformat": 4,
 "nbformat_minor": 2
}
