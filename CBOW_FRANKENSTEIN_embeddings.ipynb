{
 "cells": [
  {
   "cell_type": "code",
   "execution_count": 25,
   "metadata": {},
   "outputs": [
    {
     "name": "stdout",
     "output_type": "stream",
     "text": [
      "Куда ?:  True\n"
     ]
    },
    {
     "name": "stderr",
     "output_type": "stream",
     "text": [
      "[nltk_data] Downloading package punkt to\n",
      "[nltk_data]     C:\\Users\\oudel\\AppData\\Roaming\\nltk_data...\n",
      "[nltk_data]   Package punkt is already up-to-date!\n"
     ]
    }
   ],
   "source": [
    "# база\n",
    "import numpy as np\n",
    "import pandas as pd\n",
    "import warnings\n",
    "import json\n",
    "import string\n",
    "import time\n",
    "\n",
    "# визуализация\n",
    "import seaborn as sns\n",
    "import matplotlib.pyplot as plt\n",
    "\n",
    "# nltk\n",
    "import nltk\n",
    "from nltk.tokenize import sent_tokenize\n",
    "nltk.download('punkt')  # Загрузить необходимые ресурсы для токенизатора Punkt\n",
    "from nltk.lm import Vocabulary\n",
    "\n",
    "# sklearn\n",
    "from sklearn.model_selection import train_test_split\n",
    "\n",
    "import torch \n",
    "import torch.nn as nn\n",
    "import torch.nn.functional as F\n",
    "from torch.utils.data import Dataset, DataLoader\n",
    "\n",
    "# константы\n",
    "RANDOM_SATE = 42\n",
    "device = torch.device('cuda' if torch.cuda.is_available() else 'cpu')\n",
    "warnings.filterwarnings(\"ignore\")\n",
    "print('Куда ?: ', torch.cuda.is_available())"
   ]
  },
  {
   "cell_type": "markdown",
   "metadata": {},
   "source": [
    "# Предподготовка датасета\n",
    "\n",
    "- Разбиваем текст на предложения (nltk.sent_tokenize)"
   ]
  },
  {
   "cell_type": "markdown",
   "metadata": {},
   "source": [
    "# Разбиваем текст на предложения (каждое предложение будет в списке)"
   ]
  },
  {
   "cell_type": "code",
   "execution_count": 26,
   "metadata": {},
   "outputs": [
    {
     "data": {
      "text/plain": [
       "['Letter 1\\nTo Mrs. Saville, England.',\n",
       " 'St. Petersburgh, Dec. 11th, 17—.',\n",
       " 'You will rejoice to hear that no disaster has accompanied the commencement of an enterprise which you have regarded with such evil forebodings.',\n",
       " 'I arrived here yesterday, and my first task is to assure my dear sister of my welfare and increasing confidence in the success of my undertaking.',\n",
       " 'I am already far north of London, and as I walk in the streets of Petersburgh, I feel a cold northern breeze play upon my cheeks, which braces my nerves and fills me with delight.',\n",
       " 'Do you understand this feeling?',\n",
       " 'This breeze, which has travelled from the regions towards which I am advancing, gives me a foretaste of those icy climes.',\n",
       " 'Inspirited by this wind of promise, my daydreams become more fervent and vivid.',\n",
       " 'I try in vain to be persuaded that the pole is the seat of frost and desolation; it ever presents itself to my imagination as the region of beauty and delight.',\n",
       " 'There, Margaret, the sun is for ever visible, its broad disk just skirting the horizon and diffusing a perpetual splendour.']"
      ]
     },
     "execution_count": 26,
     "metadata": {},
     "output_type": "execute_result"
    }
   ],
   "source": [
    "with open('frank_eng.txt', 'r') as file:\n",
    "    text = file.read()\n",
    "\n",
    "список_предложений = sent_tokenize(text)\n",
    "список_предложений[:10]"
   ]
  },
  {
   "cell_type": "markdown",
   "metadata": {},
   "source": [
    "# Нижний регистр + убираем пунктуацию"
   ]
  },
  {
   "cell_type": "code",
   "execution_count": 27,
   "metadata": {},
   "outputs": [
    {
     "data": {
      "text/plain": [
       "['letter 1to mrs saville england',\n",
       " 'st petersburgh dec 11th 17',\n",
       " 'you will rejoice to hear that no disaster has accompanied the commencement of an enterprise which you have regarded with such evil forebodings',\n",
       " 'i arrived here yesterday and my first task is to assure my dear sister of my welfare and increasing confidence in the success of my undertaking',\n",
       " 'i am already far north of london and as i walk in the streets of petersburgh i feel a cold northern breeze play upon my cheeks which braces my nerves and fills me with delight',\n",
       " 'do you understand this feeling',\n",
       " 'this breeze which has travelled from the regions towards which i am advancing gives me a foretaste of those icy climes',\n",
       " 'inspirited by this wind of promise my daydreams become more fervent and vivid',\n",
       " 'i try in vain to be persuaded that the pole is the seat of frost and desolation it ever presents itself to my imagination as the region of beauty and delight',\n",
       " 'there margaret the sun is for ever visible its broad disk just skirting the horizon and diffusing a perpetual splendour']"
      ]
     },
     "execution_count": 27,
     "metadata": {},
     "output_type": "execute_result"
    }
   ],
   "source": [
    "punctuation = string.punctuation + '“”—' +  '\\n\\t\\r' # строка со всеми пунктуационными символами и специальными строковыми сиволами\n",
    "\n",
    "def нижний_регистр__удаление_пунктуации_____для_цикла(предложение):\n",
    "    предложение = предложение.lower()\n",
    "    предложение = ''.join([token for token in предложение if token not in punctuation])\n",
    "    return предложение\n",
    "\n",
    "список_предложений = [нижний_регистр__удаление_пунктуации_____для_цикла(предложение)\n",
    "                      for предложение in список_предложений]\n",
    "\n",
    "список_предложений[:10]"
   ]
  },
  {
   "cell_type": "markdown",
   "metadata": {},
   "source": [
    "# Разбиваем предложения на токены с учетом модели CBOW (длина предложения должна быть не менее 5: 2 левых + 2 правых + 1 центральное)"
   ]
  },
  {
   "cell_type": "code",
   "execution_count": 28,
   "metadata": {},
   "outputs": [
    {
     "data": {
      "text/plain": [
       "[['letter', '1to', 'mrs', 'saville', 'england'],\n",
       " ['st', 'petersburgh', 'dec', '11th', '17']]"
      ]
     },
     "execution_count": 28,
     "metadata": {},
     "output_type": "execute_result"
    }
   ],
   "source": [
    "список_предложений_в_виде_токенов = [предложение.split(' ') for предложение in список_предложений if len(предложение.split(' ')) >= 5]\n",
    "список_предложений_в_виде_токенов[:2]"
   ]
  },
  {
   "cell_type": "markdown",
   "metadata": {},
   "source": [
    "# Создаем датасет + перемешиваем"
   ]
  },
  {
   "cell_type": "code",
   "execution_count": 29,
   "metadata": {},
   "outputs": [
    {
     "data": {
      "text/html": [
       "<div>\n",
       "<style scoped>\n",
       "    .dataframe tbody tr th:only-of-type {\n",
       "        vertical-align: middle;\n",
       "    }\n",
       "\n",
       "    .dataframe tbody tr th {\n",
       "        vertical-align: top;\n",
       "    }\n",
       "\n",
       "    .dataframe thead th {\n",
       "        text-align: right;\n",
       "    }\n",
       "</style>\n",
       "<table border=\"1\" class=\"dataframe\">\n",
       "  <thead>\n",
       "    <tr style=\"text-align: right;\">\n",
       "      <th></th>\n",
       "      <th>левый блок</th>\n",
       "      <th>правый блок</th>\n",
       "      <th>метка (слово посередине)</th>\n",
       "    </tr>\n",
       "  </thead>\n",
       "  <tbody>\n",
       "    <tr>\n",
       "      <th>0</th>\n",
       "      <td>resolved at</td>\n",
       "      <td>not to</td>\n",
       "      <td>least</td>\n",
       "    </tr>\n",
       "    <tr>\n",
       "      <th>1</th>\n",
       "      <td>anticipated with</td>\n",
       "      <td>joy so</td>\n",
       "      <td>such</td>\n",
       "    </tr>\n",
       "    <tr>\n",
       "      <th>2</th>\n",
       "      <td>that the</td>\n",
       "      <td>of attending</td>\n",
       "      <td>task</td>\n",
       "    </tr>\n",
       "    <tr>\n",
       "      <th>3</th>\n",
       "      <td>my infancy</td>\n",
       "      <td>was imbued</td>\n",
       "      <td>i</td>\n",
       "    </tr>\n",
       "    <tr>\n",
       "      <th>4</th>\n",
       "      <td>i was</td>\n",
       "      <td>led by</td>\n",
       "      <td>easily</td>\n",
       "    </tr>\n",
       "  </tbody>\n",
       "</table>\n",
       "</div>"
      ],
      "text/plain": [
       "         левый блок   правый блок метка (слово посередине)\n",
       "0       resolved at        not to                    least\n",
       "1  anticipated with        joy so                     such\n",
       "2          that the  of attending                     task\n",
       "3        my infancy    was imbued                        i\n",
       "4             i was        led by                   easily"
      ]
     },
     "execution_count": 29,
     "metadata": {},
     "output_type": "execute_result"
    }
   ],
   "source": [
    "data = {\n",
    "    'левый блок': [], \n",
    "    'правый блок':[], \n",
    "    'метка (слово посередине)':[]\n",
    "}\n",
    "\n",
    "\n",
    "все_используемые_токены_из_текста = ''\n",
    "for предложение_в_виде_токенов in список_предложений_в_виде_токенов:\n",
    "    for i in range(5):\n",
    "        корпус_из_5_слов = предложение_в_виде_токенов[i : i+5]\n",
    "        if len(корпус_из_5_слов) > 4:\n",
    "            все_используемые_токены_из_текста += ' '.join(корпус_из_5_слов) + ' '\n",
    "            data['левый блок'].append(' '.join(корпус_из_5_слов[0:2]))\n",
    "            data['правый блок'].append(' '.join(корпус_из_5_слов[3:5]))\n",
    "            data['метка (слово посередине)'].append(корпус_из_5_слов[2])\n",
    "\n",
    "# фрейм\n",
    "df = pd.DataFrame(data=data).sample(frac=1, random_state = RANDOM_SATE).reset_index(drop=True)\n",
    "# все уникальные токены\n",
    "все_используемые_токены_из_текста = list(set(все_используемые_токены_из_текста.split(' ')))\n",
    "\n",
    "df.head()"
   ]
  },
  {
   "cell_type": "code",
   "execution_count": 30,
   "metadata": {},
   "outputs": [
    {
     "name": "stdout",
     "output_type": "stream",
     "text": [
      "<class 'pandas.core.frame.DataFrame'>\n",
      "RangeIndex: 14089 entries, 0 to 14088\n",
      "Data columns (total 3 columns):\n",
      " #   Column                    Non-Null Count  Dtype \n",
      "---  ------                    --------------  ----- \n",
      " 0   левый блок                14089 non-null  object\n",
      " 1   правый блок               14089 non-null  object\n",
      " 2   метка (слово посередине)  14089 non-null  object\n",
      "dtypes: object(3)\n",
      "memory usage: 330.3+ KB\n"
     ]
    }
   ],
   "source": [
    "df.info()"
   ]
  },
  {
   "cell_type": "markdown",
   "metadata": {},
   "source": [
    "# Создаем колонку split (train / val / test)"
   ]
  },
  {
   "cell_type": "code",
   "execution_count": 31,
   "metadata": {},
   "outputs": [
    {
     "name": "stdout",
     "output_type": "stream",
     "text": [
      "Размерность тренировочного фрейма: 9862\n",
      "Размерность валидационного фрейма: 2113\n",
      "Размерность тестового фрейма: 2114\n"
     ]
    },
    {
     "data": {
      "text/html": [
       "<div>\n",
       "<style scoped>\n",
       "    .dataframe tbody tr th:only-of-type {\n",
       "        vertical-align: middle;\n",
       "    }\n",
       "\n",
       "    .dataframe tbody tr th {\n",
       "        vertical-align: top;\n",
       "    }\n",
       "\n",
       "    .dataframe thead th {\n",
       "        text-align: right;\n",
       "    }\n",
       "</style>\n",
       "<table border=\"1\" class=\"dataframe\">\n",
       "  <thead>\n",
       "    <tr style=\"text-align: right;\">\n",
       "      <th></th>\n",
       "      <th>левый блок</th>\n",
       "      <th>правый блок</th>\n",
       "      <th>метка (слово посередине)</th>\n",
       "      <th>split</th>\n",
       "    </tr>\n",
       "  </thead>\n",
       "  <tbody>\n",
       "    <tr>\n",
       "      <th>0</th>\n",
       "      <td>resolved at</td>\n",
       "      <td>not to</td>\n",
       "      <td>least</td>\n",
       "      <td>val</td>\n",
       "    </tr>\n",
       "    <tr>\n",
       "      <th>1</th>\n",
       "      <td>anticipated with</td>\n",
       "      <td>joy so</td>\n",
       "      <td>such</td>\n",
       "      <td>train</td>\n",
       "    </tr>\n",
       "    <tr>\n",
       "      <th>2</th>\n",
       "      <td>that the</td>\n",
       "      <td>of attending</td>\n",
       "      <td>task</td>\n",
       "      <td>train</td>\n",
       "    </tr>\n",
       "    <tr>\n",
       "      <th>3</th>\n",
       "      <td>my infancy</td>\n",
       "      <td>was imbued</td>\n",
       "      <td>i</td>\n",
       "      <td>val</td>\n",
       "    </tr>\n",
       "    <tr>\n",
       "      <th>4</th>\n",
       "      <td>i was</td>\n",
       "      <td>led by</td>\n",
       "      <td>easily</td>\n",
       "      <td>train</td>\n",
       "    </tr>\n",
       "  </tbody>\n",
       "</table>\n",
       "</div>"
      ],
      "text/plain": [
       "         левый блок   правый блок метка (слово посередине)  split\n",
       "0       resolved at        not to                    least    val\n",
       "1  anticipated with        joy so                     such  train\n",
       "2          that the  of attending                     task  train\n",
       "3        my infancy    was imbued                        i    val\n",
       "4             i was        led by                   easily  train"
      ]
     },
     "execution_count": 31,
     "metadata": {},
     "output_type": "execute_result"
    }
   ],
   "source": [
    "train, test = train_test_split(df.index.to_list(),\n",
    "                               test_size = 0.3,\n",
    "                               random_state = RANDOM_SATE)\n",
    "val, test = train_test_split(test,\n",
    "                             test_size = 0.5,\n",
    "                             random_state = RANDOM_SATE)\n",
    "\n",
    "print('Размерность тренировочного фрейма: {}'.format(len(train)))\n",
    "print('Размерность валидационного фрейма: {}'.format(len(val)))\n",
    "print('Размерность тестового фрейма: {}'.format(len(test)))\n",
    "\n",
    "def label_column(x):\n",
    "    if x in train:\n",
    "        return 'train'\n",
    "    if x in test:\n",
    "        return 'test'\n",
    "    else:\n",
    "        return 'val'\n",
    "\n",
    "df = df.reset_index()    \n",
    "df['split'] = df['index'].map(lambda x: label_column(x))\n",
    "df = df.drop('index', axis = 1)\n",
    "df.head()\n"
   ]
  },
  {
   "cell_type": "code",
   "execution_count": 32,
   "metadata": {},
   "outputs": [
    {
     "data": {
      "text/plain": [
       "split\n",
       "train    9862\n",
       "test     2114\n",
       "val      2113\n",
       "Name: count, dtype: int64"
      ]
     },
     "execution_count": 32,
     "metadata": {},
     "output_type": "execute_result"
    }
   ],
   "source": [
    "df['split'].value_counts()"
   ]
  },
  {
   "cell_type": "markdown",
   "metadata": {},
   "source": [
    "# Vocabulary"
   ]
  },
  {
   "cell_type": "code",
   "execution_count": 33,
   "metadata": {},
   "outputs": [],
   "source": [
    "class Frank_Vocabulary(object):\n",
    "    def __init__(self, df):\n",
    "         self.df = df\n",
    "\n",
    "    def create_vocab(self):\n",
    "            data_to_vocab = self.df[self.df['split'] == 'train']\n",
    "            full_train_stroka = ''\n",
    "            for index, row in data_to_vocab.iterrows():\n",
    "                full_train_stroka += ' ' + row['левый блок'] + ' ' + row['правый блок'] + ' ' + row['метка (слово посередине)']\n",
    "\n",
    "            spisok_tokenov = sorted(full_train_stroka.split(' ')[1:])\n",
    "            vocab_token_index = Vocabulary(spisok_tokenov, unk_cutoff = 2)\n",
    "            vocab_token_index = list(vocab_token_index)\n",
    "            vocab_token_index.insert(-1, '<MASK>')\n",
    "            self.vocab_token_index = dict(zip(vocab_token_index,\n",
    "                                              [int(i) for i in np.arange(0, len(vocab_token_index))]))\n",
    "\n",
    "            self.vocab_index_token = {}\n",
    "            for token, index in self.vocab_token_index.items():\n",
    "                self.vocab_index_token[index] = token\n",
    "            print('Длина словаря вместе с <MASK> и <UNK> токенами: {}'.format(len(self.vocab_token_index)))\n",
    "\n",
    "            return self.vocab_token_index, self.vocab_index_token\n",
    "\n",
    "\n",
    "    def save_vocab(self):\n",
    "        with open('vocab_token_to_index.json', 'w') as file:\n",
    "                    json.dump(self.vocab_token_index, file)\n",
    "        with open('vocab_index_to_token.json', 'w') as file:\n",
    "                    json.dump(self.vocab_index_token, file)\n",
    "        print('Словари сохранены в открытой директории')\n",
    "            \n",
    "    def return_index(self, token):\n",
    "           return self.vocab_token_index.get(token)\n",
    "    \n",
    "    def return_token(self, index):\n",
    "           return self.vocab_token_index.get(index)\n",
    "    \n",
    "    def len(self):\n",
    "           return len(self.vocab_token_index)"
   ]
  },
  {
   "cell_type": "markdown",
   "metadata": {},
   "source": [
    "# Dataset"
   ]
  },
  {
   "cell_type": "code",
   "execution_count": 34,
   "metadata": {},
   "outputs": [],
   "source": [
    "class FrankDataset(Dataset):\n",
    "    def __init__(self, df, mode):\n",
    "        \"\"\"\n",
    "        Args:\n",
    "            df (pandas.DataFrame): фрейм\n",
    "            mode (str): train / val / test\n",
    "\n",
    "        \"\"\"\n",
    "        self.df_mode = df[df.split == mode]\n",
    "        self.size_df = len(self.df_mode)\n",
    "        self.vocab = Frank_Vocabulary(self.df_mode)\n",
    "        if mode != 'train':\n",
    "            with open('vocab_token_to_index.json', 'r') as file:\n",
    "                self.vocab_token_index = json.load(file)\n",
    "            with open('vocab_index_to_token.json', 'r') as file:\n",
    "                self.vocab_index_token = json.load(file)\n",
    "        else:\n",
    "            self.vocab_token_index, self.vocab_index_token = self.vocab.create_vocab()\n",
    "            self.vocab.save_vocab()\n",
    "    \n",
    "    def __len__(self):\n",
    "        return self.size_df\n",
    "\n",
    "    def __getitem__(self, index):\n",
    "\n",
    "        row = self.df_mode.iloc[index]\n",
    "        unk_index = self.vocab_token_index.get('<UNK>')\n",
    "\n",
    "        label = self.vocab_token_index.get(row['метка (слово посередине)'], unk_index)\n",
    "        row = row['левый блок'] + ' ' +\\\n",
    "              '<MASK>' + ' ' +\\\n",
    "              row['правый блок']\n",
    "        token_list = row.split(' ')\n",
    "        \n",
    "        features = [self.vocab_token_index.get(token_str, unk_index) for token_str in token_list]\n",
    "\n",
    "        return np.array(features),  np.array(label)\n"
   ]
  },
  {
   "cell_type": "markdown",
   "metadata": {},
   "source": [
    "# Model"
   ]
  },
  {
   "cell_type": "code",
   "execution_count": 35,
   "metadata": {},
   "outputs": [],
   "source": [
    "class WordPredictionModel(nn.Module):\n",
    "    def __init__(self, vocab_size, embedding_dim):\n",
    "        super(WordPredictionModel, self).__init__()\n",
    "        self.embedding = nn.Embedding(vocab_size, embedding_dim)\n",
    "        self.fc = nn.Linear(embedding_dim * 5, vocab_size)\n",
    "\n",
    "    def forward(self, input_data):\n",
    "        embedded_input = self.embedding(input_data)\n",
    "        flattened = embedded_input.view(input_data.size(0), -1)  # Выравнивание для полносвязного слоя\n",
    "        output = self.fc(flattened)  # Предсказание слова в центре контекста\n",
    "        \n",
    "        return output"
   ]
  },
  {
   "cell_type": "markdown",
   "metadata": {},
   "source": [
    "# Функция L1_L2 регуляризации"
   ]
  },
  {
   "cell_type": "code",
   "execution_count": 36,
   "metadata": {},
   "outputs": [],
   "source": [
    "def loss_with_l1_or_l2_regulizer(\n",
    "        \n",
    "        model,\n",
    "        type, # Здесь могут быть 3 вида : 'l1', 'l2', 'l1_l2' \n",
    "        l_lambda, # 0.001\n",
    "        loss_by_fn):\n",
    "    \n",
    "    if type == 'l2':\n",
    "        l_norm = sum(p.pow(2.0).sum() for p in model.parameters())\n",
    "\n",
    "    if type == 'l1':\n",
    "        l_norm = sum(p.abs().sum() for p in model.parameters())\n",
    "\n",
    "    if type == 'l1_l2':\n",
    "        l_norm = sum((p.abs() + p.pow(2.0)).sum() for p in model.parameters())\n",
    "    \n",
    "    loss_plus_reg = loss_by_fn + l_lambda * l_norm\n",
    "    return loss_plus_reg"
   ]
  },
  {
   "cell_type": "markdown",
   "metadata": {},
   "source": [
    "# Training loop"
   ]
  },
  {
   "cell_type": "code",
   "execution_count": 37,
   "metadata": {},
   "outputs": [],
   "source": [
    "def training_loop(\n",
    "        epoches,\n",
    "        model,\n",
    "        optimizer,\n",
    "        scheduler_append,\n",
    "        scheduler,\n",
    "        loss_fn,\n",
    "        train_dataloader,\n",
    "        val_dataloader,\n",
    "\n",
    "        # regulizer\n",
    "        regulizer,\n",
    "        reg_type,\n",
    "        \n",
    "        # stop settings\n",
    "        stop_mode,\n",
    "        each__X__epoch,\n",
    "        stop_diff_value,\n",
    "\n",
    "        # verbose\n",
    "        verbose_epoch\n",
    "        ):\n",
    "    \n",
    "    loss_train_list = []\n",
    "    loss_val_list = []\n",
    "    acc_train_list = []\n",
    "    acc_val_list = []\n",
    "\n",
    "    model = model.to(device)\n",
    "\n",
    "    for epoch in range(1, epoches+1):\n",
    "            \n",
    "            start_time = time.time()\n",
    "            loss_train = 0\n",
    "            loss_val = 0\n",
    "\n",
    "            correct_train_acc = 0\n",
    "            correct_val_acc = 0\n",
    "            total_train_acc = 0\n",
    "            total_val_acc = 0\n",
    "\n",
    "            for features, labels in train_dataloader:\n",
    "                \n",
    "                model.train()\n",
    "                features = features.to(device)\n",
    "                labels = labels.type(torch.LongTensor).to(device)\n",
    "                outputs = model(features)\n",
    "\n",
    "                # Тренировочный потери\n",
    "                loss = loss_fn(outputs, labels)\n",
    "                \n",
    "                if regulizer:\n",
    "                        loss = loss_with_l1_or_l2_regulizer(model = model,\n",
    "                                                        type = reg_type,\n",
    "                                                        l_lambda = 0.001,\n",
    "                                                        loss_by_fn = loss)\n",
    "                \n",
    "                optimizer.zero_grad()\n",
    "                loss.backward()\n",
    "                optimizer.step()\n",
    "                \n",
    "                loss_train += loss.item()\n",
    "                \n",
    "                ########  Расчет тренировочной accuracy  #########\n",
    "                outputs = torch.softmax(outputs, dim = 1)\n",
    "                _ , predict_labels = torch.max(outputs,1)\n",
    "                total_train_acc += labels.size(0)\n",
    "                correct_train_acc += (predict_labels == labels).sum().item()\n",
    "                ##################################################\n",
    "\n",
    "            mean_epoch_loss = loss_train/len(train_dataloader)\n",
    "            loss_train_list.append(mean_epoch_loss)\n",
    "            train_acc = correct_train_acc / total_train_acc\n",
    "            acc_train_list.append(train_acc)\n",
    "            # Проверочный этап\n",
    "            model.eval()\n",
    "            with torch.no_grad():\n",
    "                                for features, labels in val_dataloader:\n",
    "                                        features = features.to(device)\n",
    "                                        labels = labels.type(torch.LongTensor).to(device)\n",
    "                                        outputs = model(features)\n",
    "                                        loss_on_val = loss_fn(outputs, labels)\n",
    "                                        loss_val += loss_on_val.item()\n",
    "                                        \n",
    "                                        ########  Расчет валидационной accuracy  #########\n",
    "                                        outputs = torch.softmax(outputs, dim = 1)\n",
    "                                        _ , predict_labels = torch.max(outputs,1)\n",
    "                                        total_val_acc += labels.size(0)\n",
    "                                        correct_val_acc += (predict_labels == labels).sum().item()\n",
    "                                        ##################################################\n",
    "\n",
    "                                mean_epoch_loss_val = loss_val / len(val_dataloader)\n",
    "                                loss_val_list.append(mean_epoch_loss_val)\n",
    "                                val_acc = correct_val_acc / total_val_acc\n",
    "                                acc_val_list.append(val_acc)\n",
    "                                \n",
    "            # EARLY STOPPING #######################################\n",
    "            if stop_mode:\n",
    "                if len(loss_train_list) >= each__X__epoch:\n",
    "                        past = loss_train_list[-each__X__epoch]\n",
    "                        now = loss_train_list[-1]\n",
    "                        if (past <= now):\n",
    "\n",
    "                                print('________________________Ранняя остановка (тренировочные проблемы)_________________________________________________')\n",
    "                                print('На {} эпохе пришлось остановить обучение'.format(epoch))\n",
    "                                print('loss_{}_эпохи >= loss_{}_эпохи'.format(epoch,\n",
    "                                                                              epoch - each__X__epoch))\n",
    "                                break\n",
    "                        if (past - now) < stop_diff_value:\n",
    "                                print('________________________Ранняя остановка (тренировочные проблемы)_________________________________________________')\n",
    "                                print('На {} эпохе пришлось остановить обучение'.format(epoch))\n",
    "                                print('loss_{}_эпохи - loss_{}_эпохи < {}'.format(epoch - each__X__epoch,\n",
    "                                                                                  epoch,\n",
    "                                                                                  stop_diff_value))\n",
    "                                break\n",
    "                if len(loss_val_list) >= each__X__epoch:\n",
    "                        past = loss_val_list[-each__X__epoch]\n",
    "                        now = loss_val_list[-1]\n",
    "                        if (past <= now):\n",
    "                                print('________________________Ранняя остановка (валидационные проблемы)_________________________________________________')\n",
    "                                print('На {} эпохе пришлось остановить обучение'.format(epoch))\n",
    "                                print('loss_{}_эпохи >= loss_{}_эпохи'.format(epoch,\n",
    "                                                                              epoch - each__X__epoch))\n",
    "                                break\n",
    "                        if (past - now) < stop_diff_value:\n",
    "                                print('________________________Ранняя остановка (валидационные проблемы)_________________________________________________')\n",
    "                                print('На {} эпохе пришлось остановить обучение'.format(epoch))\n",
    "                                print('loss_{}_эпохи - loss_{}_эпохи < {}'.format(epoch - each__X__epoch,\n",
    "                                                                                  epoch,\n",
    "                                                                                  stop_diff_value))\n",
    "                                break\n",
    "            ##############################################################\n",
    "            if scheduler_append:\n",
    "                scheduler.step(mean_epoch_loss_val)\n",
    "            ##############################################################\n",
    "            end_time = time.time()\n",
    "            epoch_time = end_time - start_time\n",
    "            расчетное_время_выполнения_цикла = (epoch_time*epoches) / 60\n",
    "            ############ VERBOSE #########################################\n",
    "            if epoch ==1:\n",
    "                   print('Расчетное время выполнения всего цикла {:.3f} минут'.format(расчетное_время_выполнения_цикла))            \n",
    "            if epoch == 1 or epoch % verbose_epoch == 0:\n",
    "                print(\n",
    "                        'Epoch {:5}/{:5} || time: {:.3f} || train loss: {:.3f} || val_loss: {:.3f} || train accuracy: {:.3f} || val accuracy: {:.3f}'\n",
    "                        .format(epoch,\n",
    "                                epoches,\n",
    "                                epoch_time,\n",
    "                                mean_epoch_loss,\n",
    "                                mean_epoch_loss_val,\n",
    "                                train_acc,\n",
    "                                val_acc\n",
    "                                )     \n",
    "                      )\n",
    "            ################################################################\n",
    "    ###### PLOTTING #############################################################################\n",
    "    sns.lineplot(x = np.arange(1, epoch+1),\n",
    "                 y = loss_train_list,\n",
    "                 label = 'train')\n",
    "    sns.lineplot(x = np.arange(1, epoch+1),\n",
    "                 y = loss_val_list,\n",
    "                 label = 'val')\n",
    "    plt.title('Потери от эпох: epoches: {}'.format(epoches))\n",
    "    plt.xlabel('эпохи')\n",
    "    plt.ylabel('loss')\n",
    "    plt.legend()\n",
    "    plt.grid()\n",
    "    plt.show()\n",
    "\n",
    "    sns.lineplot(x = np.arange(1, epoch+1),\n",
    "                 y = acc_train_list,\n",
    "                 label = 'train')\n",
    "    sns.lineplot(x = np.arange(1, epoch+1),\n",
    "                 y = acc_val_list,\n",
    "                 label = 'val')\n",
    "    \n",
    "    plt.xlabel('эпохи')\n",
    "    plt.ylabel('accuracy')\n",
    "    plt.title('accuracy per epoch'.format(epoches))\n",
    "    plt.legend()\n",
    "    plt.grid()\n",
    "    plt.show()\n",
    "    \n",
    "    return model"
   ]
  },
  {
   "cell_type": "code",
   "execution_count": 38,
   "metadata": {},
   "outputs": [
    {
     "name": "stdout",
     "output_type": "stream",
     "text": [
      "Длина словаря вместе с <MASK> и <UNK> токенами: 3046\n",
      "Длина словаря вместе с <MASK> и <UNK> токенами: 3046\n",
      "Словари сохранены в открытой директории\n"
     ]
    }
   ],
   "source": [
    "vocab_class = Frank_Vocabulary(df)\n",
    "vocab_class.create_vocab()\n",
    "\n",
    "vocabulary_size = vocab_class.len()\n",
    "embedding_dim = 50\n",
    "\n",
    "train_dataloader = DataLoader(dataset = FrankDataset(df = df,\n",
    "                                                     mode = 'train'),\n",
    "                              batch_size = 128,\n",
    "                              shuffle = False)\n",
    "\n",
    "\n",
    "val_dataloader = DataLoader(dataset = FrankDataset(df = df,\n",
    "                                                   mode = 'val'),\n",
    "                            batch_size = 128,\n",
    "                            shuffle = False)"
   ]
  },
  {
   "cell_type": "markdown",
   "metadata": {},
   "source": [
    "# Проверка работоспособности модели"
   ]
  },
  {
   "cell_type": "code",
   "execution_count": 39,
   "metadata": {},
   "outputs": [
    {
     "data": {
      "text/plain": [
       "tensor([[ 0.2836, -0.7168,  0.1460,  ..., -0.2210,  0.5595, -1.0355],\n",
       "        [-0.6733, -0.2207,  0.1132,  ..., -0.1055,  0.7879,  0.0996]],\n",
       "       grad_fn=<AddmmBackward0>)"
      ]
     },
     "execution_count": 39,
     "metadata": {},
     "output_type": "execute_result"
    }
   ],
   "source": [
    "model = WordPredictionModel(vocab_size = vocabulary_size,\n",
    "                            embedding_dim = embedding_dim)\n",
    "values =\\\n",
    "np.vstack((np.array(train_dataloader.dataset[0][0]),\n",
    "           np.array(train_dataloader.dataset[1][0])))\n",
    "\n",
    "outputs =\\\n",
    "model(torch.tensor(values))\n",
    "\n",
    "outputs"
   ]
  },
  {
   "cell_type": "code",
   "execution_count": 40,
   "metadata": {},
   "outputs": [
    {
     "data": {
      "text/plain": [
       "tensor([[0.0004, 0.0001, 0.0003,  ..., 0.0002, 0.0005, 0.0001],\n",
       "        [0.0001, 0.0002, 0.0003,  ..., 0.0002, 0.0006, 0.0003]],\n",
       "       grad_fn=<SoftmaxBackward0>)"
      ]
     },
     "execution_count": 40,
     "metadata": {},
     "output_type": "execute_result"
    }
   ],
   "source": [
    "softmax_predicted = torch.softmax(outputs, dim = 1)\n",
    "softmax_predicted"
   ]
  },
  {
   "cell_type": "code",
   "execution_count": 41,
   "metadata": {},
   "outputs": [
    {
     "data": {
      "text/plain": [
       "tensor([2646, 1767])"
      ]
     },
     "execution_count": 41,
     "metadata": {},
     "output_type": "execute_result"
    }
   ],
   "source": [
    "_ , idx_max = torch.max(softmax_predicted,1)\n",
    "idx_max"
   ]
  },
  {
   "cell_type": "markdown",
   "metadata": {},
   "source": [
    "# Тренировка модели"
   ]
  },
  {
   "cell_type": "code",
   "execution_count": 42,
   "metadata": {},
   "outputs": [
    {
     "name": "stdout",
     "output_type": "stream",
     "text": [
      "Длина словаря вместе с <MASK> и <UNK> токенами: 3046\n",
      "Словари сохранены в открытой директории\n",
      "Расчетное время выполнения всего цикла 60.871 минут\n",
      "Epoch     1/ 5000 || time: 0.730 || train loss: 7.088 || val_loss: 6.338 || train accuracy: 0.046 || val accuracy: 0.083\n",
      "________________________Ранняя остановка (валидационные проблемы)_________________________________________________\n",
      "На 100 эпохе пришлось остановить обучение\n",
      "loss_100_эпохи >= loss_0_эпохи\n"
     ]
    },
    {
     "data": {
      "image/png": "[encoded data removed]",
      "text/plain": [
       "<Figure size 640x480 with 1 Axes>"
      ]
     },
     "metadata": {},
     "output_type": "display_data"
    },
    {
     "data": {
      "image/png": "[encoded data removed]",
      "text/plain": [
       "<Figure size 640x480 with 1 Axes>"
      ]
     },
     "metadata": {},
     "output_type": "display_data"
    }
   ],
   "source": [
    "# %%script False\n",
    "\n",
    "vocab_size = 3240\n",
    "embedding_dim = 50\n",
    "\n",
    "\n",
    "train_dataloader = DataLoader(dataset = FrankDataset(df = df,\n",
    "                                                     mode = 'train'),\n",
    "                              batch_size = 128,\n",
    "                              drop_last = True, \n",
    "                              shuffle = False)\n",
    "\n",
    "\n",
    "val_dataloader = DataLoader(dataset = FrankDataset(df = df,\n",
    "                                                   mode = 'val'),\n",
    "                            batch_size = 128,\n",
    "                            drop_last = True,\n",
    "                            shuffle = False)\n",
    "\n",
    "# Использование модели\n",
    "model = WordPredictionModel(vocab_size, embedding_dim)\n",
    "optimizer = torch.optim.Adam(model.parameters(), lr=0.001)\n",
    "scheduler = torch.optim.lr_scheduler.ReduceLROnPlateau(optimizer, mode='min', patience = 100, factor=0.5, threshold=0.001, verbose=True)\n",
    "\n",
    "\n",
    "model =\\\n",
    "training_loop(\n",
    "    epoches = 5000,\n",
    "    model = model,\n",
    "    optimizer = optimizer,\n",
    "    scheduler_append = False,\n",
    "    scheduler = scheduler,\n",
    "    loss_fn = nn.CrossEntropyLoss(),\n",
    "    train_dataloader = train_dataloader,\n",
    "    val_dataloader = val_dataloader,\n",
    "    regulizer = False,\n",
    "    reg_type = 'l1',\n",
    "    stop_mode = True,\n",
    "    each__X__epoch = 100,\n",
    "    stop_diff_value = 0.001,\n",
    "    verbose_epoch = 300\n",
    ")\n"
   ]
  },
  {
   "cell_type": "markdown",
   "metadata": {},
   "source": [
    "# Проверка на тестовой выборке"
   ]
  },
  {
   "cell_type": "code",
   "execution_count": null,
   "metadata": {},
   "outputs": [],
   "source": [
    "test_dataset = FrankDataset(df = df,mode = 'test')\n",
    "test_dataloader = DataLoader(dataset = test_dataset,\n",
    "                             batch_size = test_dataset.size_df,\n",
    "                             shuffle = False)"
   ]
  },
  {
   "cell_type": "code",
   "execution_count": 54,
   "metadata": {},
   "outputs": [
    {
     "data": {
      "text/plain": [
       "0.14380321665089876"
      ]
     },
     "execution_count": 54,
     "metadata": {},
     "output_type": "execute_result"
    }
   ],
   "source": [
    "total_test_acc = 0\n",
    "correct_test_acc = 0\n",
    "\n",
    "model.eval()\n",
    "with torch.no_grad():\n",
    "    for features, labels in test_dataloader:\n",
    "            features = features.to(device)\n",
    "            labels = labels.type(torch.LongTensor).to(device)\n",
    "            outputs = model(features)\n",
    "            ########  Расчет валидационной accuracy  #########\n",
    "            outputs = torch.softmax(outputs, dim = 1)\n",
    "            _ , predict_labels = torch.max(outputs,1)\n",
    "            total_test_acc += labels.size(0)\n",
    "            correct_test_acc += (predict_labels == labels).sum().item()\n",
    "            ##################################################\n",
    "\n",
    "\n",
    "test_acc = correct_test_acc / total_test_acc\n",
    "test_acc"
   ]
  }
 ],
 "metadata": {
  "kernelspec": {
   "display_name": "newenv",
   "language": "python",
   "name": "python3"
  },
  "language_info": {
   "codemirror_mode": {
    "name": "ipython",
    "version": 3
   },
   "file_extension": ".py",
   "mimetype": "text/x-python",
   "name": "python",
   "nbconvert_exporter": "python",
   "pygments_lexer": "ipython3",
   "version": "3.10.13"
  }
 },
 "nbformat": 4,
 "nbformat_minor": 2
}
